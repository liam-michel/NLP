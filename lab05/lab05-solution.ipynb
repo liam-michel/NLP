{
 "cells": [
  {
   "cell_type": "markdown",
   "id": "a8bc51f4-78c8-4da1-be73-52471793417d",
   "metadata": {},
   "source": [
    "# Lab 05 - Transformers\n",
    "The lab is adopted from the [popular PyTorch sentiment analysis tutorial by bentrevett](https://github.com/bentrevett/pytorch-sentiment-analysis/blob/master/6%20-%20Transformers%20for%20Sentiment%20Analysis.ipynb).\n",
    "\n",
    "In this notebook we will be using the transformer model, first introduced in [this](https://arxiv.org/abs/1706.03762) paper. Specifically, we will be using the BERT (Bidirectional Encoder Representations from Transformers) model from [this](https://arxiv.org/abs/1810.04805) paper. \n",
    "\n",
    "Transformer models are considerably larger than anything else covered so far. As such we are going to use the [transformers library](https://github.com/huggingface/transformers) to get pre-trained transformers and use them as our embedding layers. We will freeze (not train) the transformer and only train the remainder of the model which learns from the representations produced by the transformer. In this case we will be using a multi-layer bi-directional GRU, however any model can learn from these representations.\n",
    "\n",
    "Additionally, it's important to note that transformer models like BERT come with their own pre-trained tokenizers. These tokenizers are specifically designed to work seamlessly with their respective models, ensuring that the text input is appropriately formatted before being fed into the model. This includes tokenizing the text into tokens understood by the model, adding necessary special tokens, and converting these tokens into their corresponding ID numbers from the model's vocabulary. As a result, we do not need to perform manual tokenization or vocabulary mapping steps, which significantly simplifies the preprocessing pipeline. By leveraging these integrated tokenizers, we ensure that our text data is processed in a manner that is fully compatible with the transformer model's requirements, allowing us to focus on fine-tuning the model for our specific sentiment analysis task.\n",
    "\n",
    "Furthermore, different transformer models utilize distinct tokenizers tailored to their architecture and training paradigms. For instance, models such as LLaMA (https://medium.com/@vyperius117/understanding-the-llama2-tokenizer-working-with-the-tokenizer-locally-using-transformers-2e0f9e69d786), GPT-4(https://www.youtube.com/watch?v=zduSFxRajkE&si=qXbrvMZSqPlwdKT6), and Mistral(https://keras.io/api/keras_nlp/models/mistral/mistral_tokenizer/) each come with their specialized tokenizers. One notable tokenizer that is widely used across various models is the SentencePiece tokenizer. Unlike traditional tokenizers that operate on the word level and may struggle with languages without clear word boundaries, SentencePiece tokenizes text at the subword level. This approach allows for a more flexible handling of unknown words, better preservation of linguistic information, and improved model performance across diverse languages. SentencePiece does not rely on pre-tokenization and works directly on the raw text, making it highly versatile and effective for a wide range of NLP tasks."
   ]
  },
  {
   "cell_type": "code",
   "execution_count": 6,
   "id": "a58140ae-c3d5-492a-ad88-4ddb0a86efdc",
   "metadata": {},
   "outputs": [
    {
     "name": "stdout",
     "output_type": "stream",
     "text": [
      "Looking in links: https://download.pytorch.org/whl/cu113/torch_stable.html\n",
      "Requirement already satisfied: torch==1.11.0+cu113 in c:\\users\\usind\\anaconda3\\envs\\nlp2022\\lib\\site-packages (1.11.0+cu113)\n",
      "Requirement already satisfied: torchdata==0.3.0 in c:\\users\\usind\\anaconda3\\envs\\nlp2022\\lib\\site-packages (0.3.0)\n",
      "Requirement already satisfied: torchtext==0.12.0 in c:\\users\\usind\\anaconda3\\envs\\nlp2022\\lib\\site-packages (0.12.0)\n",
      "Requirement already satisfied: typing-extensions in c:\\users\\usind\\anaconda3\\envs\\nlp2022\\lib\\site-packages (from torch==1.11.0+cu113) (4.5.0)\n",
      "Requirement already satisfied: urllib3>=1.25 in c:\\users\\usind\\anaconda3\\envs\\nlp2022\\lib\\site-packages (from torchdata==0.3.0) (1.26.14)\n",
      "Requirement already satisfied: requests in c:\\users\\usind\\anaconda3\\envs\\nlp2022\\lib\\site-packages (from torchdata==0.3.0) (2.28.2)\n",
      "Requirement already satisfied: tqdm in c:\\users\\usind\\anaconda3\\envs\\nlp2022\\lib\\site-packages (from torchtext==0.12.0) (4.65.0)\n",
      "Requirement already satisfied: numpy in c:\\users\\usind\\anaconda3\\envs\\nlp2022\\lib\\site-packages (from torchtext==0.12.0) (1.24.2)\n",
      "Requirement already satisfied: charset-normalizer<4,>=2 in c:\\users\\usind\\anaconda3\\envs\\nlp2022\\lib\\site-packages (from requests->torchdata==0.3.0) (3.0.1)\n",
      "Requirement already satisfied: idna<4,>=2.5 in c:\\users\\usind\\anaconda3\\envs\\nlp2022\\lib\\site-packages (from requests->torchdata==0.3.0) (3.4)\n",
      "Requirement already satisfied: certifi>=2017.4.17 in c:\\users\\usind\\anaconda3\\envs\\nlp2022\\lib\\site-packages (from requests->torchdata==0.3.0) (2022.12.7)\n",
      "Requirement already satisfied: colorama in c:\\users\\usind\\appdata\\roaming\\python\\python39\\site-packages (from tqdm->torchtext==0.12.0) (0.4.6)\n",
      "Note: you may need to restart the kernel to use updated packages.\n",
      "Requirement already satisfied: ipywidgets in c:\\users\\usind\\anaconda3\\envs\\nlp2022\\lib\\site-packages (8.0.5)Note: you may need to restart the kernel to use updated packages.\n",
      "\n",
      "Requirement already satisfied: transformers in c:\\users\\usind\\anaconda3\\envs\\nlp2022\\lib\\site-packages (4.26.1)\n",
      "Requirement already satisfied: tqdm in c:\\users\\usind\\anaconda3\\envs\\nlp2022\\lib\\site-packages (4.65.0)\n",
      "Requirement already satisfied: traitlets>=4.3.1 in c:\\users\\usind\\appdata\\roaming\\python\\python39\\site-packages (from ipywidgets) (5.9.0)\n",
      "Requirement already satisfied: jupyterlab-widgets~=3.0 in c:\\users\\usind\\anaconda3\\envs\\nlp2022\\lib\\site-packages (from ipywidgets) (3.0.6)\n",
      "Requirement already satisfied: widgetsnbextension~=4.0 in c:\\users\\usind\\anaconda3\\envs\\nlp2022\\lib\\site-packages (from ipywidgets) (4.0.6)\n",
      "Requirement already satisfied: ipython>=6.1.0 in c:\\users\\usind\\appdata\\roaming\\python\\python39\\site-packages (from ipywidgets) (8.10.0)\n",
      "Requirement already satisfied: packaging>=20.0 in c:\\users\\usind\\appdata\\roaming\\python\\python39\\site-packages (from transformers) (23.0)\n",
      "Requirement already satisfied: regex!=2019.12.17 in c:\\users\\usind\\anaconda3\\envs\\nlp2022\\lib\\site-packages (from transformers) (2022.10.31)\n",
      "Requirement already satisfied: huggingface-hub<1.0,>=0.11.0 in c:\\users\\usind\\anaconda3\\envs\\nlp2022\\lib\\site-packages (from transformers) (0.12.1)\n",
      "Requirement already satisfied: requests in c:\\users\\usind\\anaconda3\\envs\\nlp2022\\lib\\site-packages (from transformers) (2.28.2)\n",
      "Requirement already satisfied: pyyaml>=5.1 in c:\\users\\usind\\anaconda3\\envs\\nlp2022\\lib\\site-packages (from transformers) (6.0)\n",
      "Requirement already satisfied: filelock in c:\\users\\usind\\anaconda3\\envs\\nlp2022\\lib\\site-packages (from transformers) (3.12.0)\n",
      "Requirement already satisfied: numpy>=1.17 in c:\\users\\usind\\anaconda3\\envs\\nlp2022\\lib\\site-packages (from transformers) (1.24.2)\n",
      "Requirement already satisfied: tokenizers!=0.11.3,<0.14,>=0.11.1 in c:\\users\\usind\\anaconda3\\envs\\nlp2022\\lib\\site-packages (from transformers) (0.13.2)\n",
      "Requirement already satisfied: colorama in c:\\users\\usind\\appdata\\roaming\\python\\python39\\site-packages (from tqdm) (0.4.6)\n",
      "Requirement already satisfied: typing-extensions>=3.7.4.3 in c:\\users\\usind\\anaconda3\\envs\\nlp2022\\lib\\site-packages (from huggingface-hub<1.0,>=0.11.0->transformers) (4.5.0)\n",
      "Requirement already satisfied: jedi>=0.16 in c:\\users\\usind\\appdata\\roaming\\python\\python39\\site-packages (from ipython>=6.1.0->ipywidgets) (0.18.2)\n",
      "Requirement already satisfied: pickleshare in c:\\users\\usind\\appdata\\roaming\\python\\python39\\site-packages (from ipython>=6.1.0->ipywidgets) (0.7.5)\n",
      "Requirement already satisfied: decorator in c:\\users\\usind\\appdata\\roaming\\python\\python39\\site-packages (from ipython>=6.1.0->ipywidgets) (5.1.1)\n",
      "Requirement already satisfied: backcall in c:\\users\\usind\\appdata\\roaming\\python\\python39\\site-packages (from ipython>=6.1.0->ipywidgets) (0.2.0)\n",
      "Requirement already satisfied: stack-data in c:\\users\\usind\\appdata\\roaming\\python\\python39\\site-packages (from ipython>=6.1.0->ipywidgets) (0.6.2)\n",
      "Requirement already satisfied: pygments>=2.4.0 in c:\\users\\usind\\appdata\\roaming\\python\\python39\\site-packages (from ipython>=6.1.0->ipywidgets) (2.14.0)\n",
      "Requirement already satisfied: matplotlib-inline in c:\\users\\usind\\appdata\\roaming\\python\\python39\\site-packages (from ipython>=6.1.0->ipywidgets) (0.1.6)\n",
      "Requirement already satisfied: prompt-toolkit<3.1.0,>=3.0.30 in c:\\users\\usind\\appdata\\roaming\\python\\python39\\site-packages (from ipython>=6.1.0->ipywidgets) (3.0.36)\n",
      "Requirement already satisfied: certifi>=2017.4.17 in c:\\users\\usind\\anaconda3\\envs\\nlp2022\\lib\\site-packages (from requests->transformers) (2022.12.7)\n",
      "Requirement already satisfied: idna<4,>=2.5 in c:\\users\\usind\\anaconda3\\envs\\nlp2022\\lib\\site-packages (from requests->transformers) (3.4)\n",
      "Requirement already satisfied: charset-normalizer<4,>=2 in c:\\users\\usind\\anaconda3\\envs\\nlp2022\\lib\\site-packages (from requests->transformers) (3.0.1)\n",
      "Requirement already satisfied: urllib3<1.27,>=1.21.1 in c:\\users\\usind\\anaconda3\\envs\\nlp2022\\lib\\site-packages (from requests->transformers) (1.26.14)\n",
      "Requirement already satisfied: parso<0.9.0,>=0.8.0 in c:\\users\\usind\\appdata\\roaming\\python\\python39\\site-packages (from jedi>=0.16->ipython>=6.1.0->ipywidgets) (0.8.3)\n",
      "Requirement already satisfied: wcwidth in c:\\users\\usind\\appdata\\roaming\\python\\python39\\site-packages (from prompt-toolkit<3.1.0,>=3.0.30->ipython>=6.1.0->ipywidgets) (0.2.6)\n",
      "Requirement already satisfied: asttokens>=2.1.0 in c:\\users\\usind\\appdata\\roaming\\python\\python39\\site-packages (from stack-data->ipython>=6.1.0->ipywidgets) (2.2.1)\n",
      "Requirement already satisfied: pure-eval in c:\\users\\usind\\appdata\\roaming\\python\\python39\\site-packages (from stack-data->ipython>=6.1.0->ipywidgets) (0.2.2)\n",
      "Requirement already satisfied: executing>=1.2.0 in c:\\users\\usind\\appdata\\roaming\\python\\python39\\site-packages (from stack-data->ipython>=6.1.0->ipywidgets) (1.2.0)\n",
      "Requirement already satisfied: six in c:\\users\\usind\\appdata\\roaming\\python\\python39\\site-packages (from asttokens>=2.1.0->stack-data->ipython>=6.1.0->ipywidgets) (1.16.0)\n"
     ]
    }
   ],
   "source": [
    "# Install dependencies\n",
    "%pip install torch==1.11.0+cu113 torchdata==0.3.0 torchtext==0.12.0 -f https://download.pytorch.org/whl/cu113/torch_stable.html\n",
    "%pip install ipywidgets transformers tqdm"
   ]
  },
  {
   "cell_type": "markdown",
   "id": "1db96ba8-b280-4351-b1da-979867934ddc",
   "metadata": {},
   "source": [
    "## Preparing Data\n",
    "\n",
    "First, as always, let's set the random seeds for deterministic results."
   ]
  },
  {
   "cell_type": "code",
   "execution_count": null,
   "id": "32fb9833-d824-45c5-88f4-53d0e0a07980",
   "metadata": {},
   "outputs": [],
   "source": [
    "import torch\n",
    "import torchtext\n",
    "\n",
    "# Set a fixed value for the random seed to ensure reproducible results\n",
    "SEED = 1234\n",
    "# Determine whether a CUDA-compatible GPU is available, and use it if so; otherwise, use the CPU\n",
    "DEVICE = torch.device(\"cuda\" if torch.cuda.is_available() else \"cpu\")\n",
    "\n",
    "# Apply the fixed random seed to PyTorch to ensure consistent initialization and random operations\n",
    "torch.manual_seed(SEED)\n",
    "# Ensure that any operations performed by cuDNN (a GPU-acceleration library used by PyTorch) are deterministic,\n",
    "# which can help in reproducing results but may reduce performance\n",
    "torch.backends.cudnn.deterministic = True\n",
    "\n",
    "\n",
    "print(\"PyTorch Version: \", torch.__version__)\n",
    "print(\"torchtext Version: \", torchtext.__version__)\n",
    "print(f\"Using {'GPU' if str(DEVICE) == 'cuda' else 'CPU'}.\")"
   ]
  },
  {
   "cell_type": "code",
   "execution_count": 2,
   "id": "840c02bb-713e-4548-9d03-caad108c312d",
   "metadata": {},
   "outputs": [
    {
     "name": "stdout",
     "output_type": "stream",
     "text": [
      "Requirement already satisfied: ipywidgets in c:\\users\\usind\\anaconda3\\envs\\nlp2022\\lib\\site-packages (8.0.5)\n",
      "Requirement already satisfied: ipython>=6.1.0 in c:\\users\\usind\\appdata\\roaming\\python\\python39\\site-packages (from ipywidgets) (8.10.0)\n",
      "Requirement already satisfied: traitlets>=4.3.1 in c:\\users\\usind\\appdata\\roaming\\python\\python39\\site-packages (from ipywidgets) (5.9.0)\n",
      "Requirement already satisfied: widgetsnbextension~=4.0 in c:\\users\\usind\\anaconda3\\envs\\nlp2022\\lib\\site-packages (from ipywidgets) (4.0.6)\n",
      "Requirement already satisfied: jupyterlab-widgets~=3.0 in c:\\users\\usind\\anaconda3\\envs\\nlp2022\\lib\\site-packages (from ipywidgets) (3.0.6)\n",
      "Requirement already satisfied: jedi>=0.16 in c:\\users\\usind\\appdata\\roaming\\python\\python39\\site-packages (from ipython>=6.1.0->ipywidgets) (0.18.2)\n",
      "Requirement already satisfied: stack-data in c:\\users\\usind\\appdata\\roaming\\python\\python39\\site-packages (from ipython>=6.1.0->ipywidgets) (0.6.2)\n",
      "Requirement already satisfied: backcall in c:\\users\\usind\\appdata\\roaming\\python\\python39\\site-packages (from ipython>=6.1.0->ipywidgets) (0.2.0)\n",
      "Requirement already satisfied: matplotlib-inline in c:\\users\\usind\\appdata\\roaming\\python\\python39\\site-packages (from ipython>=6.1.0->ipywidgets) (0.1.6)\n",
      "Requirement already satisfied: pygments>=2.4.0 in c:\\users\\usind\\appdata\\roaming\\python\\python39\\site-packages (from ipython>=6.1.0->ipywidgets) (2.14.0)\n",
      "Requirement already satisfied: pickleshare in c:\\users\\usind\\appdata\\roaming\\python\\python39\\site-packages (from ipython>=6.1.0->ipywidgets) (0.7.5)\n",
      "Requirement already satisfied: colorama in c:\\users\\usind\\appdata\\roaming\\python\\python39\\site-packages (from ipython>=6.1.0->ipywidgets) (0.4.6)\n",
      "Requirement already satisfied: decorator in c:\\users\\usind\\appdata\\roaming\\python\\python39\\site-packages (from ipython>=6.1.0->ipywidgets) (5.1.1)\n",
      "Requirement already satisfied: prompt-toolkit<3.1.0,>=3.0.30 in c:\\users\\usind\\appdata\\roaming\\python\\python39\\site-packages (from ipython>=6.1.0->ipywidgets) (3.0.36)\n",
      "Requirement already satisfied: parso<0.9.0,>=0.8.0 in c:\\users\\usind\\appdata\\roaming\\python\\python39\\site-packages (from jedi>=0.16->ipython>=6.1.0->ipywidgets) (0.8.3)\n",
      "Requirement already satisfied: wcwidth in c:\\users\\usind\\appdata\\roaming\\python\\python39\\site-packages (from prompt-toolkit<3.1.0,>=3.0.30->ipython>=6.1.0->ipywidgets) (0.2.6)\n",
      "Requirement already satisfied: pure-eval in c:\\users\\usind\\appdata\\roaming\\python\\python39\\site-packages (from stack-data->ipython>=6.1.0->ipywidgets) (0.2.2)\n",
      "Requirement already satisfied: executing>=1.2.0 in c:\\users\\usind\\appdata\\roaming\\python\\python39\\site-packages (from stack-data->ipython>=6.1.0->ipywidgets) (1.2.0)\n",
      "Requirement already satisfied: asttokens>=2.1.0 in c:\\users\\usind\\appdata\\roaming\\python\\python39\\site-packages (from stack-data->ipython>=6.1.0->ipywidgets) (2.2.1)\n",
      "Requirement already satisfied: six in c:\\users\\usind\\appdata\\roaming\\python\\python39\\site-packages (from asttokens>=2.1.0->stack-data->ipython>=6.1.0->ipywidgets) (1.16.0)\n",
      "Note: you may need to restart the kernel to use updated packages.\n"
     ]
    },
    {
     "name": "stderr",
     "output_type": "stream",
     "text": [
      "UsageError: Line magic function `%jupyter` not found.\n"
     ]
    }
   ],
   "source": [
    "%pip install ipywidgets\n",
    "%jupyter nbextension enable --py widgetsnbextension\n"
   ]
  },
  {
   "cell_type": "markdown",
   "id": "bbe14c15-686d-4b15-a9b1-35b89ca6e486",
   "metadata": {},
   "source": [
    "The transformer has already been trained with a specific vocabulary, which means we need to train with the exact same vocabulary and also tokenize our data in the same way that the transformer did when it was initially trained.\n",
    "\n",
    "As we mentioned in the introduction, the transformers library has tokenizers for each of the transformer models provided. In this case we are using the BERT model which ignores casing (i.e. will lower case every word). We get this by loading the pre-trained `bert-base-uncased` tokenizer."
   ]
  },
  {
   "cell_type": "code",
   "execution_count": 3,
   "id": "84c22d3f-6788-477d-b97e-db7824de5668",
   "metadata": {},
   "outputs": [],
   "source": [
    "from transformers import BertTokenizer\n",
    "tokenizer = BertTokenizer.from_pretrained('bert-base-uncased')"
   ]
  },
  {
   "cell_type": "markdown",
   "id": "25dfdd1c-138b-4f31-a837-43884765ca9f",
   "metadata": {},
   "source": [
    "The `tokenizer` has a `vocab` attribute which contains the actual vocabulary we will be using. We can check how many tokens are in it by checking its length."
   ]
  },
  {
   "cell_type": "code",
   "execution_count": 4,
   "id": "0dbb4b06-589d-4f24-b9c0-98b17b461f77",
   "metadata": {},
   "outputs": [
    {
     "data": {
      "text/plain": [
       "30522"
      ]
     },
     "execution_count": 4,
     "metadata": {},
     "output_type": "execute_result"
    }
   ],
   "source": [
    "len(tokenizer.vocab)"
   ]
  },
  {
   "cell_type": "markdown",
   "id": "ef89d498-6d71-4480-be49-d8e9338fea4b",
   "metadata": {},
   "source": [
    "Using the tokenizer is as simple as calling `tokenizer.tokenize` on a string. This will tokenize and lower case the data in a way that is consistent with the pre-trained transformer model."
   ]
  },
  {
   "cell_type": "code",
   "execution_count": 5,
   "id": "1fa36312-4922-4d5f-9b26-dca8162775d5",
   "metadata": {},
   "outputs": [
    {
     "name": "stdout",
     "output_type": "stream",
     "text": [
      "['hello', 'world', 'how', 'are', 'you', '?']\n"
     ]
    }
   ],
   "source": [
    "tokens = tokenizer.tokenize('Hello WORLD how ARE yoU?')\n",
    "\n",
    "print(tokens)"
   ]
  },
  {
   "cell_type": "markdown",
   "id": "52260ab1",
   "metadata": {},
   "source": [
    "##### Handling punctuations\n",
    "The above text contains punctuations and it is also considered a seperate token. Now lets see some examples how spacing characters like tabs and newlines are handled by the BERT tokenizer."
   ]
  },
  {
   "cell_type": "code",
   "execution_count": 24,
   "id": "26ab7f52",
   "metadata": {},
   "outputs": [
    {
     "name": "stdout",
     "output_type": "stream",
     "text": [
      "{'input_ids': [[101, 7592, 2088, 102]], 'token_type_ids': [[0, 0, 0, 0]], 'attention_mask': [[1, 1, 1, 1]]}\n",
      "{'input_ids': [[101, 7592, 2088, 102]], 'token_type_ids': [[0, 0, 0, 0]], 'attention_mask': [[1, 1, 1, 1]]}\n",
      "{'input_ids': [[101, 7592, 2088, 102]], 'token_type_ids': [[0, 0, 0, 0]], 'attention_mask': [[1, 1, 1, 1]]}\n"
     ]
    }
   ],
   "source": [
    "# original input string\n",
    "print(tokenizer(['hello world']))\n",
    "\n",
    "# input string with tab (\\t) character\n",
    "print(tokenizer(['hello\tworld']))\n",
    "\n",
    "# input string with newline (\\n) character\n",
    "print(tokenizer(['''\n",
    "    hello\n",
    "    world\n",
    "''']))"
   ]
  },
  {
   "cell_type": "markdown",
   "id": "d1de64a3",
   "metadata": {},
   "source": [
    "Whitespace is added before and after every punctuation character. This allows punctuation characters to be treated as separate input tokens, apart from the words that they are connected with in the input string.\n",
    "\n",
    "For example, the string \"hello, world!\" is split into following 6 tokens : \\\n",
    "[CLS] <br> \n",
    "hello <br> \n",
    ",  <br> \n",
    "world <br>  \n",
    "!  <br> \n",
    "[SEP] <br>"
   ]
  },
  {
   "cell_type": "code",
   "execution_count": 25,
   "id": "0d11d610",
   "metadata": {},
   "outputs": [
    {
     "name": "stdout",
     "output_type": "stream",
     "text": [
      "{'input_ids': [[101, 7592, 1010, 2088, 999, 102]], 'token_type_ids': [[0, 0, 0, 0, 0, 0]], 'attention_mask': [[1, 1, 1, 1, 1, 1]]}\n"
     ]
    }
   ],
   "source": [
    "print(tokenizer(['hello, world!']))"
   ]
  },
  {
   "cell_type": "markdown",
   "id": "a65afd4b",
   "metadata": {},
   "source": [
    "##### Out-of-vocabulary tokens\n",
    "The BERT Tokenizer’s vocabulary contains a limited set of unique tokens, which means that there is a possibility of coming across a token that is not present in the vocabulary. To handle such cases, the vocabulary contains a special token, [UNK] which is used to represent any “out-of-vocabulary” input token."
   ]
  },
  {
   "cell_type": "code",
   "execution_count": 18,
   "id": "a4d24996",
   "metadata": {},
   "outputs": [
    {
     "name": "stdout",
     "output_type": "stream",
     "text": [
      "[[101, 7592, 2088, 100, 102]]\n",
      "Token with id 100: [UNK]\n"
     ]
    }
   ],
   "source": [
    "\n",
    "# Print only the 'input_ids'\n",
    "print(tokenizer(['hello world 👋'])['input_ids'])\n",
    "\n",
    "# Use f-string for formatting (Python 3.6+) to access the token corresponding to id 100\n",
    "token_with_id_100 = list(tokenizer.get_vocab().keys())[list(tokenizer.get_vocab().values()).index(100)]\n",
    "print(f\"Token with id 100: {token_with_id_100}\")\n",
    "\n",
    "## Or, if you're using an older version of Python, use the .format() method\n",
    "#print(\"Token with id 100: {}\".format(token_with_id_100))\n"
   ]
  },
  {
   "cell_type": "markdown",
   "id": "ef251199-fe7a-465d-8977-b438aca69586",
   "metadata": {},
   "source": [
    "We can numericalize tokens using our vocabulary using `tokenizer.convert_tokens_to_ids`."
   ]
  },
  {
   "cell_type": "code",
   "execution_count": 19,
   "id": "8af3e7ff-da82-4f84-9b3a-3f1a68b9da2f",
   "metadata": {},
   "outputs": [
    {
     "name": "stdout",
     "output_type": "stream",
     "text": [
      "[7592, 2088, 2129, 2024, 2017, 1029]\n"
     ]
    }
   ],
   "source": [
    "tokens = tokenizer.tokenize('Hello WORLD how ARE yoU?')\n",
    "\n",
    "indexes = tokenizer.convert_tokens_to_ids(tokens)\n",
    "\n",
    "print(indexes)"
   ]
  },
  {
   "cell_type": "markdown",
   "id": "b492c97a-36ff-4d67-9938-c40ee7120ecc",
   "metadata": {},
   "source": [
    "The transformer was also trained with special tokens to mark the beginning and end of the sentence, detailed [here](https://huggingface.co/transformers/model_doc/bert.html#transformers.BertModel). As well as a standard padding and unknown token. We can also get these from the tokenizer.\n",
    "\n",
    "**Note**: the tokenizer does have a beginning of sequence and end of sequence attributes (`bos_token` and `eos_token`) but these are not set and should not be used for this transformer."
   ]
  },
  {
   "cell_type": "code",
   "execution_count": 10,
   "id": "fb547129-b732-4826-aa02-e88e9e242b58",
   "metadata": {},
   "outputs": [
    {
     "name": "stdout",
     "output_type": "stream",
     "text": [
      "[CLS] [SEP] [PAD] [UNK]\n"
     ]
    }
   ],
   "source": [
    "init_token = tokenizer.cls_token\n",
    "eos_token = tokenizer.sep_token\n",
    "pad_token = tokenizer.pad_token\n",
    "unk_token = tokenizer.unk_token\n",
    "\n",
    "print(init_token, eos_token, pad_token, unk_token)"
   ]
  },
  {
   "cell_type": "markdown",
   "id": "938df413-a442-4ebd-bb00-de76d8199871",
   "metadata": {},
   "source": [
    "We can get the indexes of the special tokens by converting them using the vocabulary..."
   ]
  },
  {
   "cell_type": "code",
   "execution_count": 11,
   "id": "ceec3971-9284-4a64-8c87-8385d6edf0ea",
   "metadata": {},
   "outputs": [
    {
     "name": "stdout",
     "output_type": "stream",
     "text": [
      "101 102 0 100\n"
     ]
    }
   ],
   "source": [
    "init_token_idx = tokenizer.convert_tokens_to_ids(init_token)\n",
    "eos_token_idx = tokenizer.convert_tokens_to_ids(eos_token)\n",
    "pad_token_idx = tokenizer.convert_tokens_to_ids(pad_token)\n",
    "unk_token_idx = tokenizer.convert_tokens_to_ids(unk_token)\n",
    "\n",
    "print(init_token_idx, eos_token_idx, pad_token_idx, unk_token_idx)"
   ]
  },
  {
   "cell_type": "markdown",
   "id": "a53f4033-be32-4397-bbd7-a27cd2b2461f",
   "metadata": {},
   "source": [
    "...or by explicitly getting them from the tokenizer."
   ]
  },
  {
   "cell_type": "code",
   "execution_count": 12,
   "id": "8b690199-5a23-4bd4-ae4e-0bbce58b4310",
   "metadata": {},
   "outputs": [
    {
     "name": "stdout",
     "output_type": "stream",
     "text": [
      "101 102 0 100\n"
     ]
    }
   ],
   "source": [
    "init_token_idx = tokenizer.cls_token_id\n",
    "eos_token_idx = tokenizer.sep_token_id\n",
    "pad_token_idx = tokenizer.pad_token_id\n",
    "unk_token_idx = tokenizer.unk_token_id\n",
    "\n",
    "print(init_token_idx, eos_token_idx, pad_token_idx, unk_token_idx)"
   ]
  },
  {
   "cell_type": "markdown",
   "id": "763660ea-5ace-4744-9672-63e10e79070b",
   "metadata": {},
   "source": [
    "Another thing we need to handle is that the model was trained on sequences with a defined maximum length - it does not know how to handle sequences longer than it has been trained on. We can get the maximum length of these input sizes by checking the `max_model_input_sizes` for the version of the transformer we want to use. In this case, it is 512 tokens."
   ]
  },
  {
   "cell_type": "code",
   "execution_count": 13,
   "id": "d2392ed9-d43b-40cc-955f-8bc503bd05e9",
   "metadata": {},
   "outputs": [
    {
     "name": "stdout",
     "output_type": "stream",
     "text": [
      "512\n"
     ]
    }
   ],
   "source": [
    "max_input_length = tokenizer.max_model_input_sizes['google-bert/bert-base-uncased']\n",
    "\n",
    "print(max_input_length)"
   ]
  },
  {
   "cell_type": "markdown",
   "id": "f1728525-a97b-4c36-8854-ff9c69e4f99a",
   "metadata": {},
   "source": [
    "Much like in the previous labs, we will need to define a pipeline component that will call the tokenizer and handle all the tokenization for us. We will also convert the tokenizer's vocab to a torchtext `Vocab` object."
   ]
  },
  {
   "cell_type": "code",
   "execution_count": 14,
   "id": "8d6a9f50-fc13-4718-aca3-4401b04f593a",
   "metadata": {},
   "outputs": [],
   "source": [
    "from torchtext.vocab import vocab\n",
    "from torchtext.data.utils import get_tokenizer\n",
    "\n",
    "# Define a class TransformerTokenizer that inherits from torch.nn.Module\n",
    "class TransformerTokenizer(torch.nn.Module):\n",
    "    # The constructor takes a tokenizer object as input\n",
    "    def __init__(self, tokenizer):\n",
    "        super().__init__()  # Initialize the superclass (torch.nn.Module)\n",
    "        self.tokenizer = tokenizer  # Store the tokenizer object for later use\n",
    "    \n",
    "    # Define the forward method, which will be called to tokenize input text\n",
    "    def forward(self, input):\n",
    "        # If the input is a list (presumably of strings), iterate over the list\n",
    "        if isinstance(input, list):\n",
    "            tokens = [] \n",
    "            for text in input:  # Iterate over each string in the input list\n",
    "                # Tokenize the current string and append the list of tokens to the tokens list\n",
    "                tokens.append(self.tokenizer.tokenize(text))\n",
    "            return tokens  # Return the list of lists of tokens\n",
    "        # If the input is a single string\n",
    "        elif isinstance(input, str):\n",
    "            return self.tokenizer.tokenize(input)\n",
    "        raise ValueError(f\"Type {type(input)} is not supported.\")\n",
    "        \n",
    "# Create a vocabulary object from the tokenizer's vocabulary, setting minimum frequency to 0\n",
    "# This includes all tokens in the tokenizer's vocabulary in the vocab object\n",
    "tokenizer_vocab = vocab(tokenizer.vocab, min_freq=0)"
   ]
  },
  {
   "cell_type": "markdown",
   "id": "bc4772cb-d81a-4ef5-877c-3dba1bd7e173",
   "metadata": {},
   "source": [
    "We will then define our text processing pipeline.\n",
    "\n",
    "1. First we use the tokenizer to tokenize the text.\n",
    "2. Then we convert each token to its vocabulary ID.\n",
    "3. We will then cut the text to a maximum length. Note that the actual length we truncate to is 2 tokens shorter than the maximum length allowed by the model. This is because we will add two more tokens, one at the begginning and one at the end.\n",
    "4. Add the Beginning of Sentence token a the beginning.\n",
    "5. Add the End of Sentence token at the end.\n",
    "6. Convert to tensor and pad"
   ]
  },
  {
   "cell_type": "code",
   "execution_count": 15,
   "id": "1c9c42bf-ff8c-4746-87d1-4d4bf3e67b97",
   "metadata": {},
   "outputs": [],
   "source": [
    "import torchtext.transforms as T\n",
    "\n",
    "text_transform = T.Sequential(\n",
    "    TransformerTokenizer(tokenizer),  # Tokenize\n",
    "    T.VocabTransform(tokenizer_vocab),  # Convert to vocab IDs\n",
    "    T.Truncate(max_input_length - 2),  # Cut to max length to add BOS and EOS token\n",
    "    T.AddToken(token=tokenizer_vocab[\"[CLS]\"], begin=True),  # BOS token\n",
    "    T.AddToken(token=tokenizer_vocab[\"[SEP]\"], begin=False),  # EOS token\n",
    "    T.ToTensor(padding_value=tokenizer_vocab[\"[PAD]\"]),  # Convert to tensor and pad\n",
    ")"
   ]
  },
  {
   "cell_type": "markdown",
   "id": "92190364-9df1-4c97-a505-282e197ba8ef",
   "metadata": {},
   "source": [
    "We load the data and create the validation splits as before.\n",
    "\n",
    "**WARNING**: this will download the data in a hidden folder \".data\" and will take some time"
   ]
  },
  {
   "cell_type": "code",
   "execution_count": 16,
   "id": "19452267-7dc9-49fa-92f1-6de1535fe3ca",
   "metadata": {},
   "outputs": [],
   "source": [
    "from torchtext.datasets import IMDB\n",
    "from torchtext.data.functional import to_map_style_dataset\n",
    "\n",
    "# Load dataset\n",
    "#The IMDB dataset is a large dataset of movie reviews from the IMDB website.\n",
    "#Each review is labeled as either positive or negative sentiment. \n",
    "# There are two columns in each example:\n",
    "#\"text\": the text of the movie review\n",
    "#\"label\": the sentiment label of the review, where 0 indicates negative sentiment and 1 indicates positive sentiment.\n",
    "\n",
    "train_data_full, test_data_full = IMDB(root=\"./\", split=(\"train\", \"test\"))\n",
    "\n",
    "# Convert to map style\n",
    "#In map-style datasets, each example is a dictionary of key-value pairs,\n",
    "#where the keys are the field names and the values are the values of the fields.\n",
    "#This is necessary because PyTorch's DataLoader class, which is used to load data \n",
    "#in batches during training, requires datasets to be in map-style format.\n",
    "train_data_full = to_map_style_dataset(train_data_full)\n",
    "test_data_full = to_map_style_dataset(test_data_full)"
   ]
  },
  {
   "cell_type": "markdown",
   "id": "65cf8061-82db-432c-a94e-abd564d72495",
   "metadata": {},
   "source": [
    "Since the dataset is substantial (several thousand examples), for this lab we will limit this to just a few ($1000$, but feel free to reduce further) so that the training can finish in a somewhat timely manner. \n",
    "\n",
    "Obviously the model will not really perform too well with such small amount of data, so ideally you would run this overnight or on a GPU device to get the model to train properly."
   ]
  },
  {
   "cell_type": "code",
   "execution_count": 17,
   "id": "1e05079d-8b7c-44bd-a20e-67da95dcd30f",
   "metadata": {},
   "outputs": [
    {
     "name": "stdout",
     "output_type": "stream",
     "text": [
      "Full train data: 25000\n",
      "Full test data: 25000\n",
      "\n",
      "Trimmed train data: 700\n",
      "Validation data: 300\n",
      "Trimmed test data: 1000\n"
     ]
    }
   ],
   "source": [
    "from torch.utils.data import random_split\n",
    "\n",
    "print(\"Full train data:\", len(train_data_full))\n",
    "print(\"Full test data:\", len(test_data_full))\n",
    "\n",
    "N_SAMPLES = 1_000\n",
    "\n",
    "# Validation split\n",
    "split_ratio = 0.7  # 70/30 split\n",
    "train_samples = int(split_ratio * N_SAMPLES)\n",
    "valid_samples = int((1 - split_ratio) * N_SAMPLES)\n",
    "test_samples = N_SAMPLES\n",
    "rest_samples = len(train_data_full + test_data_full) - (2 * N_SAMPLES)  # Rest of the data\n",
    "\n",
    "# Split the entire dataset (train + test) *randomly* into our new train, valid, test sets\n",
    "train_data, valid_data, test_data, rest_data = random_split(train_data_full + test_data_full, [train_samples, valid_samples, test_samples, rest_samples])\n",
    "\n",
    "print(\"\\nTrimmed train data:\", len(train_data))\n",
    "print(\"Validation data:\", len(valid_data))\n",
    "print(\"Trimmed test data:\", len(test_data))"
   ]
  },
  {
   "cell_type": "markdown",
   "id": "b01f4117-83f2-42e0-af1f-d786cd6302ca",
   "metadata": {},
   "source": [
    "Although we've handled the vocabulary for the text, we still need to build the vocabulary for the labels."
   ]
  },
  {
   "cell_type": "code",
   "execution_count": 18,
   "id": "2cc15932-50c1-4902-bbd8-b6f4e9297f84",
   "metadata": {},
   "outputs": [],
   "source": [
    "from collections import OrderedDict\n",
    "\n",
    "label_vocab = vocab(OrderedDict([(\"neg\", 1), (\"pos\", 1)])) #the frequency for each label is set to 1"
   ]
  },
  {
   "cell_type": "code",
   "execution_count": 19,
   "id": "610dab91-2a58-4df5-8dce-967a7ccc2803",
   "metadata": {},
   "outputs": [
    {
     "name": "stdout",
     "output_type": "stream",
     "text": [
      "{'pos': 1, 'neg': 0}\n"
     ]
    }
   ],
   "source": [
    "print(label_vocab.get_stoi())"
   ]
  },
  {
   "cell_type": "markdown",
   "id": "9e2d5363-0bec-4a63-b140-2ea6f9f762f1",
   "metadata": {},
   "source": [
    "Finally, the label processing pipeline:"
   ]
  },
  {
   "cell_type": "code",
   "execution_count": 20,
   "id": "a63d09c8-1db9-4f12-8b4f-62055b0e6990",
   "metadata": {},
   "outputs": [],
   "source": [
    "label_transform = T.Sequential(\n",
    "    T.LabelToIndex(label_vocab.get_itos()),  # Convert to integer\n",
    "    T.ToTensor(),  # Convert to tensor\n",
    ")"
   ]
  },
  {
   "cell_type": "markdown",
   "id": "2daf322d-f384-40c8-a83d-393d7a11ceff",
   "metadata": {},
   "source": [
    "As before, we create the `DataLoader`s.\n",
    "\n",
    "Note that the batch size is smaller than usual. This is mostly to speed up training. In a usual scenario this should be 128."
   ]
  },
  {
   "cell_type": "code",
   "execution_count": 21,
   "id": "12f0b657-c75d-427b-9881-a5b5fbeb989c",
   "metadata": {},
   "outputs": [],
   "source": [
    "from torch.utils.data import DataLoader\n",
    "\n",
    "BATCH_SIZE = 64\n",
    "#The collate_batch function is a custom function used in PyTorch to collate data samples into batches.\n",
    "#zip(*batch) function is used to separate the labels and texts into separate lists.\n",
    "def collate_batch(batch):\n",
    "    labels, texts = zip(*batch)\n",
    "    labels = label_transform(list(labels))\n",
    "    texts = text_transform(list(texts))\n",
    "\n",
    "    return labels.float().to(DEVICE), texts.to(DEVICE)\n",
    "\n",
    "def _get_dataloader(data):\n",
    "    return DataLoader(data, batch_size=BATCH_SIZE, shuffle=True, collate_fn=collate_batch)\n",
    "\n",
    "train_dataloader = _get_dataloader(train_data)\n",
    "valid_dataloader = _get_dataloader(valid_data)\n",
    "test_dataloader = _get_dataloader(test_data)"
   ]
  },
  {
   "cell_type": "markdown",
   "id": "b9682e83-6b96-4c2a-a06e-ce75e8507f9f",
   "metadata": {},
   "source": [
    "## Build the Model\n",
    "\n",
    "Next, we'll load the pre-trained model, making sure to load the same model as we did for the tokenizer."
   ]
  },
  {
   "cell_type": "code",
   "execution_count": 23,
   "id": "e3175f53-827a-4d97-a89b-b9bfb3807f5a",
   "metadata": {},
   "outputs": [
    {
     "name": "stderr",
     "output_type": "stream",
     "text": [
      "Some weights of the model checkpoint at bert-base-uncased were not used when initializing BertModel: ['cls.seq_relationship.bias', 'cls.predictions.transform.LayerNorm.weight', 'cls.predictions.transform.dense.weight', 'cls.predictions.transform.dense.bias', 'cls.predictions.bias', 'cls.predictions.decoder.weight', 'cls.predictions.transform.LayerNorm.bias', 'cls.seq_relationship.weight']\n",
      "- This IS expected if you are initializing BertModel from the checkpoint of a model trained on another task or with another architecture (e.g. initializing a BertForSequenceClassification model from a BertForPreTraining model).\n",
      "- This IS NOT expected if you are initializing BertModel from the checkpoint of a model that you expect to be exactly identical (initializing a BertForSequenceClassification model from a BertForSequenceClassification model).\n"
     ]
    }
   ],
   "source": [
    "from transformers import BertTokenizer, BertModel\n",
    "\n",
    "bert = BertModel.from_pretrained('bert-base-uncased')"
   ]
  },
  {
   "cell_type": "markdown",
   "id": "84093a3e-a146-4310-8ca9-cb72fde28687",
   "metadata": {},
   "source": [
    "Next, we'll define our actual model. \n",
    "\n",
    "Instead of using an embedding layer to get embeddings for our text, we'll be using the pre-trained transformer model. These embeddings will then be fed into a GRU to produce a prediction for the sentiment of the input sentence. We can get the embedding dimension size (called the `hidden_size`) from the transformer via its config attribute. The rest of the initialization is standard.\n",
    "\n",
    "**Challenge**: Fill in the `TODO` segments to define the model's standard PyTorch layers.\n",
    "\n",
    "Within the forward pass, we wrap the transformer in a `no_grad` to ensure no gradients are calculated over this part of the model. The transformer actually returns the embeddings for the whole sequence as well as a *pooled* output. The [documentation](https://huggingface.co/transformers/model_doc/bert.html#transformers.BertModel) states that the pooled output is \"usually not a good summary of the semantic content of the input, you’re often better with averaging or pooling the sequence of hidden-states for the whole input sequence\", hence we will not be using it. The rest of the forward pass is the standard implementation of a recurrent model, where we take the hidden state over the final time-step, and pass it through a linear layer to get our predictions."
   ]
  },
  {
   "cell_type": "code",
   "execution_count": 38,
   "id": "d5700fd1-7246-4d55-abf4-fd47a335f0ff",
   "metadata": {},
   "outputs": [],
   "source": [
    "import torch.nn as nn\n",
    "\n",
    "class BERTGRUSentiment(nn.Module):\n",
    "    def __init__(self, bert, hidden_dim, output_dim, n_layers, bidirectional, dropout):        \n",
    "        super().__init__()\n",
    "        \n",
    "        self.bert = bert\n",
    "        self.embedding_dim = bert.config.to_dict()['hidden_size']\n",
    "        \n",
    "        # TODO - Define a GRU layer with n_layers layers\n",
    "        # bidirectionality conditional on the bidirectional variable, and\n",
    "        # dropout if there are more than two layers present.\n",
    "        # Note that the batch dimension should be first.\n",
    "        # You can take a look at Lab 6 for inspiration on PyTorch's recurrent unit API,\n",
    "        # or look at the GRU documentation:\n",
    "        # https://pytorch.org/docs/stable/generated/torch.nn.GRU.html\n",
    "        self.rnn = nn.GRU(self.embedding_dim,\n",
    "                          hidden_dim,\n",
    "                          num_layers = n_layers,\n",
    "                          bidirectional = bidirectional,\n",
    "                          batch_first = True,#The batch_first parameter \n",
    "                                             #is set to True, which means that the input and output tensors \n",
    "                                            #will have the batch dimension as the first dimension.\n",
    "                          dropout = 0 if n_layers < 2 else dropout)\n",
    "        \n",
    "        # TODO - Define a linear layer that takes the GRU output and transforms it to a dimensionality\n",
    "        # of output_dim.\n",
    "        # Hint: consider what the in_features argument should be if the GRU is bidirectional and each\n",
    "        # direction has dimensionality of hidden_dim\n",
    "        self.out = nn.Linear(hidden_dim * 2 if bidirectional else hidden_dim, output_dim)\n",
    "        \n",
    "        # TODO - Define a dropout layer\n",
    "        # of the GRU layer's hidden states during training, which helps to prevent the model from \n",
    "        #overfitting to the training data and improves its ability to generalize to new data.\n",
    "        self.dropout = nn.Dropout(dropout)\n",
    "        \n",
    "    def forward(self, text):\n",
    "\n",
    "        with torch.no_grad():\n",
    "            embedded = self.bert(text)[0]\n",
    "        \n",
    "        _, hidden = self.rnn(embedded)\n",
    "                \n",
    "        if self.rnn.bidirectional:\n",
    "            #In PyTorch, negative indexing can be used to index a tensor from the end, \n",
    "            #with -1 referring to the last element along a given dimension, -2 referring \n",
    "            #to the second last element, and so on. In this case, hidden[-2,:,:] refers \n",
    "            #to the output of the second last layer of the GRU.\n",
    "            hidden = self.dropout(torch.cat((hidden[-2,:,:], hidden[-1,:,:]), dim = 1))\n",
    "        else:\n",
    "            hidden = self.dropout(hidden[-1,:,:])\n",
    "\n",
    "        return self.out(hidden)"
   ]
  },
  {
   "cell_type": "markdown",
   "id": "06885f78-63e2-4ff7-974d-851093e51864",
   "metadata": {},
   "source": [
    "In a bidirectional GRU, there are two sets of hidden states, one computed in the forward direction and the other in the backward direction. The forward hidden state captures information from the beginning of the sequence, while the backward hidden state captures information from the end of the sequence.\n",
    "\n",
    "In the code block above , if the GRU is bidirectional, hidden[-2,:,:] represents the second to last hidden state of the backward direction, and hidden[-1,:,:] represents the last hidden state of the forward direction. By concatenating these two hidden states together along the feature dimension (i.e., dim=1), we obtain a tensor that contains information from both directions.\n",
    "\n",
    "The reason we take the output from the second to last element of the hidden state sequence is because the last element corresponds to the final hidden state after processing the entire sequence. However, since the GRU is bidirectional, the last hidden state actually contains information from both the beginning and the end of the sequence, so it may not be a good representation of the sequence as a whole. By taking the output from the second to last element, we obtain a representation that captures both forward and backward information, while still being a more generalizable representation of the input sequence.\n"
   ]
  },
  {
   "cell_type": "markdown",
   "id": "c343865b-a61b-4aca-bbbc-ab926c774109",
   "metadata": {},
   "source": [
    "Next, we create an instance of our model using standard hyperparameters."
   ]
  },
  {
   "cell_type": "code",
   "execution_count": 39,
   "id": "e5de1de9-1167-4f23-8cfd-a5e5d1f78357",
   "metadata": {},
   "outputs": [],
   "source": [
    "HIDDEN_DIM = 64  # 254 is better, less than 64 is no very favourable.\n",
    "OUTPUT_DIM = 1  # We only need one neuron as output\n",
    "N_LAYERS = 2\n",
    "BIDIRECTIONAL = True\n",
    "DROPOUT = 0.25\n",
    "\n",
    "model = BERTGRUSentiment(bert, HIDDEN_DIM, OUTPUT_DIM, N_LAYERS, BIDIRECTIONAL, DROPOUT)"
   ]
  },
  {
   "cell_type": "markdown",
   "id": "bbdf0d28-e246-4ccc-ba04-e0947ce65254",
   "metadata": {},
   "source": [
    "We can check how many parameters the model has. Our standard models have under 5M, but this one has 110M! Luckily, most of these parameters are from the transformer and we will not be training those."
   ]
  },
  {
   "cell_type": "code",
   "execution_count": 40,
   "id": "00ece71f-d134-442f-a010-5b7103034201",
   "metadata": {},
   "outputs": [
    {
     "name": "stdout",
     "output_type": "stream",
     "text": [
      "The model has 394,881 trainable parameters\n"
     ]
    }
   ],
   "source": [
    "#parameters refer to the internal variables that are learned during the training process. \n",
    "#For a neural network model, \n",
    "#parameters typically include weights and biases associated with each layer of the network.\n",
    "def count_parameters(model):\n",
    "    return sum(p.numel() for p in model.parameters() if p.requires_grad)\n",
    "\n",
    "print(f'The model has {count_parameters(model):,} trainable parameters')"
   ]
  },
  {
   "cell_type": "markdown",
   "id": "6fa6c8d8-663b-463e-86d5-6d43667f3713",
   "metadata": {},
   "source": [
    "`model` is a PyTorch model object that includes a pre-trained BERT model, which has already been fine-tuned on some task. The purpose of the following code block is to freeze the weights of the pre-trained BERT model so that they are not updated during the subsequent training process. This is a common strategy in transfer learning, where a pre-trained model is used as a starting point for training on a new task.\n",
    "\n",
    "In order to freeze paramers (not train them) we need to set their `requires_grad` attribute to `False`. To do this, we simply loop through all of the `named_parameters` in our model and if they're a part of the `bert` transformer model, we set `requires_grad = False`, allowing the subsequent training process to only update the parameters associated with the newly added layers. This is a useful strategy when working with pre-trained models because it can help speed up the training process and prevent overfitting.\n"
   ]
  },
  {
   "cell_type": "code",
   "execution_count": 41,
   "id": "16c933fe-4de3-4ba9-aece-5bc876ba4b0d",
   "metadata": {},
   "outputs": [],
   "source": [
    "for name, param in model.named_parameters():                \n",
    "    if name.startswith('bert'):\n",
    "        param.requires_grad = False"
   ]
  },
  {
   "cell_type": "code",
   "execution_count": 28,
   "id": "bf1fe1fa-4cd8-4d9f-bce2-703cbe992bef",
   "metadata": {},
   "outputs": [
    {
     "name": "stdout",
     "output_type": "stream",
     "text": [
      "The model has 394,881 trainable parameters\n"
     ]
    }
   ],
   "source": [
    "def count_parameters(model):\n",
    "    return sum(p.numel() for p in model.parameters() if p.requires_grad)\n",
    "\n",
    "print(f'The model has {count_parameters(model):,} trainable parameters')"
   ]
  },
  {
   "cell_type": "markdown",
   "id": "967d88a8-835f-4247-8483-efd1dcf69c4e",
   "metadata": {},
   "source": [
    "We can now see that our model has around 300K trainable parameters, making it almost comparable to the `FastText` model. However, the text still has to propagate through the transformer which causes training to take considerably longer."
   ]
  },
  {
   "cell_type": "markdown",
   "id": "dfc47b94-8f04-448d-a0aa-f51dda81da45",
   "metadata": {},
   "source": [
    "We can double check the names of the trainable parameters, ensuring they make sense. As we can see, they are all the parameters of the GRU (`rnn`) and the linear layer (`out`)."
   ]
  },
  {
   "cell_type": "code",
   "execution_count": 42,
   "id": "10fb0801-3dfa-4327-b2f4-90a5c21c8b7c",
   "metadata": {},
   "outputs": [
    {
     "name": "stdout",
     "output_type": "stream",
     "text": [
      "rnn.weight_ih_l0\n",
      "rnn.weight_hh_l0\n",
      "rnn.bias_ih_l0\n",
      "rnn.bias_hh_l0\n",
      "rnn.weight_ih_l0_reverse\n",
      "rnn.weight_hh_l0_reverse\n",
      "rnn.bias_ih_l0_reverse\n",
      "rnn.bias_hh_l0_reverse\n",
      "rnn.weight_ih_l1\n",
      "rnn.weight_hh_l1\n",
      "rnn.bias_ih_l1\n",
      "rnn.bias_hh_l1\n",
      "rnn.weight_ih_l1_reverse\n",
      "rnn.weight_hh_l1_reverse\n",
      "rnn.bias_ih_l1_reverse\n",
      "rnn.bias_hh_l1_reverse\n",
      "out.weight\n",
      "out.bias\n"
     ]
    }
   ],
   "source": [
    "for name, param in model.named_parameters():                \n",
    "    if param.requires_grad:\n",
    "        print(name)"
   ]
  },
  {
   "cell_type": "markdown",
   "id": "4cdac117-87b5-4cd9-a82d-f0ab24a84f4e",
   "metadata": {},
   "source": [
    "## Train the Model\n",
    "\n",
    "As is standard, we define our optimizer and criterion (loss function)."
   ]
  },
  {
   "cell_type": "code",
   "execution_count": 53,
   "id": "5e58bfb1-9b40-4a4b-a483-e5f995289cbc",
   "metadata": {},
   "outputs": [],
   "source": [
    "import torch.optim as optim\n",
    "\n",
    "optimizer = optim.Adam(model.parameters())"
   ]
  },
  {
   "cell_type": "code",
   "execution_count": 54,
   "id": "a3595f3e-dd1c-46ee-8a80-21c118582ab3",
   "metadata": {},
   "outputs": [],
   "source": [
    "criterion = nn.BCEWithLogitsLoss()"
   ]
  },
  {
   "cell_type": "markdown",
   "id": "12eb25f7-04d2-4103-aa42-bcc838b862cd",
   "metadata": {},
   "source": [
    "Place the model and criterion onto the GPU (if available)"
   ]
  },
  {
   "cell_type": "code",
   "execution_count": 55,
   "id": "275d741f-f28c-4d2f-8033-61ffb7465e3c",
   "metadata": {},
   "outputs": [],
   "source": [
    "model = model.to(DEVICE)\n",
    "criterion = criterion.to(DEVICE)"
   ]
  },
  {
   "cell_type": "markdown",
   "id": "3f1d3a31-a033-4507-b170-c12f25d2b3b1",
   "metadata": {},
   "source": [
    "Next, we'll define functions for: calculating accuracy, performing a training epoch, performing an evaluation epoch and calculating how long a training/evaluation epoch takes."
   ]
  },
  {
   "cell_type": "code",
   "execution_count": 56,
   "id": "87dd3ecd-7e5a-4d7e-b365-4f7e44544f60",
   "metadata": {},
   "outputs": [],
   "source": [
    "def binary_accuracy(preds, y):\n",
    "    \"\"\"\n",
    "    Returns accuracy per batch, i.e. if you get 8/10 right, this returns 0.8, NOT 8\n",
    "    \"\"\"\n",
    "\n",
    "    #round predictions to the closest integer\n",
    "    rounded_preds = torch.round(torch.sigmoid(preds))\n",
    "    correct = (rounded_preds == y).float() #convert into float for division \n",
    "    acc = correct.sum() / len(correct)\n",
    "    return acc"
   ]
  },
  {
   "cell_type": "markdown",
   "id": "ef04712a-940a-402f-b444-421251cdcc79",
   "metadata": {},
   "source": [
    "tqdm is a Python library that provides a progress bar for any iterable in a loop. It allows the user to track the progress of a loop and gives an estimate of the time remaining until the loop is complete. In the provided code, tqdm is used to display a progress bar while training the model, so that the user can monitor the progress of the training process. The 'desc' argument is used to provide a description of what the progress bar is tracking."
   ]
  },
  {
   "cell_type": "code",
   "execution_count": 57,
   "id": "9cec7d4a-1f45-4543-8fd6-b196efaab142",
   "metadata": {},
   "outputs": [],
   "source": [
    "from tqdm import tqdm\n",
    "\n",
    "def train(model, iterator, optimizer, criterion):    \n",
    "    epoch_loss = 0\n",
    "    epoch_acc = 0\n",
    "    \n",
    "    model.train()\n",
    "    \n",
    "    for batch in tqdm(iterator, desc=\"\\tTraining\"):\n",
    "        optimizer.zero_grad()\n",
    "                \n",
    "        labels, texts = batch  # Note that this has to match the order in collate_batch\n",
    "        predictions = model(texts).squeeze(1)\n",
    "        loss = criterion(predictions, labels)\n",
    "        acc = binary_accuracy(predictions, labels)\n",
    "        \n",
    "        loss.backward()\n",
    "        optimizer.step()\n",
    "        \n",
    "        epoch_loss += loss.item()\n",
    "        epoch_acc += acc.item()\n",
    "        \n",
    "    return epoch_loss / len(iterator), epoch_acc / len(iterator)"
   ]
  },
  {
   "cell_type": "code",
   "execution_count": 58,
   "id": "66605c0b-9bd5-4519-8a1c-aec29f7a945d",
   "metadata": {},
   "outputs": [],
   "source": [
    "from tqdm import tqdm\n",
    "\n",
    "def evaluate(model, iterator, criterion):\n",
    "    epoch_loss = 0\n",
    "    epoch_acc = 0\n",
    "    \n",
    "    model.eval()\n",
    "    \n",
    "    with torch.no_grad():\n",
    "        for batch in tqdm(iterator, desc=\"\\tEvaluation\"):\n",
    "            labels, texts = batch  # Note that this has to match the order in collate_batch\n",
    "            predictions = model(texts).squeeze(1)\n",
    "            loss = criterion(predictions, labels)\n",
    "            acc = binary_accuracy(predictions, labels)\n",
    "\n",
    "            epoch_loss += loss.item()\n",
    "            epoch_acc += acc.item()\n",
    "        \n",
    "    return epoch_loss / len(iterator), epoch_acc / len(iterator)"
   ]
  },
  {
   "cell_type": "code",
   "execution_count": 59,
   "id": "e2cbbab1-8436-4a0d-9570-67c977e32191",
   "metadata": {},
   "outputs": [],
   "source": [
    "import time\n",
    "\n",
    "def epoch_time(start_time, end_time):\n",
    "    elapsed_time = end_time - start_time\n",
    "    elapsed_mins = int(elapsed_time / 60)\n",
    "    elapsed_secs = int(elapsed_time - (elapsed_mins * 60))\n",
    "    return elapsed_mins, elapsed_secs"
   ]
  },
  {
   "cell_type": "markdown",
   "id": "157aea17-4a6d-4a9f-b32e-d6a8667ff927",
   "metadata": {},
   "source": [
    "Finally, we'll train our model. This takes considerably longer than any of the previous models due to the size of the transformer. Even though we are not training any of the transformer's parameters we still need to pass the data through the model which takes a considerable amount of time on a standard GPU.\n",
    "\n",
    "The performance won't be great due to using a subset of the data, a small number of epochs and small batches, but raising those values should yield considerably better performance."
   ]
  },
  {
   "cell_type": "code",
   "execution_count": 60,
   "id": "9b7e8055-c612-4206-81c2-f9e0d774018c",
   "metadata": {},
   "outputs": [
    {
     "name": "stdout",
     "output_type": "stream",
     "text": [
      "Using GPU for training.\n",
      "Epoch: 01\n"
     ]
    },
    {
     "name": "stderr",
     "output_type": "stream",
     "text": [
      "\tTraining: 100%|███████████████████████████████████████████████████████████████████████████| 11/11 [00:17<00:00,  1.59s/it]\n"
     ]
    },
    {
     "name": "stdout",
     "output_type": "stream",
     "text": [
      "\tTrain Loss: 0.384 | Train Acc: 81.26%\n"
     ]
    },
    {
     "name": "stderr",
     "output_type": "stream",
     "text": [
      "\tEvaluation: 100%|███████████████████████████████████████████████████████████████████████████| 5/5 [00:06<00:00,  1.35s/it]\n"
     ]
    },
    {
     "name": "stdout",
     "output_type": "stream",
     "text": [
      "\t Val. Loss: 0.525 |  Val. Acc: 75.97%\n",
      "Epoch: 02\n"
     ]
    },
    {
     "name": "stderr",
     "output_type": "stream",
     "text": [
      "\tTraining: 100%|███████████████████████████████████████████████████████████████████████████| 11/11 [00:17<00:00,  1.58s/it]\n"
     ]
    },
    {
     "name": "stdout",
     "output_type": "stream",
     "text": [
      "\tTrain Loss: 0.358 | Train Acc: 84.61%\n"
     ]
    },
    {
     "name": "stderr",
     "output_type": "stream",
     "text": [
      "\tEvaluation: 100%|███████████████████████████████████████████████████████████████████████████| 5/5 [00:06<00:00,  1.37s/it]\n"
     ]
    },
    {
     "name": "stdout",
     "output_type": "stream",
     "text": [
      "\t Val. Loss: 0.640 |  Val. Acc: 67.70%\n",
      "Epoch: 03\n"
     ]
    },
    {
     "name": "stderr",
     "output_type": "stream",
     "text": [
      "\tTraining: 100%|███████████████████████████████████████████████████████████████████████████| 11/11 [00:17<00:00,  1.61s/it]\n"
     ]
    },
    {
     "name": "stdout",
     "output_type": "stream",
     "text": [
      "\tTrain Loss: 0.356 | Train Acc: 83.41%\n"
     ]
    },
    {
     "name": "stderr",
     "output_type": "stream",
     "text": [
      "\tEvaluation: 100%|███████████████████████████████████████████████████████████████████████████| 5/5 [00:06<00:00,  1.36s/it]\n"
     ]
    },
    {
     "name": "stdout",
     "output_type": "stream",
     "text": [
      "\t Val. Loss: 0.528 |  Val. Acc: 72.50%\n",
      "Epoch: 04\n"
     ]
    },
    {
     "name": "stderr",
     "output_type": "stream",
     "text": [
      "\tTraining: 100%|███████████████████████████████████████████████████████████████████████████| 11/11 [00:17<00:00,  1.57s/it]\n"
     ]
    },
    {
     "name": "stdout",
     "output_type": "stream",
     "text": [
      "\tTrain Loss: 0.282 | Train Acc: 89.42%\n"
     ]
    },
    {
     "name": "stderr",
     "output_type": "stream",
     "text": [
      "\tEvaluation: 100%|███████████████████████████████████████████████████████████████████████████| 5/5 [00:06<00:00,  1.36s/it]\n"
     ]
    },
    {
     "name": "stdout",
     "output_type": "stream",
     "text": [
      "\t Val. Loss: 0.548 |  Val. Acc: 72.19%\n",
      "Epoch: 05\n"
     ]
    },
    {
     "name": "stderr",
     "output_type": "stream",
     "text": [
      "\tTraining: 100%|███████████████████████████████████████████████████████████████████████████| 11/11 [00:17<00:00,  1.59s/it]\n"
     ]
    },
    {
     "name": "stdout",
     "output_type": "stream",
     "text": [
      "\tTrain Loss: 0.254 | Train Acc: 89.31%\n"
     ]
    },
    {
     "name": "stderr",
     "output_type": "stream",
     "text": [
      "\tEvaluation: 100%|███████████████████████████████████████████████████████████████████████████| 5/5 [00:06<00:00,  1.35s/it]"
     ]
    },
    {
     "name": "stdout",
     "output_type": "stream",
     "text": [
      "\t Val. Loss: 0.626 |  Val. Acc: 75.31%\n"
     ]
    },
    {
     "name": "stderr",
     "output_type": "stream",
     "text": [
      "\n"
     ]
    }
   ],
   "source": [
    "N_EPOCHS = 5\n",
    "#best_valid_loss is initialized to a large positive value (infinity in this case) \n",
    "#so that the first validation loss will always be smaller than best_valid_loss and model.state_dict() \n",
    "#will be saved in the first epoch. During the subsequent epochs, if the validation loss decreases, \n",
    "#model.state_dict() will be updated and saved only if the new loss is lower than the previous best \n",
    "#validation loss (best_valid_loss).\n",
    "best_valid_loss = float('inf')\n",
    "print(f\"Using {'GPU' if str(DEVICE) == 'cuda' else 'CPU'} for training.\")\n",
    "\n",
    "for epoch in range(N_EPOCHS):\n",
    "    #The :02 after the {epoch+1} specifies the format string that the value of the variable epoch+1 \n",
    "    #should be displayed in. Specifically, the 0 indicates that the field should be zero-padded, \n",
    "    #and the 2 indicates that the field should be at least two characters wide.\n",
    "    print(f'Epoch: {epoch+1:02}')\n",
    "    start_time = time.time()\n",
    "    \n",
    "    train_loss, train_acc = train(model, train_dataloader, optimizer, criterion)\n",
    "    print(f'\\tTrain Loss: {train_loss:.3f} | Train Acc: {train_acc*100:.2f}%')\n",
    "    \n",
    "    valid_loss, valid_acc = evaluate(model, valid_dataloader, criterion)\n",
    "    print(f'\\t Val. Loss: {valid_loss:.3f} |  Val. Acc: {valid_acc*100:.2f}%')\n",
    "    \n",
    "    end_time = time.time()\n",
    "\n",
    "    epoch_mins, epoch_secs = epoch_time(start_time, end_time)\n",
    "    \n",
    "    if valid_loss < best_valid_loss:\n",
    "        best_valid_loss = valid_loss\n",
    "        torch.save(model.state_dict(), 'transformer-model.pt')"
   ]
  },
  {
   "cell_type": "markdown",
   "id": "6a82b1d4-452c-46c5-95bf-f6af295b1773",
   "metadata": {},
   "source": [
    "We'll load up the parameters that gave us the best validation loss and try these on the test set - which gives us our best results so far!"
   ]
  },
  {
   "cell_type": "code",
   "execution_count": 63,
   "id": "7dda5694-5973-4267-84f7-d7571859f318",
   "metadata": {},
   "outputs": [
    {
     "data": {
      "text/plain": [
       "<All keys matched successfully>"
      ]
     },
     "execution_count": 63,
     "metadata": {},
     "output_type": "execute_result"
    }
   ],
   "source": [
    "model.load_state_dict(torch.load('transformer-model.pt'))\n",
    "\n",
    "# If you want to load a model trained on a GPU, but the current device is on CPU, then you need to explicitly state that\n",
    "# >>> model.load_state_dict(torch.load('tut6-model.pt', map_location=torch.device('cpu')))"
   ]
  },
  {
   "cell_type": "code",
   "execution_count": 64,
   "id": "99fbd71d-96e1-4b64-b032-9ce49a32b400",
   "metadata": {},
   "outputs": [
    {
     "name": "stderr",
     "output_type": "stream",
     "text": [
      "\tEvaluation: 100%|█████████████████████████████████████████████████████████████████████████| 16/16 [00:22<00:00,  1.42s/it]"
     ]
    },
    {
     "name": "stdout",
     "output_type": "stream",
     "text": [
      "Test Loss: 0.614 | Test Acc: 68.95%\n"
     ]
    },
    {
     "name": "stderr",
     "output_type": "stream",
     "text": [
      "\n"
     ]
    }
   ],
   "source": [
    "test_loss, test_acc = evaluate(model, test_dataloader, criterion)\n",
    "\n",
    "print(f'Test Loss: {test_loss:.3f} | Test Acc: {test_acc*100:.2f}%')"
   ]
  },
  {
   "cell_type": "markdown",
   "id": "c5c9f993-24cb-4831-a9a1-4e1ea1d41d4f",
   "metadata": {},
   "source": [
    "## Inference\n",
    "\n",
    "We'll then use the model to test the sentiment of some sequences. We tokenize the input sequence, trim it down to the maximum length, add the special tokens to either side, convert it to a tensor, add a fake batch dimension and then pass it through our model."
   ]
  },
  {
   "cell_type": "code",
   "execution_count": 65,
   "id": "5f91d7ea-acd7-4418-99e2-be6e4e4b3738",
   "metadata": {},
   "outputs": [],
   "source": [
    "def predict_sentiment(model, sentence):\n",
    "    model.eval()\n",
    "    processed_sentence = text_transform([sentence]).to(DEVICE)\n",
    "    prediction = torch.sigmoid(model(processed_sentence))\n",
    "    return prediction.item()"
   ]
  },
  {
   "cell_type": "code",
   "execution_count": 66,
   "id": "29cac87a-fde0-4de1-9f79-028047b36c21",
   "metadata": {},
   "outputs": [
    {
     "data": {
      "text/plain": [
       "0.2504885196685791"
      ]
     },
     "execution_count": 66,
     "metadata": {},
     "output_type": "execute_result"
    }
   ],
   "source": [
    "predict_sentiment(model, \"This film is terrible\")"
   ]
  },
  {
   "cell_type": "code",
   "execution_count": 67,
   "id": "a0526614-6882-48b2-a23b-fcb458a24dd6",
   "metadata": {},
   "outputs": [
    {
     "data": {
      "text/plain": [
       "0.9023417234420776"
      ]
     },
     "execution_count": 67,
     "metadata": {},
     "output_type": "execute_result"
    }
   ],
   "source": [
    "predict_sentiment(model, \"This film is great\")"
   ]
  },
  {
   "cell_type": "code",
   "execution_count": null,
   "id": "270a2fd9-87c3-451e-ae04-a00a3c37a668",
   "metadata": {},
   "outputs": [],
   "source": []
  }
 ],
 "metadata": {
  "kernelspec": {
   "display_name": "nlp24",
   "language": "python",
   "name": "python3"
  },
  "language_info": {
   "codemirror_mode": {
    "name": "ipython",
    "version": 3
   },
   "file_extension": ".py",
   "mimetype": "text/x-python",
   "name": "python",
   "nbconvert_exporter": "python",
   "pygments_lexer": "ipython3",
   "version": "3.10.13"
  }
 },
 "nbformat": 4,
 "nbformat_minor": 5
}
