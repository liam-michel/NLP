{
 "cells": [
  {
   "cell_type": "markdown",
   "id": "specific-hierarchy",
   "metadata": {},
   "source": [
    "# Lab 06 - Word Embeddings\n",
    "In this lab we will look into word embeddings with word2vec and other similar methods"
   ]
  },
  {
   "cell_type": "markdown",
   "id": "mineral-money",
   "metadata": {},
   "source": [
    "### Build your own\n",
    "Let's start by first building out own word2vec model, instead of downloading a ready trained one. For that we are going to use the 20 news groups from sklearn, since is not too large for a lab exercise."
   ]
  },
  {
   "cell_type": "code",
   "execution_count": 1,
   "id": "cooperative-maintenance",
   "metadata": {},
   "outputs": [
    {
     "name": "stderr",
     "output_type": "stream",
     "text": [
      "C:\\Users\\asus\\Anaconda3\\envs\\pyTorchTests\\lib\\site-packages\\scipy\\__init__.py:146: UserWarning: A NumPy version >=1.16.5 and <1.23.0 is required for this version of SciPy (detected version 1.23.1\n",
      "  warnings.warn(f\"A NumPy version >={np_minversion} and <{np_maxversion}\"\n"
     ]
    },
    {
     "data": {
      "text/plain": [
       "[\"Well i'm not sure about the story nad it did seem biased. What\\nI disagree with is your statement that the U.S. Media is out to\\nruin Israels reputation. That is rediculous. The U.S. media is\\nthe most pro-israeli media in the world. Having lived in Europe\\nI realize that incidences such as the one described in the\\nletter have occured. The U.S. media as a whole seem to try to\\nignore them. The U.S. is subsidizing Israels existance and the\\nEuropeans are not (at least not to the same degree). So I think\\nthat might be a reason they report more clearly on the\\natrocities.\\n\\tWhat is a shame is that in Austria, daily reports of\\nthe inhuman acts commited by Israeli soldiers and the blessing\\nreceived from the Government makes some of the Holocaust guilt\\ngo away. After all, look how the Jews are treating other races\\nwhen they got power. It is unfortunate.\\n\",\n",
       " \"\\n\\n\\n\\n\\n\\n\\nYeah, do you expect people to read the FAQ, etc. and actually accept hard\\natheism?  No, you need a little leap of faith, Jimmy.  Your logic runs out\\nof steam!\\n\\n\\n\\n\\n\\n\\n\\nJim,\\n\\nSorry I can't pity you, Jim.  And I'm sorry that you have these feelings of\\ndenial about the faith you need to get by.  Oh well, just pretend that it will\\nall end happily ever after anyway.  Maybe if you start a new newsgroup,\\nalt.atheist.hard, you won't be bummin' so much?\\n\\n\\n\\n\\n\\n\\nBye-Bye, Big Jim.  Don't forget your Flintstone's Chewables!  :) \\n--\\nBake Timmons, III\"]"
      ]
     },
     "execution_count": 1,
     "metadata": {},
     "output_type": "execute_result"
    }
   ],
   "source": [
    "from sklearn.datasets import fetch_20newsgroups\n",
    "\n",
    "dataset = fetch_20newsgroups(shuffle=True, random_state=1, remove=('headers', 'footers', 'quotes'))\n",
    "documents = dataset.data\n",
    "\n",
    "# lets check the first two documents\n",
    "documents[:2]"
   ]
  },
  {
   "cell_type": "markdown",
   "id": "impossible-internship",
   "metadata": {},
   "source": [
    "The first thing to do is to format the documents into a list of sentences that contains a list of tokens. We are not going to do any further cleaning and pre-processing for now (to keep things simple for the labs), but that would be advisable."
   ]
  },
  {
   "cell_type": "code",
   "execution_count": 2,
   "id": "plain-serial",
   "metadata": {},
   "outputs": [
    {
     "data": {
      "text/plain": [
       "[['Well',\n",
       "  'i',\n",
       "  \"'m\",\n",
       "  'not',\n",
       "  'sure',\n",
       "  'about',\n",
       "  'the',\n",
       "  'story',\n",
       "  'nad',\n",
       "  'it',\n",
       "  'did',\n",
       "  'seem',\n",
       "  'biased',\n",
       "  '.'],\n",
       " ['What',\n",
       "  'I',\n",
       "  'disagree',\n",
       "  'with',\n",
       "  'is',\n",
       "  'your',\n",
       "  'statement',\n",
       "  'that',\n",
       "  'the',\n",
       "  'U.S.',\n",
       "  'Media',\n",
       "  'is',\n",
       "  'out',\n",
       "  'to',\n",
       "  'ruin',\n",
       "  'Israels',\n",
       "  'reputation',\n",
       "  '.'],\n",
       " ['That', 'is', 'rediculous', '.']]"
      ]
     },
     "execution_count": 2,
     "metadata": {},
     "output_type": "execute_result"
    }
   ],
   "source": [
    "from nltk.tokenize import sent_tokenize, word_tokenize\n",
    "\n",
    "# This will take a minute or so\n",
    "token_list = []\n",
    "for d in documents:\n",
    "    s = sent_tokenize(d) \n",
    "    token_list = token_list +[word_tokenize(t) for t in s]\n",
    "\n",
    "# check the first three sentences\n",
    "token_list[:3]"
   ]
  },
  {
   "cell_type": "markdown",
   "id": "compatible-bahamas",
   "metadata": {},
   "source": [
    "Now is time to import the word2vec algorithm and set the key parameters"
   ]
  },
  {
   "cell_type": "code",
   "execution_count": 3,
   "id": "cognitive-grant",
   "metadata": {},
   "outputs": [],
   "source": [
    "from gensim.models.word2vec import Word2Vec\n",
    "\n",
    "# Number of vector elements (dimensions) to represent the word vector\n",
    "num_features = 300\n",
    "# Min number of word count to be considered in the Word2vec model. If your corpus is small, reduce the min count. If you’re training with a large corpus, increase the min count.\n",
    "min_word_count = 1\n",
    "# Number of CPU cores used for the training. If you want to set the number of cores dynamically, check out import multiprocessing: \n",
    "#num_workers = multiprocessing.cpu_count()\n",
    "num_workers = 2\n",
    "# Context window size\n",
    "window_size = 3\n",
    "# Subsampling rate for frequent terms\n",
    "subsampling = 1e-3"
   ]
  },
  {
   "cell_type": "markdown",
   "id": "maritime-correlation",
   "metadata": {},
   "source": [
    "Let's train the model!"
   ]
  },
  {
   "cell_type": "code",
   "execution_count": 4,
   "id": "moving-punishment",
   "metadata": {},
   "outputs": [
    {
     "name": "stdout",
     "output_type": "stream",
     "text": [
      "CPU times: total: 49.5 s\n",
      "Wall time: 27.8 s\n"
     ]
    }
   ],
   "source": [
    "%%time\n",
    "model = Word2Vec(token_list, workers=num_workers, vector_size=num_features, min_count=min_word_count, window=window_size, sample=subsampling)"
   ]
  },
  {
   "cell_type": "markdown",
   "id": "medium-initial",
   "metadata": {},
   "source": [
    "Once you’ve trained your word model, you can reduce the memory footprint by about half if you freeze your model and discard the unnecessary information. The following command will discard the unneeded output weights of your neural network:"
   ]
  },
  {
   "cell_type": "markdown",
   "id": "removed-longer",
   "metadata": {},
   "source": [
    "The model cannot be trained further once the weights of the output layer have been discarded.\n",
    "\n",
    "Save the trained model with the following command and preserve it for later use:"
   ]
  },
  {
   "cell_type": "code",
   "execution_count": 5,
   "id": "surprising-pollution",
   "metadata": {},
   "outputs": [],
   "source": [
    "model_name = \"my_own_domain_specific_word2vec_model\"\n",
    "model.save(model_name)"
   ]
  },
  {
   "cell_type": "markdown",
   "id": "ongoing-prize",
   "metadata": {},
   "source": [
    "Now lets say we want to load the model that we had previously saved."
   ]
  },
  {
   "cell_type": "code",
   "execution_count": 8,
   "id": "lyric-trauma",
   "metadata": {},
   "outputs": [],
   "source": [
    "from gensim.models.word2vec import Word2Vec\n",
    "model_name = \"my_own_domain_specific_word2vec_model\"\n",
    "model = Word2Vec.load(model_name)"
   ]
  },
  {
   "cell_type": "markdown",
   "id": "future-winning",
   "metadata": {},
   "source": [
    "Let's check the most similar words to \"justice\""
   ]
  },
  {
   "cell_type": "code",
   "execution_count": 9,
   "id": "amateur-ticket",
   "metadata": {},
   "outputs": [
    {
     "name": "stdout",
     "output_type": "stream",
     "text": [
      "[('race', 0.9122744798660278), ('abuse', 0.8697113990783691), ('measures', 0.8696826100349426), ('biases', 0.8689377903938293), ('safety', 0.8606002926826477), ('divine', 0.8594327569007874), ('blood', 0.8593689799308777), ('politics', 0.8591147661209106), ('humanity', 0.8585473895072937), ('affairs', 0.8583940863609314)]\n"
     ]
    }
   ],
   "source": [
    "print(model.wv.most_similar('justice'))"
   ]
  },
  {
   "cell_type": "markdown",
   "id": "serial-backup",
   "metadata": {},
   "source": [
    "### Challenge - 1\n",
    "Try a few more words and observe if what is retrieved makes sense"
   ]
  },
  {
   "cell_type": "markdown",
   "id": "lesbian-detector",
   "metadata": {},
   "source": [
    "### Using the gensim API\n",
    "Having build our own model is great, but lets now load a model that was trained with MANY documents."
   ]
  },
  {
   "cell_type": "code",
   "execution_count": 10,
   "id": "radical-grove",
   "metadata": {},
   "outputs": [],
   "source": [
    "import numpy as np\n",
    "from sklearn.manifold import TSNE\n",
    "import matplotlib.pyplot as plt"
   ]
  },
  {
   "cell_type": "markdown",
   "id": "apparent-difference",
   "metadata": {},
   "source": [
    "We will be using the downloader for the embedding models"
   ]
  },
  {
   "cell_type": "code",
   "execution_count": 11,
   "id": "cardiovascular-practitioner",
   "metadata": {},
   "outputs": [],
   "source": [
    "import gensim.downloader as api\n",
    "\n",
    "# this command can be used to check what models are available\n",
    "#api.info()"
   ]
  },
  {
   "cell_type": "markdown",
   "id": "outer-increase",
   "metadata": {},
   "source": [
    "Let's load the word2vec model from google news containing 300 features"
   ]
  },
  {
   "cell_type": "code",
   "execution_count": 12,
   "id": "celtic-appointment",
   "metadata": {},
   "outputs": [
    {
     "name": "stdout",
     "output_type": "stream",
     "text": [
      "[==================================================] 100.0% 1662.8/1662.8MB downloaded\n"
     ]
    }
   ],
   "source": [
    "# This will also take a minute or so\n",
    "word2vec_model = api.load('word2vec-google-news-300')"
   ]
  },
  {
   "cell_type": "markdown",
   "id": "understood-outline",
   "metadata": {},
   "source": [
    "Now check the embedding vector for \"beautiful\"... you will see a 300 dimensional vector"
   ]
  },
  {
   "cell_type": "code",
   "execution_count": 13,
   "id": "whole-wilderness",
   "metadata": {},
   "outputs": [
    {
     "data": {
      "text/plain": [
       "array([-0.01831055,  0.05566406, -0.01153564,  0.07275391,  0.15136719,\n",
       "       -0.06176758,  0.20605469, -0.15332031, -0.05908203,  0.22851562,\n",
       "       -0.06445312, -0.22851562, -0.09472656, -0.03344727,  0.24707031,\n",
       "        0.05541992, -0.00921631,  0.1328125 , -0.15429688,  0.08105469,\n",
       "       -0.07373047,  0.24316406,  0.12353516, -0.09277344,  0.08203125,\n",
       "        0.06494141,  0.15722656,  0.11279297, -0.0612793 , -0.296875  ,\n",
       "       -0.13378906,  0.234375  ,  0.09765625,  0.17773438,  0.06689453,\n",
       "       -0.27539062,  0.06445312, -0.13867188, -0.08886719,  0.171875  ,\n",
       "        0.07861328, -0.10058594,  0.23925781,  0.03808594,  0.18652344,\n",
       "       -0.11279297,  0.22558594,  0.10986328, -0.11865234,  0.02026367,\n",
       "        0.11376953,  0.09570312,  0.29492188,  0.08251953, -0.05444336,\n",
       "       -0.0090332 , -0.0625    , -0.17578125, -0.08154297,  0.01062012,\n",
       "       -0.04736328, -0.08544922, -0.19042969, -0.30273438,  0.07617188,\n",
       "        0.125     , -0.05932617,  0.03833008, -0.03564453,  0.2421875 ,\n",
       "        0.36132812,  0.04760742,  0.00631714, -0.03088379, -0.13964844,\n",
       "        0.22558594, -0.06298828, -0.02636719,  0.1171875 ,  0.33398438,\n",
       "       -0.07666016, -0.06689453,  0.04150391, -0.15136719, -0.22460938,\n",
       "        0.03320312, -0.15332031,  0.07128906,  0.16992188,  0.11572266,\n",
       "       -0.13085938,  0.12451172, -0.20410156,  0.04736328, -0.296875  ,\n",
       "       -0.17480469,  0.00872803, -0.04638672,  0.10791016, -0.203125  ,\n",
       "       -0.27539062,  0.2734375 ,  0.02563477, -0.11035156,  0.0625    ,\n",
       "        0.1953125 ,  0.16015625, -0.13769531, -0.09863281, -0.1953125 ,\n",
       "       -0.22851562,  0.25390625,  0.00915527, -0.03857422,  0.3984375 ,\n",
       "       -0.1796875 ,  0.03833008, -0.24804688,  0.03515625,  0.03881836,\n",
       "        0.03442383, -0.04101562,  0.20214844, -0.03015137, -0.09619141,\n",
       "        0.11669922, -0.06738281,  0.0625    ,  0.10742188,  0.25585938,\n",
       "       -0.21777344,  0.05639648, -0.0065918 ,  0.16113281,  0.11865234,\n",
       "       -0.03088379, -0.11572266,  0.02685547,  0.03100586,  0.09863281,\n",
       "        0.05883789,  0.00634766,  0.11914062,  0.07324219, -0.01586914,\n",
       "        0.18457031,  0.05322266,  0.19824219, -0.22363281, -0.25195312,\n",
       "        0.15039062,  0.22753906,  0.05737305,  0.16992188, -0.22558594,\n",
       "        0.06494141,  0.11914062, -0.06640625, -0.10449219, -0.07226562,\n",
       "       -0.16992188,  0.0625    ,  0.14648438,  0.27148438, -0.02172852,\n",
       "       -0.12695312,  0.18457031, -0.27539062, -0.36523438, -0.03491211,\n",
       "       -0.18554688,  0.23828125, -0.13867188,  0.00296021,  0.04272461,\n",
       "        0.13867188,  0.12207031,  0.05957031, -0.22167969, -0.18945312,\n",
       "       -0.23242188, -0.28710938, -0.00866699, -0.16113281, -0.24316406,\n",
       "        0.05712891, -0.06982422,  0.00053406, -0.10302734, -0.13378906,\n",
       "       -0.16113281,  0.11621094,  0.31640625, -0.02697754, -0.01574707,\n",
       "        0.11425781, -0.04174805,  0.05908203,  0.02661133, -0.08642578,\n",
       "        0.140625  ,  0.09228516, -0.25195312, -0.31445312, -0.05688477,\n",
       "        0.01031494,  0.0234375 , -0.02331543, -0.08056641,  0.01269531,\n",
       "       -0.34179688,  0.17285156, -0.16015625,  0.07763672, -0.03088379,\n",
       "        0.11962891,  0.11767578,  0.20117188, -0.01940918,  0.02172852,\n",
       "        0.23046875,  0.28125   , -0.17675781,  0.02978516,  0.08740234,\n",
       "       -0.06176758,  0.00939941, -0.09277344, -0.203125  ,  0.13085938,\n",
       "       -0.13671875, -0.00500488, -0.04296875,  0.12988281,  0.3515625 ,\n",
       "        0.0402832 , -0.12988281, -0.03173828,  0.28515625,  0.18261719,\n",
       "        0.13867188, -0.16503906, -0.26171875, -0.04345703,  0.0100708 ,\n",
       "        0.08740234,  0.00421143, -0.1328125 , -0.17578125, -0.04321289,\n",
       "       -0.015625  ,  0.16894531,  0.25      ,  0.37109375,  0.19921875,\n",
       "       -0.36132812, -0.10302734, -0.20800781, -0.20117188, -0.01519775,\n",
       "       -0.12207031, -0.12011719, -0.07421875, -0.04345703,  0.14160156,\n",
       "        0.15527344, -0.03027344, -0.09326172, -0.04589844,  0.16796875,\n",
       "       -0.03027344,  0.09179688, -0.10058594,  0.20703125,  0.11376953,\n",
       "       -0.12402344,  0.04003906,  0.06933594, -0.34570312,  0.03881836,\n",
       "        0.16210938,  0.05761719, -0.12792969, -0.05810547,  0.03857422,\n",
       "       -0.11328125, -0.1953125 , -0.28125   , -0.13183594,  0.15722656,\n",
       "       -0.09765625,  0.09619141, -0.09960938, -0.00285339, -0.03637695,\n",
       "        0.15429688,  0.06152344, -0.34570312,  0.11083984,  0.03344727],\n",
       "      dtype=float32)"
      ]
     },
     "execution_count": 13,
     "metadata": {},
     "output_type": "execute_result"
    }
   ],
   "source": [
    "word2vec_model[\"beautiful\"]\n",
    "\n",
    "# The vector embedding values represent the numerical representation of the word \"beautiful\" in a 300-dimensional space learned by the Word2Vec model. \n",
    "# Each dimension of the vector corresponds to a feature or attribute of the word, which is learned by the model based on its co-occurrence patterns with \n",
    "# other words in a large text corpus."
   ]
  },
  {
   "cell_type": "markdown",
   "id": "determined-projection",
   "metadata": {},
   "source": [
    "Let's check some similar words to the word \"girl\""
   ]
  },
  {
   "cell_type": "code",
   "execution_count": 14,
   "id": "governing-aging",
   "metadata": {},
   "outputs": [
    {
     "data": {
      "text/plain": [
       "[('boy', 0.8543271422386169),\n",
       " ('teenage_girl', 0.7927975654602051),\n",
       " ('woman', 0.7494640946388245),\n",
       " ('teenager', 0.717249870300293),\n",
       " ('schoolgirl', 0.7075953483581543),\n",
       " ('teenaged_girl', 0.6650916337966919),\n",
       " ('daughter', 0.6489864587783813),\n",
       " ('mother', 0.6478164196014404),\n",
       " ('toddler', 0.6473967432975769),\n",
       " ('girls', 0.6154742240905762)]"
      ]
     },
     "execution_count": 14,
     "metadata": {},
     "output_type": "execute_result"
    }
   ],
   "source": [
    "word2vec_model.most_similar(\"girl\")"
   ]
  },
  {
   "cell_type": "markdown",
   "id": "optimum-collapse",
   "metadata": {},
   "source": [
    "How about some maths with vectors! Try the following:\n",
    "\n",
    "queen - girl + boy = king"
   ]
  },
  {
   "cell_type": "code",
   "execution_count": 15,
   "id": "twenty-elimination",
   "metadata": {},
   "outputs": [
    {
     "data": {
      "text/plain": [
       "[('king', 0.7298423051834106)]"
      ]
     },
     "execution_count": 15,
     "metadata": {},
     "output_type": "execute_result"
    }
   ],
   "source": [
    "#positive=['boy', 'queen']: This is a list of two positive words 'boy' and 'queen' that will be used as reference to find similar words. The algorithm will try to find words that are closer to the positive words in the vector space.\n",
    "#negative=['girl']: This is a list of one negative word 'girl' that will be used as reference to exclude from the search. The algorithm will try to find words that are farthest from the negative word in the vector space.\n",
    "#topn=1: This parameter specifies the number of similar words to return. In this case, the function will return only one word that is most similar to the given positive and negative words.\n",
    "\n",
    "word2vec_model.most_similar(positive=['boy', 'queen'], negative=['girl'], topn=1)"
   ]
  },
  {
   "cell_type": "markdown",
   "id": "initial-indication",
   "metadata": {},
   "source": [
    "Time to do some visualisations and see how similar words end up close together and far from other words that are not as similar"
   ]
  },
  {
   "cell_type": "code",
   "execution_count": 18,
   "id": "4398d8bf",
   "metadata": {},
   "outputs": [
    {
     "name": "stderr",
     "output_type": "stream",
     "text": [
      "C:\\Users\\asus\\Anaconda3\\envs\\pyTorchTests\\lib\\site-packages\\sklearn\\manifold\\_t_sne.py:810: FutureWarning: The default learning rate in TSNE will change from 200.0 to 'auto' in 1.2.\n",
      "  warnings.warn(\n",
      "C:\\Users\\asus\\Anaconda3\\envs\\pyTorchTests\\lib\\site-packages\\sklearn\\manifold\\_t_sne.py:996: FutureWarning: The PCA initialization in TSNE will change to have the standard deviation of PC1 equal to 1e-4 in 1.2. This will ensure better convergence.\n",
      "  warnings.warn(\n"
     ]
    },
    {
     "data": {
      "image/png": "[encoded data removed]",
      "text/plain": [
       "<Figure size 576x576 with 1 Axes>"
      ]
     },
     "metadata": {
      "needs_background": "light"
     },
     "output_type": "display_data"
    }
   ],
   "source": [
    "import numpy as np\n",
    "import matplotlib.pyplot as plt\n",
    "from sklearn.manifold import TSNE\n",
    "\n",
    "vocab = [\"boy\", \"girl\", \"man\", \"woman\", \"king\", \"queen\", \"banana\", \"apple\", \"mango\", \"fruit\", \"coconut\", \"orange\"]\n",
    "\n",
    "def tsne_plot(model):\n",
    "    labels = []\n",
    "    wordvecs = []\n",
    "\n",
    "    for word in vocab:\n",
    "        wordvecs.append(model[word])\n",
    "        labels.append(word)\n",
    "    \n",
    "    tsne_model = TSNE(perplexity=3, n_components=2, init='pca', random_state=42)\n",
    "    coordinates = tsne_model.fit_transform(np.array(wordvecs))\n",
    "\n",
    "    x = []\n",
    "    y = []\n",
    "    for value in coordinates:\n",
    "        x.append(value[0])\n",
    "        y.append(value[1])\n",
    "        \n",
    "    plt.figure(figsize=(8,8)) \n",
    "    for i in range(len(x)):\n",
    "        plt.scatter(x[i],y[i])\n",
    "        plt.annotate(labels[i],\n",
    "                     xy=(x[i], y[i]),\n",
    "                     xytext=(2, 2),\n",
    "                     textcoords='offset points',\n",
    "                     ha='right',\n",
    "                     va='bottom')\n",
    "    plt.show()\n",
    "\n",
    "tsne_plot(word2vec_model)\n"
   ]
  },
  {
   "cell_type": "markdown",
   "id": "agricultural-banking",
   "metadata": {},
   "source": [
    "### Challenge - 2\n",
    "Try a few more examples to visualise and see if similar words land close together"
   ]
  },
  {
   "cell_type": "markdown",
   "id": "heated-limit",
   "metadata": {},
   "source": [
    "## GloVe\n",
    "Let's try another model (GloVe) and see if that is any different to word2vec"
   ]
  },
  {
   "cell_type": "code",
   "execution_count": 19,
   "id": "southeast-management",
   "metadata": {},
   "outputs": [],
   "source": [
    "import numpy as np\n",
    "from sklearn.manifold import TSNE\n",
    "import matplotlib.pyplot as plt"
   ]
  },
  {
   "cell_type": "code",
   "execution_count": 23,
   "id": "successful-directive",
   "metadata": {},
   "outputs": [],
   "source": [
    "import gensim.downloader as api\n",
    "glove_model = api.load('glove-wiki-gigaword-300')"
   ]
  },
  {
   "cell_type": "code",
   "execution_count": 24,
   "id": "precise-probe",
   "metadata": {},
   "outputs": [
    {
     "data": {
      "text/plain": [
       "array([-2.3852e-01, -3.3704e-01, -2.6531e-01, -3.4693e-01, -1.2875e-01,\n",
       "        1.0698e-01, -2.4669e-02,  2.6829e-02, -1.0024e-01, -9.1494e-01,\n",
       "        4.8989e-01, -1.0362e-01, -2.4535e-01,  5.7003e-01, -3.5189e-02,\n",
       "       -3.7690e-01, -6.9177e-02, -2.5942e-01,  2.2511e-01,  5.1855e-01,\n",
       "       -3.9326e-01,  1.2665e+00, -4.4396e-01,  7.6827e-01, -1.0909e-02,\n",
       "       -2.4237e-01, -1.0275e-01, -4.9712e-01, -8.0183e-02,  4.0611e-01,\n",
       "        2.1275e-01,  6.5182e-01, -1.1487e+00,  4.6080e-03, -6.8265e-01,\n",
       "        9.6941e-01, -7.6194e-02, -4.1590e-01, -2.7069e-01, -5.3364e-02,\n",
       "       -7.9631e-02, -2.6670e-01, -2.1544e-02,  2.2392e-01,  5.5741e-02,\n",
       "        8.4611e-02,  8.6011e-01,  4.8927e-01,  4.7428e-01, -2.4446e-01,\n",
       "       -2.1553e-01,  1.4370e-01,  5.0683e-01, -5.8435e-01, -5.6243e-01,\n",
       "       -6.3757e-02, -2.2861e-01, -6.9374e-02,  5.6618e-01, -8.7813e-02,\n",
       "       -2.1272e-01, -1.6319e-01,  3.3545e-01,  1.3707e-01, -1.1920e-03,\n",
       "        9.7461e-02,  3.2382e-01, -2.2693e-01, -1.7767e-01,  4.0166e-02,\n",
       "       -5.3029e-01, -4.5809e-01, -2.3483e-01,  3.1453e-01,  1.7206e-01,\n",
       "       -6.9996e-02,  2.1818e-01, -1.3370e-01,  7.0031e-02, -5.1293e-01,\n",
       "       -5.9242e-01,  2.6683e-01,  3.4211e-02, -2.3073e-01,  9.2629e-02,\n",
       "        9.7956e-01, -1.7105e-01,  3.4766e-01,  1.5655e-01,  1.6473e-01,\n",
       "       -4.8657e-02, -3.3195e-01,  4.0701e-02, -3.6882e-01,  3.8325e-02,\n",
       "        1.4471e-01,  4.5228e-01, -5.3237e-01,  1.6001e-01,  9.1856e-02,\n",
       "       -3.3670e-02, -2.8456e-01,  2.7661e-01,  2.5678e-01, -5.0600e-01,\n",
       "        9.0557e-02,  2.3590e-01, -2.3907e-01, -1.0190e-01, -4.3150e-01,\n",
       "       -1.9739e-01,  3.4452e-01,  3.3246e-01, -8.2128e-02,  2.3898e-01,\n",
       "        2.8935e-02,  3.4182e-01,  6.4785e-01,  4.4846e-02,  2.3185e-01,\n",
       "       -9.0600e-02,  3.2501e-01, -1.1690e-01,  6.3490e-01, -3.9302e-02,\n",
       "       -1.9762e-01, -1.1636e-01,  6.4526e-01, -6.8176e-01, -2.7499e-01,\n",
       "        2.3495e-01,  3.8022e-01, -7.2129e-02,  3.2216e-01, -6.3217e-01,\n",
       "       -1.3036e-01, -7.2367e-02, -1.8482e-01, -7.8929e-02,  1.2480e-01,\n",
       "        9.6149e-02,  4.8628e-02, -5.9320e-02, -1.5919e-01, -2.1533e-01,\n",
       "       -3.8724e-01,  3.5391e-01,  3.4231e-01, -3.9314e-01, -1.1976e-01,\n",
       "       -3.7050e-01, -1.2089e-01, -5.8203e-03, -3.3442e-01,  6.4367e-01,\n",
       "       -2.2489e-01, -4.5688e-01,  1.8812e-02,  1.7772e-01, -1.5363e-01,\n",
       "        4.2730e-02, -3.4811e-01,  6.1017e-01,  3.0632e-01, -4.0521e-01,\n",
       "        1.1642e-02,  8.0483e-05,  1.9665e-01,  2.7749e-01, -2.7826e-01,\n",
       "       -2.8165e-01, -1.7904e-01, -3.9776e-01,  2.9140e-01,  8.6537e-02,\n",
       "       -5.2711e-02, -2.4818e-01,  1.3174e-01, -5.0422e-01, -1.7553e-01,\n",
       "       -5.0302e-02, -6.6879e-01,  4.8007e-01,  2.3588e-02,  3.8455e-01,\n",
       "       -2.0443e-01,  3.2373e-01, -2.6863e-01, -1.1948e-03,  4.1770e-01,\n",
       "       -2.8839e-01, -5.8236e-02, -1.5103e-01, -5.2364e-02, -4.4363e-01,\n",
       "        1.8137e-01, -4.0447e-01, -4.2684e-01, -3.0427e-01,  3.6178e-01,\n",
       "        1.5595e+00, -3.3639e-01, -9.7822e-02, -1.7268e-02,  6.5117e-02,\n",
       "       -3.8777e-01,  5.7876e-02,  4.3497e-01, -3.1166e-01, -2.7618e-01,\n",
       "       -1.7773e-01,  3.3641e-01, -1.0508e-01, -3.1227e-01,  3.9182e-01,\n",
       "       -3.7915e-02,  2.5229e-01, -6.6904e-01,  1.0371e-01,  1.7643e-01,\n",
       "        2.5485e-01, -3.6815e-02,  1.7848e-01,  8.2182e-02, -6.1077e-01,\n",
       "        2.0832e-01,  4.1189e-01, -2.0953e-01, -5.2351e-01, -4.5922e-02,\n",
       "        1.0356e-01, -1.1626e-01, -2.3241e-01, -4.1366e-01, -5.6315e-02,\n",
       "        4.5747e-01, -2.9707e-01, -1.6137e-01, -3.3410e-01, -3.1331e-01,\n",
       "        3.3484e-01,  1.7417e-01, -4.1686e-01,  4.8983e-01, -1.7848e-01,\n",
       "        4.7937e-01, -3.0127e-01,  4.2611e-01,  1.9762e-01,  3.4076e-01,\n",
       "        2.6479e-01, -5.3770e-01, -1.0298e-01, -3.8824e-02,  7.3822e-01,\n",
       "        3.3278e-02,  1.1207e-01,  7.8605e-02,  1.3025e-01, -3.6788e-01,\n",
       "       -3.6885e-01, -4.0836e-01, -1.6628e-01, -2.1534e-01, -7.3451e-02,\n",
       "       -3.4754e-01, -8.6115e-03, -2.1517e-01,  4.9213e-01,  2.8894e-01,\n",
       "        1.9182e-01, -5.3703e-01,  1.5176e-02, -1.9287e-02,  1.2511e-01,\n",
       "        2.9509e-01, -1.0003e+00,  1.0112e-01, -1.3583e-01, -3.6766e-01,\n",
       "       -3.1532e-01,  3.9986e-01, -7.4484e-02, -1.6293e-01, -6.4623e-01,\n",
       "        1.8405e-01, -2.3892e-01,  3.5487e-01, -2.8264e-01, -3.4756e-01,\n",
       "        1.9120e-01,  7.6232e-02, -4.6812e-01,  3.9841e-01,  1.2330e-01,\n",
       "       -2.5784e-01,  4.5218e-01,  3.2891e-01,  3.7239e-02,  2.3779e-01],\n",
       "      dtype=float32)"
      ]
     },
     "execution_count": 24,
     "metadata": {},
     "output_type": "execute_result"
    }
   ],
   "source": [
    "glove_model[\"beautiful\"]"
   ]
  },
  {
   "cell_type": "markdown",
   "id": "attached-archive",
   "metadata": {},
   "source": [
    "It will be interesting to see if this will fins similar words to \"girl\" like word2vec did"
   ]
  },
  {
   "cell_type": "code",
   "execution_count": 25,
   "id": "choice-sound",
   "metadata": {},
   "outputs": [
    {
     "data": {
      "text/plain": [
       "[('boy', 0.8272891044616699),\n",
       " ('woman', 0.729641854763031),\n",
       " ('girls', 0.7227292060852051),\n",
       " ('teenager', 0.650977373123169),\n",
       " ('teenage', 0.6492719054222107),\n",
       " ('mother', 0.6417974829673767),\n",
       " ('boys', 0.6283578872680664),\n",
       " ('child', 0.6229295134544373),\n",
       " ('teen', 0.6125240921974182),\n",
       " ('daughter', 0.6050207614898682)]"
      ]
     },
     "execution_count": 25,
     "metadata": {},
     "output_type": "execute_result"
    }
   ],
   "source": [
    "glove_model.most_similar(\"girl\")"
   ]
  },
  {
   "cell_type": "markdown",
   "id": "regional-custom",
   "metadata": {},
   "source": [
    "Let's also see if it can solve the same analogy too"
   ]
  },
  {
   "cell_type": "code",
   "execution_count": 26,
   "id": "arabic-wallet",
   "metadata": {},
   "outputs": [
    {
     "data": {
      "text/plain": [
       "[('king', 0.6770139932632446)]"
      ]
     },
     "execution_count": 26,
     "metadata": {},
     "output_type": "execute_result"
    }
   ],
   "source": [
    "glove_model.most_similar(positive=['boy', 'queen'], negative=['girl'], topn=1)"
   ]
  },
  {
   "cell_type": "code",
   "execution_count": 28,
   "id": "secondary-advantage",
   "metadata": {},
   "outputs": [
    {
     "name": "stderr",
     "output_type": "stream",
     "text": [
      "C:\\Users\\asus\\Anaconda3\\envs\\pyTorchTests\\lib\\site-packages\\sklearn\\manifold\\_t_sne.py:810: FutureWarning: The default learning rate in TSNE will change from 200.0 to 'auto' in 1.2.\n",
      "  warnings.warn(\n",
      "C:\\Users\\asus\\Anaconda3\\envs\\pyTorchTests\\lib\\site-packages\\sklearn\\manifold\\_t_sne.py:996: FutureWarning: The PCA initialization in TSNE will change to have the standard deviation of PC1 equal to 1e-4 in 1.2. This will ensure better convergence.\n",
      "  warnings.warn(\n"
     ]
    },
    {
     "data": {
      "image/png": "[encoded data removed]",
      "text/plain": [
       "<Figure size 576x576 with 1 Axes>"
      ]
     },
     "metadata": {
      "needs_background": "light"
     },
     "output_type": "display_data"
    }
   ],
   "source": [
    "vocab = [\"boy\", \"girl\", \"man\", \"woman\", \"king\", \"queen\", \"banana\", \"apple\", \"mango\", \"fruit\", \"coconut\", \"orange\"]\n",
    "\n",
    "def tsne_plot(model):\n",
    "    labels = []\n",
    "    wordvecs = []\n",
    "\n",
    "    for word in vocab:\n",
    "        wordvecs.append(model[word])\n",
    "        labels.append(word)\n",
    "    \n",
    "    tsne_model = TSNE(perplexity=3, n_components=2, init='pca', random_state=42)\n",
    "    coordinates = tsne_model.fit_transform(np.array(wordvecs))\n",
    "\n",
    "    x = []\n",
    "    y = []\n",
    "    for value in coordinates:\n",
    "        x.append(value[0])\n",
    "        y.append(value[1])\n",
    "        \n",
    "    plt.figure(figsize=(8,8)) \n",
    "    for i in range(len(x)):\n",
    "        plt.scatter(x[i],y[i])\n",
    "        plt.annotate(labels[i],\n",
    "                     xy=(x[i], y[i]),\n",
    "                     xytext=(2, 2),\n",
    "                     textcoords='offset points',\n",
    "                     ha='right',\n",
    "                     va='bottom')\n",
    "    plt.show()\n",
    "\n",
    "tsne_plot(glove_model)"
   ]
  },
  {
   "cell_type": "markdown",
   "id": "assumed-testimony",
   "metadata": {},
   "source": [
    "Let's continue with GloVe and check if plural words play any role in how close is to the original singular words"
   ]
  },
  {
   "cell_type": "code",
   "execution_count": 29,
   "id": "piano-medium",
   "metadata": {},
   "outputs": [
    {
     "name": "stdout",
     "output_type": "stream",
     "text": [
      "0.17594563961029053\n",
      "0.2772707939147949\n",
      "0.17271089553833008\n"
     ]
    }
   ],
   "source": [
    "print(glove_model.distance(\"fruit\", \"fruits\"))\n",
    "print(glove_model.distance(\"girl\", \"girls\"))\n",
    "print(glove_model.distance(\"girl\", \"boy\"))"
   ]
  },
  {
   "cell_type": "markdown",
   "id": "conservative-spirituality",
   "metadata": {},
   "source": [
    "## Challenge - 3\n",
    "Calculate the distance for \"king\" and \"queen\", then for \"woman and \"man\". Is it similar? Check the plot to confirm.\n",
    "\n",
    "Calculate the distance for \"king\" and \"apple\", then for \"queen\" and \"apple\". Is it similar again? Check the plot to confirm."
   ]
  },
  {
   "cell_type": "markdown",
   "id": "written-bangkok",
   "metadata": {},
   "source": [
    "Now let's try and see if the model can find the capitals of different countries"
   ]
  },
  {
   "cell_type": "code",
   "execution_count": 30,
   "id": "funky-mortgage",
   "metadata": {},
   "outputs": [
    {
     "name": "stdout",
     "output_type": "stream",
     "text": [
      "           0         1\n",
      "0  australia  canberra\n",
      "1     canada    ottawa\n",
      "2    germany    berlin\n",
      "3    ireland    dublin\n",
      "4      italy      rome\n"
     ]
    }
   ],
   "source": [
    "import pandas as pd\n",
    "# pretty print function\n",
    "def pp(obj):\n",
    "    print(pd.DataFrame(obj))\n",
    "    \n",
    "def analogy(worda, wordb, wordc):\n",
    "    result = glove_model.most_similar(negative=[worda], positive=[wordb, wordc], topn=1)\n",
    "    return result[0][0]\n",
    "\n",
    "countries = ['australia', 'canada', 'germany', 'ireland', 'italy']\n",
    "capitals = [analogy('usa', 'washington', country) for country in countries]\n",
    "pp(zip(countries,capitals))"
   ]
  },
  {
   "cell_type": "markdown",
   "id": "experienced-healthcare",
   "metadata": {},
   "source": [
    "## Challenge - 4\n",
    "Looks good... but what if you change \"usa\" to \"us\"? Or if you used a different example to start with like \"greece\" and \"athens\"?"
   ]
  },
  {
   "cell_type": "markdown",
   "id": "biological-middle",
   "metadata": {},
   "source": [
    "Now let's plot the results on a graph"
   ]
  },
  {
   "cell_type": "code",
   "execution_count": 31,
   "id": "interstate-island",
   "metadata": {},
   "outputs": [
    {
     "data": {
      "image/png": "[encoded data removed]",
      "text/plain": [
       "<Figure size 700x500 with 1 Axes>"
      ]
     },
     "metadata": {
      "needs_background": "light"
     },
     "output_type": "display_data"
    }
   ],
   "source": [
    "from sklearn.decomposition import PCA\n",
    "import matplotlib.pyplot as plt\n",
    "import numpy as np\n",
    "\n",
    "def plot_data(orig_data, labels):\n",
    "    pca = PCA(n_components=2)\n",
    "    data = pca.fit_transform(orig_data)\n",
    "    plt.figure(figsize=(7, 5), dpi=100)\n",
    "    plt.plot(data[:,0], data[:,1], '.')\n",
    "    for i in range(len(data)):\n",
    "        plt.annotate(labels[i], xy = data[i])\n",
    "    for i in range(len(data)//2):\n",
    "        plt.annotate(\"\",\n",
    "                xy=data[i],\n",
    "                xytext=data[i+len(data)//2],\n",
    "                arrowprops=dict(arrowstyle=\"->\",\n",
    "                                connectionstyle=\"arc3\")\n",
    "        )\n",
    "       \n",
    "labels = countries + capitals\n",
    "data = [glove_model[w] for w in labels]\n",
    "plot_data(data, labels)"
   ]
  },
  {
   "cell_type": "markdown",
   "id": "legitimate-pavilion",
   "metadata": {},
   "source": [
    "## doc2vec\n",
    "Now let's look into generating feature vectors for documents instead of just words. For that we are going to use word2vec"
   ]
  },
  {
   "cell_type": "code",
   "execution_count": 32,
   "id": "incorporate-pontiac",
   "metadata": {},
   "outputs": [],
   "source": [
    "import multiprocessing\n",
    "num_cores = multiprocessing.cpu_count()\n",
    "\n",
    "from gensim.models.doc2vec import TaggedDocument,Doc2Vec\n",
    "from gensim.utils import simple_preprocess"
   ]
  },
  {
   "cell_type": "markdown",
   "id": "aboriginal-badge",
   "metadata": {},
   "source": [
    "First let's load some data"
   ]
  },
  {
   "cell_type": "code",
   "execution_count": 33,
   "id": "bearing-hydrogen",
   "metadata": {},
   "outputs": [],
   "source": [
    "corpus = dataset.data\n",
    "\n",
    "training_corpus = []\n",
    "for i, text in enumerate(corpus):\n",
    "    tagged_doc = TaggedDocument(simple_preprocess(text), [i])\n",
    "    training_corpus.append(tagged_doc)\n",
    "    \n",
    "# If you’re running low on RAM, and you know the number of documents ahead of time (your corpus object isn’t an iterator or generator),\n",
    "# you might want to use a preallocated numpy array instead of Python list for your training_corpus:\n",
    "#training_corpus = np.empty(len(corpus), dtype=object);\n",
    "#… \n",
    "#training_corpus[i] = …"
   ]
  },
  {
   "cell_type": "markdown",
   "id": "deadly-stereo",
   "metadata": {},
   "source": [
    "Now we will build the model and train it"
   ]
  },
  {
   "cell_type": "code",
   "execution_count": 34,
   "id": "intelligent-iraqi",
   "metadata": {},
   "outputs": [],
   "source": [
    "doc2vec_model = Doc2Vec(vector_size=100, min_count=2, workers=num_cores, epochs=10)\n",
    "doc2vec_model.build_vocab(training_corpus)\n",
    "doc2vec_model.train(training_corpus, total_examples=doc2vec_model.corpus_count, epochs=doc2vec_model.epochs)"
   ]
  },
  {
   "cell_type": "code",
   "execution_count": 35,
   "id": "37532adc-58b8-41ac-b3aa-4f410413daf2",
   "metadata": {},
   "outputs": [],
   "source": [
    "doc2vec_model_2 = Doc2Vec(vector_size=300, min_count=2, workers=num_cores, epochs=10)\n",
    "doc2vec_model_2.build_vocab(training_corpus)\n",
    "doc2vec_model_2.train(training_corpus, total_examples=doc2vec_model_2.corpus_count, epochs=doc2vec_model_2.epochs)"
   ]
  },
  {
   "cell_type": "code",
   "execution_count": 36,
   "id": "da722aae-4e0e-4407-af79-df0bca685d48",
   "metadata": {},
   "outputs": [],
   "source": [
    "doc2vec_model_3 = Doc2Vec(vector_size=100, min_count=2, workers=num_cores, epochs=20)\n",
    "doc2vec_model_3.build_vocab(training_corpus)\n",
    "doc2vec_model_3.train(training_corpus, total_examples=doc2vec_model_3.corpus_count, epochs=doc2vec_model_3.epochs)"
   ]
  },
  {
   "cell_type": "code",
   "execution_count": 37,
   "id": "f208f0d8-3c1a-4fa0-b21e-718b96622a88",
   "metadata": {},
   "outputs": [],
   "source": [
    "doc2vec_model_4 = Doc2Vec(vector_size=300, min_count=2, workers=num_cores, epochs=20)\n",
    "doc2vec_model_4.build_vocab(training_corpus)\n",
    "doc2vec_model_4.train(training_corpus, total_examples=doc2vec_model_4.corpus_count, epochs=doc2vec_model_4.epochs)"
   ]
  },
  {
   "cell_type": "markdown",
   "id": "c6883dc5-a6cb-40f8-80e4-f10ae2b5c22e",
   "metadata": {},
   "source": [
    "Time to generate the feature vector of a new document!"
   ]
  },
  {
   "cell_type": "code",
   "execution_count": 38,
   "id": "edb28986-388e-4d79-8fa4-2be002a9ebb1",
   "metadata": {},
   "outputs": [
    {
     "ename": "NameError",
     "evalue": "name 'doc_vector' is not defined",
     "output_type": "error",
     "traceback": [
      "\u001b[1;31m---------------------------------------------------------------------------\u001b[0m",
      "\u001b[1;31mNameError\u001b[0m                                 Traceback (most recent call last)",
      "Input \u001b[1;32mIn [38]\u001b[0m, in \u001b[0;36m<cell line: 2>\u001b[1;34m()\u001b[0m\n\u001b[0;32m      1\u001b[0m doc2vec_model\u001b[38;5;241m.\u001b[39minfer_vector(simple_preprocess(\u001b[38;5;124m'\u001b[39m\u001b[38;5;124mThis is a completely unseen document\u001b[39m\u001b[38;5;124m'\u001b[39m), epochs\u001b[38;5;241m=\u001b[39m\u001b[38;5;241m10\u001b[39m)\n\u001b[1;32m----> 2\u001b[0m \u001b[43mdoc_vector\u001b[49m\n",
      "\u001b[1;31mNameError\u001b[0m: name 'doc_vector' is not defined"
     ]
    }
   ],
   "source": [
    "doc_vector = doc2vec_model.infer_vector(simple_preprocess('This is a completely unseen document'), epochs=10)\n",
    "doc_vector"
   ]
  },
  {
   "cell_type": "code",
   "execution_count": 39,
   "id": "627a77f5-54ec-47c0-8e6c-249dc2bc8b88",
   "metadata": {},
   "outputs": [
    {
     "data": {
      "text/plain": [
       "array([-2.09228005e-02,  3.14076170e-02,  4.72882949e-03,  4.94724065e-02,\n",
       "       -5.89122288e-02, -4.20324579e-02,  4.64836583e-02,  8.35630372e-02,\n",
       "       -2.72506215e-02, -1.24244625e-02, -3.87886390e-02, -4.26482782e-02,\n",
       "       -6.53091893e-02,  5.50486818e-02,  3.42589384e-03, -3.00053246e-02,\n",
       "        7.00054467e-02, -5.22730611e-02,  7.31560737e-02, -8.59119371e-02,\n",
       "       -1.48742180e-02, -8.00956413e-02,  1.38612483e-02,  1.21154822e-03,\n",
       "        8.83912966e-02,  4.11955919e-03, -7.10419267e-02, -6.80284277e-02,\n",
       "       -5.43832257e-02, -7.01913238e-02,  5.07230647e-02, -1.69538762e-02,\n",
       "        3.88284959e-02,  3.81758101e-02, -5.65558858e-02,  3.71171944e-02,\n",
       "        5.38705364e-02, -3.21782865e-02, -3.07538584e-02,  4.69244784e-03,\n",
       "       -6.00709096e-02, -1.16212759e-02, -6.64493581e-03, -6.93927705e-02,\n",
       "        2.36115549e-02,  4.66640964e-02,  1.40905473e-02,  2.23373063e-02,\n",
       "       -5.44523485e-02,  1.60368029e-02,  1.91998016e-02,  6.27525076e-02,\n",
       "        3.94315869e-02,  3.94843072e-02, -3.30787674e-02,  5.65330982e-02,\n",
       "       -1.24862650e-02,  7.79251568e-03, -1.75598506e-02,  6.54556900e-02,\n",
       "        1.68239903e-02,  1.85107384e-02,  3.64745930e-02,  3.62576433e-02,\n",
       "        1.43406214e-02,  4.18619514e-02,  4.78974655e-02,  1.69693977e-02,\n",
       "        1.32285431e-02,  2.15766728e-02, -5.56577668e-02,  2.38994919e-02,\n",
       "        1.50439506e-02,  2.75631193e-02,  2.26840694e-02,  3.84110287e-02,\n",
       "       -2.69080815e-03,  9.23738256e-03,  1.19430535e-02,  5.29213548e-02,\n",
       "       -5.21403886e-02, -9.17442590e-02, -7.85710961e-02,  1.42948851e-01,\n",
       "       -7.71380088e-04, -4.24302928e-02, -1.75834931e-02,  2.27042697e-02,\n",
       "        3.13413478e-02,  7.63974292e-03,  1.00883283e-01,  1.82274412e-02,\n",
       "        2.63299346e-02,  3.28505575e-03,  1.97703987e-02,  1.05715737e-01,\n",
       "       -1.58713814e-02,  5.96995186e-03, -3.06114573e-02,  4.49355170e-02,\n",
       "        3.17773619e-03, -2.89698504e-02,  3.22376378e-02,  2.81632487e-02,\n",
       "       -6.33082865e-03, -7.30294362e-02,  1.17994035e-02,  3.58390585e-02,\n",
       "       -7.34777749e-02, -8.40858463e-03, -7.66059235e-02, -1.42718181e-01,\n",
       "        3.55873555e-02,  2.79579312e-02, -3.41749191e-02, -3.00563816e-02,\n",
       "        7.36806914e-03, -1.04652259e-04,  7.00642094e-02, -7.41125643e-02,\n",
       "       -2.57684849e-03,  4.34662402e-02,  4.58630063e-02, -3.33268307e-02,\n",
       "        4.39104420e-04, -1.46883922e-02, -1.21363252e-02, -8.71494710e-02,\n",
       "        1.01320176e-04,  7.57669881e-02,  3.14882398e-02,  3.74187604e-02,\n",
       "        3.51772197e-02, -3.96620184e-02,  5.42638414e-02,  3.26456279e-02,\n",
       "       -2.15514079e-02, -6.65500239e-02, -6.78135082e-02, -1.66349374e-02,\n",
       "       -1.62924174e-02, -3.80263627e-02, -2.47673541e-02,  5.48322452e-03,\n",
       "        1.45966420e-02, -5.13582341e-02,  7.96141755e-03, -3.10756303e-02,\n",
       "       -1.32021271e-02,  1.48954634e-02,  2.70403568e-02, -8.84585902e-02,\n",
       "       -2.15081181e-02,  2.16063987e-02,  2.15903274e-03,  3.12570594e-02,\n",
       "       -5.94277047e-02, -6.82214322e-03,  1.06083965e-02,  3.87859792e-02,\n",
       "       -1.93114337e-02,  2.84904931e-02, -1.97378341e-02,  4.37534638e-02,\n",
       "        2.86743846e-02,  5.92271760e-02,  2.75851395e-02, -4.48874943e-02,\n",
       "       -5.28873922e-03,  5.81353568e-02, -5.47264628e-02, -3.08860727e-02,\n",
       "        1.51507428e-03,  1.99037977e-02, -2.96269562e-02,  2.12823171e-02,\n",
       "       -7.55448267e-03, -7.41577372e-02,  4.72224737e-03,  4.64557409e-02,\n",
       "       -5.34321330e-02,  4.34437878e-02, -5.82805946e-02, -1.82971209e-02,\n",
       "       -2.76333150e-02, -3.61784808e-02,  3.08346888e-03,  7.28837252e-02,\n",
       "        6.09505698e-02, -2.02273559e-02,  3.18373330e-02,  2.78477091e-02,\n",
       "       -4.62537818e-02,  1.75550580e-02, -1.38511145e-02, -7.72902369e-02,\n",
       "        3.62603068e-02, -4.72668111e-02,  6.79178238e-02,  7.94439483e-03,\n",
       "       -5.16912378e-02, -1.06343627e-02,  3.39300781e-02,  1.30869867e-02,\n",
       "       -1.43070063e-02,  3.15036811e-02,  1.67249870e-02,  2.59735696e-02,\n",
       "       -6.00295234e-03,  1.81719493e-02,  1.46520999e-03, -4.08240333e-02,\n",
       "        1.53162507e-02,  1.95963793e-02, -3.21320109e-02, -1.46044465e-03,\n",
       "       -3.39616789e-03, -8.04725662e-02, -1.57795288e-02, -5.00063226e-02,\n",
       "        6.49846420e-02,  4.94623259e-02, -4.70152348e-02, -1.02023929e-02,\n",
       "       -5.89184649e-02, -4.81923576e-03,  7.59788677e-02, -2.95622554e-02,\n",
       "       -6.06892183e-02, -4.72138040e-02,  9.82598439e-02,  4.80520772e-03,\n",
       "        1.80190392e-02,  8.41289684e-02, -4.18970957e-02, -4.65634800e-02,\n",
       "        1.78374108e-02, -1.41028240e-02, -4.37260531e-02, -1.14970759e-01,\n",
       "       -1.05614308e-02,  7.75036355e-03, -1.97096299e-02, -2.05179099e-02,\n",
       "        4.11777832e-02, -2.92570852e-02,  1.54612204e-02, -3.42757441e-02,\n",
       "       -4.68065627e-02,  2.13642009e-02,  1.75279006e-02,  3.28188501e-02,\n",
       "       -3.33998026e-03, -5.31007163e-02, -5.99535182e-02,  2.67710518e-02,\n",
       "        2.12511681e-02,  2.15149540e-02, -8.18303600e-02, -7.11374730e-02,\n",
       "        1.86591577e-02,  7.95392022e-02, -2.15080716e-02, -4.28714193e-02,\n",
       "       -7.59060904e-02, -4.22279835e-02,  8.18750337e-02,  8.71889200e-03,\n",
       "       -4.88550067e-02,  2.69605517e-02, -3.20957974e-02,  3.48438285e-02,\n",
       "       -2.56259441e-02, -3.66498940e-02,  2.93194503e-02,  3.78831550e-02,\n",
       "        7.50476941e-02,  4.37739566e-02, -6.67074844e-02,  3.52452174e-02,\n",
       "        9.33567807e-03, -7.56708458e-02, -2.61347033e-02,  5.37837110e-02,\n",
       "        6.12229109e-04,  4.81597707e-03, -4.56487574e-02,  2.86971945e-02,\n",
       "        1.45916576e-02,  7.18340352e-02, -9.05833766e-03,  6.17567226e-02,\n",
       "        7.00677484e-02,  2.57156696e-03,  7.30982646e-02,  1.64650660e-02,\n",
       "        5.30750193e-02,  6.08116388e-04,  1.14393488e-01, -6.77807108e-02],\n",
       "      dtype=float32)"
      ]
     },
     "execution_count": 39,
     "metadata": {},
     "output_type": "execute_result"
    }
   ],
   "source": [
    "doc_vector = doc2vec_model_2.infer_vector(simple_preprocess('This is a completely unseen document'), epochs=10)\n",
    "doc_vector"
   ]
  },
  {
   "cell_type": "code",
   "execution_count": 40,
   "id": "21f6e468-c2e3-4ae4-a139-b6846872690e",
   "metadata": {},
   "outputs": [
    {
     "data": {
      "text/plain": [
       "array([-0.11977651, -0.02563974, -0.06709385,  0.07733414, -0.04319735,\n",
       "       -0.11230446,  0.38345864, -0.04724472, -0.1476783 , -0.18686345,\n",
       "        0.07620424, -0.2794445 , -0.02483845,  0.08265483, -0.14769714,\n",
       "       -0.40984532, -0.0387001 , -0.06709602,  0.13498236, -0.2298784 ,\n",
       "        0.01059635, -0.02487212,  0.09280089,  0.17099462, -0.03603003,\n",
       "       -0.15907598, -0.10914032, -0.1481416 , -0.2322523 ,  0.00834232,\n",
       "        0.16249545,  0.10067368, -0.01293053, -0.12322883,  0.01667282,\n",
       "        0.06329182,  0.07062016, -0.04999974, -0.01301703,  0.04079477,\n",
       "        0.05956361, -0.1616746 , -0.09575126, -0.00806912, -0.03773668,\n",
       "       -0.09797111, -0.05036458,  0.1065602 ,  0.26067677, -0.02601293,\n",
       "       -0.08965015, -0.04302977,  0.13941003, -0.00667073,  0.04083962,\n",
       "       -0.13476606, -0.13339183, -0.05561422, -0.11322824,  0.15410605,\n",
       "        0.04515181,  0.01873709,  0.01878698, -0.09807915, -0.24131383,\n",
       "        0.19207974,  0.11520752,  0.15639822, -0.19337553,  0.19028158,\n",
       "       -0.04029797,  0.13663238, -0.01398866,  0.15824872,  0.12514082,\n",
       "        0.01275241,  0.03537389,  0.09820522, -0.03461359, -0.06517368,\n",
       "       -0.061835  ,  0.16992374, -0.1209045 , -0.0472743 , -0.08356604,\n",
       "       -0.15341836,  0.16950658,  0.23886769,  0.05092554,  0.13810143,\n",
       "        0.21540841,  0.20697938, -0.21240765,  0.27504608,  0.3544908 ,\n",
       "        0.17962281,  0.02870806, -0.28790313, -0.10264605, -0.08662142],\n",
       "      dtype=float32)"
      ]
     },
     "execution_count": 40,
     "metadata": {},
     "output_type": "execute_result"
    }
   ],
   "source": [
    "doc_vector = doc2vec_model_3.infer_vector(simple_preprocess('This is a completely unseen document'), epochs=20) # Use the increased number of epochs\n",
    "doc_vector"
   ]
  },
  {
   "cell_type": "code",
   "execution_count": 41,
   "id": "050c723c-2ba9-4838-9edf-3eea1d2bafea",
   "metadata": {},
   "outputs": [
    {
     "data": {
      "text/plain": [
       "array([-0.0903552 ,  0.04265289,  0.04543741,  0.06272301, -0.16189493,\n",
       "       -0.03125944,  0.11901543,  0.19069313, -0.02267738,  0.05232347,\n",
       "       -0.09433513, -0.10573567, -0.14577863,  0.08923682, -0.03744372,\n",
       "       -0.05446862,  0.22156133, -0.05925689,  0.10487163, -0.1658323 ,\n",
       "       -0.04707702, -0.03707601,  0.01369852, -0.04126002,  0.26508394,\n",
       "        0.02056935, -0.09114036, -0.110924  , -0.02511642, -0.11722883,\n",
       "        0.09114154,  0.03655732,  0.06078151,  0.01993084, -0.12899251,\n",
       "        0.058643  ,  0.16593577, -0.0008769 , -0.08766784, -0.00889528,\n",
       "       -0.09183278, -0.00083207,  0.0132753 ,  0.02858858,  0.05752028,\n",
       "        0.06666937, -0.06044132,  0.05552813, -0.05459036, -0.02983318,\n",
       "        0.02547582,  0.11307366,  0.0956609 ,  0.03641674, -0.06068217,\n",
       "        0.12708023,  0.00341043, -0.0408004 , -0.00563867,  0.07311842,\n",
       "        0.10718103,  0.10324741,  0.10211591,  0.07757076,  0.01830518,\n",
       "        0.05868388,  0.18205409,  0.04185232,  0.07709884, -0.04973562,\n",
       "       -0.0598188 ,  0.02239935,  0.06609743,  0.02909949,  0.01521118,\n",
       "        0.10248249, -0.06063779,  0.04541606,  0.03804458,  0.11100055,\n",
       "       -0.20489667, -0.09028218, -0.16539784,  0.33910766,  0.0659421 ,\n",
       "        0.01611783, -0.06501891,  0.07366139,  0.10643096,  0.05415412,\n",
       "        0.17481975,  0.05843208,  0.06746348, -0.02942436,  0.03732304,\n",
       "        0.20283936, -0.01219715,  0.05916332,  0.08862519,  0.07971703,\n",
       "       -0.02303703,  0.030073  ,  0.04230256, -0.01404744, -0.11635466,\n",
       "       -0.10747258,  0.083685  , -0.02297432, -0.16763568,  0.04933483,\n",
       "       -0.10978547, -0.26418692,  0.0293915 , -0.02911921,  0.00252582,\n",
       "       -0.03146949,  0.02509262, -0.05860596,  0.01828431, -0.11392289,\n",
       "        0.02768491,  0.03284815,  0.08689116, -0.08004598, -0.03738574,\n",
       "       -0.02816857, -0.08076449, -0.19729349,  0.01456134,  0.15011099,\n",
       "        0.01051142,  0.00271951,  0.08554708, -0.01599154,  0.06393731,\n",
       "        0.0582528 , -0.08779347, -0.09874551, -0.07580002, -0.00446414,\n",
       "       -0.11697266, -0.06356873, -0.04396787,  0.06314171,  0.0044152 ,\n",
       "       -0.12094054,  0.02422773, -0.06835091, -0.00743916,  0.06889341,\n",
       "        0.03938092, -0.11378139,  0.01488061, -0.05572038,  0.04792839,\n",
       "        0.01628996, -0.0293665 ,  0.05286702, -0.01325104,  0.04556084,\n",
       "       -0.04136365,  0.02691124, -0.05390927,  0.01791093,  0.09524912,\n",
       "        0.0596697 ,  0.02300758, -0.07757762, -0.02536109,  0.10476772,\n",
       "       -0.0775715 ,  0.02795476,  0.03397706, -0.01836241, -0.0840051 ,\n",
       "        0.03228146, -0.04318178, -0.1528681 , -0.01372931,  0.06691713,\n",
       "       -0.05909936,  0.15445805, -0.13247646, -0.06528221, -0.13629204,\n",
       "       -0.06422284,  0.04411745,  0.14395678,  0.06128486, -0.02185732,\n",
       "        0.01111961,  0.06693597, -0.07116517, -0.04133893,  0.01445644,\n",
       "       -0.08776345,  0.09816371, -0.08564807,  0.10294849, -0.05412665,\n",
       "       -0.10521609, -0.07916879,  0.01886523, -0.00682006,  0.01891061,\n",
       "       -0.00359096,  0.07706689,  0.03495892,  0.09044409, -0.02868972,\n",
       "        0.00592739, -0.13718416, -0.00206212, -0.00721926, -0.10262633,\n",
       "        0.03361183, -0.00471625, -0.1400243 , -0.07563648, -0.07113069,\n",
       "        0.05614221,  0.09050704, -0.10102784, -0.05987642, -0.15119134,\n",
       "        0.07513519,  0.13114904,  0.00768325, -0.01062712, -0.01897903,\n",
       "        0.11725833, -0.00388774,  0.05538503,  0.12733275,  0.03678019,\n",
       "       -0.05079038,  0.09500796, -0.05354761, -0.03534901, -0.16555656,\n",
       "        0.02835768,  0.0061125 ,  0.00394353, -0.07146341,  0.08823267,\n",
       "       -0.09047473,  0.03738517, -0.08349708, -0.051764  ,  0.07885039,\n",
       "        0.02607427,  0.06631124,  0.00803688, -0.1240691 , -0.17751716,\n",
       "        0.05593899,  0.01630078,  0.03709158, -0.15916763, -0.08487168,\n",
       "        0.04844114,  0.20202248, -0.06386249, -0.08311638, -0.21550278,\n",
       "       -0.05000665,  0.15819316,  0.05806852, -0.10955287,  0.00101495,\n",
       "       -0.04286201,  0.03875572, -0.00155382, -0.1009604 ,  0.08931386,\n",
       "        0.06344709,  0.09206489,  0.1342442 , -0.04123212,  0.13267872,\n",
       "        0.02450337, -0.11047035, -0.04687876,  0.07238693, -0.01304859,\n",
       "        0.03243777, -0.12709227,  0.1161925 ,  0.05032475,  0.05626994,\n",
       "        0.01662706,  0.10902464,  0.09599484,  0.05962994,  0.13970941,\n",
       "        0.1227181 ,  0.0197197 , -0.06395012,  0.19154644, -0.11300925],\n",
       "      dtype=float32)"
      ]
     },
     "execution_count": 41,
     "metadata": {},
     "output_type": "execute_result"
    }
   ],
   "source": [
    "doc_vector = doc2vec_model_4.infer_vector(simple_preprocess('This is a completely unseen document'), epochs=20) # Use the increased number of epochs\n",
    "doc_vector"
   ]
  },
  {
   "cell_type": "markdown",
   "id": "ongoing-prayer",
   "metadata": {},
   "source": [
    "Time to generate the feature vector of a new document! In this instance I just chose an existing one (i.e. the first one)."
   ]
  },
  {
   "cell_type": "code",
   "execution_count": 42,
   "id": "binding-metabolism",
   "metadata": {},
   "outputs": [
    {
     "data": {
      "text/plain": [
       "array([ 0.05063752, -0.3522123 , -0.03847864, -0.02691843,  0.1725332 ,\n",
       "        0.01931952,  0.2046942 ,  0.37280965, -0.02031984, -0.65930253,\n",
       "       -0.09503067, -0.47347158,  0.09792781,  0.4610042 ,  0.30140167,\n",
       "       -0.34934843,  0.08297797, -0.3112126 ,  0.12697448, -0.4252786 ,\n",
       "       -0.23342428,  0.19774468,  0.24667373,  0.24376878, -0.12564105,\n",
       "       -0.17960215, -0.3513878 , -0.10769502, -0.50110584,  0.0470781 ,\n",
       "        0.16185929, -0.1260226 , -0.0356044 , -0.3685827 ,  0.35558677,\n",
       "       -0.1919126 ,  0.31113684, -0.44481435, -0.11807239, -0.13424653,\n",
       "       -0.1564099 , -0.37723264,  0.43082458, -0.04404666, -0.0483804 ,\n",
       "       -0.39938354,  0.42217514,  0.39146382,  0.8058158 , -0.3036906 ,\n",
       "       -0.0632783 ,  0.27618518,  0.5108298 , -0.03601399,  0.11426351,\n",
       "       -0.41574305,  0.01020561,  0.01722362,  0.21124266, -0.13899797,\n",
       "       -0.24676284,  0.20083968, -0.24071468, -0.07085099, -0.29294598,\n",
       "        0.8544735 ,  0.50256634,  0.08132643, -0.35106632,  0.6913793 ,\n",
       "        0.06613563, -0.16526355, -0.19459425,  0.13691233,  0.23600113,\n",
       "       -0.07531282,  0.05023694,  0.13496032, -0.3282528 ,  0.03623457,\n",
       "       -0.40225944, -0.22301908, -0.3664458 ,  0.16642568, -0.27655444,\n",
       "       -0.13834237,  0.02684609,  0.11049215,  0.34919122,  0.49361932,\n",
       "        0.49780488,  0.26424012, -0.12445974,  0.20975025,  0.12549806,\n",
       "        0.19877648,  0.13598347, -0.31790367,  0.09552468, -0.04770925],\n",
       "      dtype=float32)"
      ]
     },
     "execution_count": 42,
     "metadata": {},
     "output_type": "execute_result"
    }
   ],
   "source": [
    "doc_vector = doc2vec_model.infer_vector(simple_preprocess(dataset.data[0]), epochs=10)\n",
    "doc_vector"
   ]
  },
  {
   "cell_type": "markdown",
   "id": "moved-repair",
   "metadata": {},
   "source": [
    "I will now try to find the most similar documents. This will return the index of the most similar docs. Since I used an existing document as in input, I am expecting this (i.e. index 0) to be the best match."
   ]
  },
  {
   "cell_type": "code",
   "execution_count": 43,
   "id": "collective-hypothesis",
   "metadata": {},
   "outputs": [
    {
     "name": "stderr",
     "output_type": "stream",
     "text": [
      "C:\\Users\\asus\\AppData\\Local\\Temp\\ipykernel_22900\\796245999.py:1: DeprecationWarning: Call to deprecated `docvecs` (The `docvecs` property has been renamed `dv`.).\n",
      "  doc2vec_model.docvecs.most_similar([doc_vector])\n"
     ]
    },
    {
     "data": {
      "text/plain": [
       "[(0, 0.8959611058235168),\n",
       " (3580, 0.767242431640625),\n",
       " (2127, 0.7177535891532898),\n",
       " (898, 0.6994127035140991),\n",
       " (23, 0.6979001760482788),\n",
       " (4158, 0.6961485147476196),\n",
       " (2343, 0.6880637407302856),\n",
       " (2841, 0.686158299446106),\n",
       " (1779, 0.6816949844360352),\n",
       " (8609, 0.6800618767738342)]"
      ]
     },
     "execution_count": 43,
     "metadata": {},
     "output_type": "execute_result"
    }
   ],
   "source": [
    "doc2vec_model.docvecs.most_similar([doc_vector])"
   ]
  },
  {
   "cell_type": "markdown",
   "id": "suspected-party",
   "metadata": {},
   "source": [
    "Now lets check the two most similar documents and see if there is similarity in the context."
   ]
  },
  {
   "cell_type": "code",
   "execution_count": 44,
   "id": "different-mineral",
   "metadata": {},
   "outputs": [
    {
     "name": "stdout",
     "output_type": "stream",
     "text": [
      " *** Doc 1 ***\n",
      "Well i'm not sure about the story nad it did seem biased. What\n",
      "I disagree with is your statement that the U.S. Media is out to\n",
      "ruin Israels reputation. That is rediculous. The U.S. media is\n",
      "the most pro-israeli media in the world. Having lived in Europe\n",
      "I realize that incidences such as the one described in the\n",
      "letter have occured. The U.S. media as a whole seem to try to\n",
      "ignore them. The U.S. is subsidizing Israels existance and the\n",
      "Europeans are not (at least not to the same degree). So I think\n",
      "that might be a reason they report more clearly on the\n",
      "atrocities.\n",
      "\tWhat is a shame is that in Austria, daily reports of\n",
      "the inhuman acts commited by Israeli soldiers and the blessing\n",
      "received from the Government makes some of the Holocaust guilt\n",
      "go away. After all, look how the Jews are treating other races\n",
      "when they got power. It is unfortunate.\n",
      "\n",
      " *** Doc 2 ***\n",
      "\tFirst let me correct myself in that it was Goerbels and\n",
      "not Goering (Airforce) who ran the Nazi propaganda machine. I\n",
      "agree that Arab news sources are also inherently biased. But I\n",
      "believe the statement I was reacting to was that since the\n",
      "american accounts of events are not fully like the Israeli\n",
      "accounts, the Americans are biased. I just thought that the\n",
      "Israelis had more motivation for bias.\n",
      "\tThe UN has tried many times to condemn Israel for its\n",
      "gross violation of human rights. However the US has vetoed most\n",
      "such attempts. It is interesting to note that the U.S. is often\n",
      "the only country opposing such condemnation (well the U.S. and\n",
      "Israel). It is also interesting to note that that means\n",
      "other western countries realize these human rights violations.\n",
      "So maybe there are human rights violations going on after all. \n",
      "\n"
     ]
    }
   ],
   "source": [
    "print(\" *** Doc 1 ***\")\n",
    "print(dataset.data[0])\n",
    "print(\" *** Doc 2 ***\")\n",
    "print(dataset.data[3580])"
   ]
  },
  {
   "cell_type": "markdown",
   "id": "chicken-talent",
   "metadata": {},
   "source": [
    "## Challenge - 5\n",
    "Use the fetch_20newsgroups dataset from sklearn (see code above) and re-train doc2vec with that data instead.\n",
    "\n",
    "Then, check using the most similar function to see if the documents you test are indeed similar."
   ]
  }
 ],
 "metadata": {
  "kernelspec": {
   "display_name": "pyTorchTests",
   "language": "python",
   "name": "pytorchtests"
  },
  "language_info": {
   "codemirror_mode": {
    "name": "ipython",
    "version": 3
   },
   "file_extension": ".py",
   "mimetype": "text/x-python",
   "name": "python",
   "nbconvert_exporter": "python",
   "pygments_lexer": "ipython3",
   "version": "3.10.4"
  }
 },
 "nbformat": 4,
 "nbformat_minor": 5
}
