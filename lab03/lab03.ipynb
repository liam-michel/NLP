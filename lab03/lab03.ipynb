{
 "cells": [
  {
   "cell_type": "markdown",
   "id": "official-salvation",
   "metadata": {},
   "source": [
    "# Lab 03 - Artificial Neural Networks Intro\n",
    "In this lab we will look into building ANNs, starting with the perceptron and eventually building Multi Layer Perceptrons. We will also experiment with the different parameters for ANNs.\n",
    "### Perceptron\n",
    "First lets build the main mechanism (summation function) of the perceptron."
   ]
  },
  {
   "cell_type": "code",
   "execution_count": 1,
   "id": "removable-backup",
   "metadata": {},
   "outputs": [],
   "source": [
    "import numpy as np\n",
    "example_input = [1, .2, .1, .05, .2]\n",
    "example_weights = [.2, .12, .4, .6, .90]\n",
    "input_vector = np.array(example_input)\n",
    "weights = np.array(example_weights)\n",
    "bias_weight = .2\n",
    "\n",
    "\n",
    "#   = (1 * 0.2) + (0.2 * 0.12) + (0.1 * 0.4) + (0.05 * 0.6) + (0.2 * 0.9) + (0.2 * 1)\n",
    "#   = 0.2 + 0.024 + 0.04 + 0.03 + 0.18 + 0.2\n",
    "#                \n",
    "                \n",
    "# output = activation_level \n",
    "\n",
    "def calc_output(input_vector, weights, bias_weight):\n",
    "    activation_level = np.dot(input_vector, weights) + (bias_weight * 1)\n",
    "    return activation_level"
   ]
  },
  {
   "cell_type": "markdown",
   "id": "dominant-horizon",
   "metadata": {},
   "source": [
    "Try it!"
   ]
  },
  {
   "cell_type": "code",
   "execution_count": 2,
   "id": "norwegian-cache",
   "metadata": {},
   "outputs": [
    {
     "name": "stdout",
     "output_type": "stream",
     "text": [
      "0.674\n"
     ]
    }
   ],
   "source": [
    "activation_level = calc_output(input_vector, weights, bias_weight)\n",
    "print(activation_level)"
   ]
  },
  {
   "cell_type": "markdown",
   "id": "ce85567e",
   "metadata": {},
   "source": [
    "## Challenge 01"
   ]
  },
  {
   "cell_type": "markdown",
   "id": "structural-freeze",
   "metadata": {},
   "source": [
    "Now lets calculate the activation as a step function"
   ]
  },
  {
   "cell_type": "code",
   "execution_count": 3,
   "id": "likely-movement",
   "metadata": {},
   "outputs": [],
   "source": [
    "threshold = 0.5\n",
    "\n",
    "def calc_activation(threshold, activation_level):\n",
    "    ## TODO: Implement this function to calculate the activation. Use a simple if statement to set the activation to 1 or 0.\n",
    "    return perceptron_output"
   ]
  },
  {
   "cell_type": "markdown",
   "id": "younger-reproduction",
   "metadata": {},
   "source": [
    "Try it!"
   ]
  },
  {
   "cell_type": "code",
   "execution_count": 4,
   "id": "included-parts",
   "metadata": {},
   "outputs": [
    {
     "name": "stdout",
     "output_type": "stream",
     "text": [
      "1\n"
     ]
    }
   ],
   "source": [
    "perceptron_output = calc_activation(threshold, activation_level)\n",
    "print(perceptron_output)"
   ]
  },
  {
   "cell_type": "markdown",
   "id": "caroline-consent",
   "metadata": {},
   "source": [
    "Now lets try out different inputs and see the output."
   ]
  },
  {
   "cell_type": "code",
   "execution_count": 5,
   "id": "according-quilt",
   "metadata": {},
   "outputs": [
    {
     "name": "stdout",
     "output_type": "stream",
     "text": [
      "0\n"
     ]
    }
   ],
   "source": [
    "print(calc_activation(0.5, calc_output([1, .2, .1, .05, .2], [.1, .02, .2, .3, .01], .2)))"
   ]
  },
  {
   "cell_type": "code",
   "execution_count": 6,
   "id": "cooperative-crystal",
   "metadata": {},
   "outputs": [
    {
     "name": "stdout",
     "output_type": "stream",
     "text": [
      "0\n"
     ]
    }
   ],
   "source": [
    "print(calc_activation(0.5, calc_output([.5, .1, .1, .05, .1], [.2, .12, .4, .6, .90], .2)))"
   ]
  },
  {
   "cell_type": "markdown",
   "id": "major-riding",
   "metadata": {},
   "source": [
    "Lets do some learning... and observe how the weights change."
   ]
  },
  {
   "cell_type": "code",
   "execution_count": 7,
   "id": "southwest-distribution",
   "metadata": {},
   "outputs": [],
   "source": [
    "expected_output = 0\n",
    "new_weights = []\n",
    "\n",
    "for i, x in enumerate(example_input):\n",
    "    new_weights.append(weights[i] + (expected_output - perceptron_output) * x)\n",
    "\n",
    "weights = np.array(new_weights)"
   ]
  },
  {
   "cell_type": "markdown",
   "id": "solar-lloyd",
   "metadata": {},
   "source": [
    "So lets compare the original and new weights"
   ]
  },
  {
   "cell_type": "code",
   "execution_count": 8,
   "id": "instructional-fraud",
   "metadata": {},
   "outputs": [
    {
     "name": "stdout",
     "output_type": "stream",
     "text": [
      "[0.2, 0.12, 0.4, 0.6, 0.9]\n",
      "[-0.8  -0.08  0.3   0.55  0.7 ]\n"
     ]
    }
   ],
   "source": [
    "print(example_weights)\n",
    "print(weights)"
   ]
  },
  {
   "cell_type": "markdown",
   "id": "lucky-consultancy",
   "metadata": {},
   "source": [
    "### Teaching the Perceptron to solve the Truth Table\n",
    "Let's try to teach it the OR boolean logic function"
   ]
  },
  {
   "cell_type": "code",
   "execution_count": 4,
   "id": "played-forward",
   "metadata": {},
   "outputs": [],
   "source": [
    "sample_data = [\n",
    "... [0, 0], # False, False\n",
    "... [0, 1], # False, True\n",
    "... [1, 0], # True, False\n",
    "... [1, 1]] # True, True\n",
    "expected_results = [\n",
    "... 0, # (False OR False) gives False\n",
    "... 1, # (False OR True ) gives True\n",
    "... 1, # (True OR False) gives True\n",
    "... 1] # (True OR True ) gives True"
   ]
  },
  {
   "cell_type": "code",
   "execution_count": 10,
   "id": "democratic-bulgaria",
   "metadata": {},
   "outputs": [
    {
     "name": "stdout",
     "output_type": "stream",
     "text": [
      "[0.00037423 0.00021298]\n",
      "0.00023979000545517625\n"
     ]
    }
   ],
   "source": [
    "from random import random\n",
    "weights = np.random.random(2)/1000 # Small random float 0 < w < .001\n",
    "bias_weight = np.random.random() / 1000\n",
    "print(weights)\n",
    "print(bias_weight)"
   ]
  },
  {
   "cell_type": "markdown",
   "id": "efe46b29",
   "metadata": {},
   "source": [
    "## Challenge 02"
   ]
  },
  {
   "cell_type": "code",
   "execution_count": 11,
   "id": "painful-support",
   "metadata": {},
   "outputs": [
    {
     "name": "stdout",
     "output_type": "stream",
     "text": [
      "Expected 0 - Predicted 0\n",
      "Expected 1 - Predicted 0\n",
      "Expected 1 - Predicted 0\n",
      "Expected 1 - Predicted 0\n"
     ]
    }
   ],
   "source": [
    "for idx, sample in enumerate(sample_data):\n",
    "    input_vector = np.array(sample)\n",
    "    #TODO: Use the functions defined above to calculate the activation level and the output of the perceptron. Use the weights and bias weight to calculate the activation level.\n",
    "    activation_level = ...\n",
    "    perceptron_output = ...\n",
    "    print('Expected {} - Predicted {}'.format(expected_results[idx], perceptron_output))"
   ]
  },
  {
   "cell_type": "markdown",
   "id": "close-colony",
   "metadata": {},
   "source": [
    "Not very successful when using random weights... Now let's teach it!"
   ]
  },
  {
   "cell_type": "code",
   "execution_count": 12,
   "id": "hazardous-deficit",
   "metadata": {},
   "outputs": [
    {
     "name": "stdout",
     "output_type": "stream",
     "text": [
      "3 correct answers out of 4, for iteration 0\n",
      "2 correct answers out of 4, for iteration 1\n",
      "3 correct answers out of 4, for iteration 2\n",
      "4 correct answers out of 4, for iteration 3\n",
      "4 correct answers out of 4, for iteration 4\n"
     ]
    }
   ],
   "source": [
    "for iteration_num in range(5):\n",
    "    correct_answers = 0\n",
    "    for idx, sample in enumerate(sample_data):\n",
    "        input_vector = np.array(sample)\n",
    "        weights = np.array(weights)\n",
    "        activation_level = calc_output(input_vector, weights, bias_weight)\n",
    "        perceptron_output = calc_activation(threshold, activation_level)\n",
    "        #TODO: Write an if statement to compare perceptron_output with expected_results and increment correct_answers\n",
    "        new_weights = []\n",
    "        for i, x in enumerate(sample):\n",
    "            new_weights.append(weights[i] + (expected_results[idx] - perceptron_output) * x)\n",
    "        bias_weight = bias_weight + ((expected_results[idx] - perceptron_output) * 1)\n",
    "        weights = np.array(new_weights)\n",
    "    print('{} correct answers out of 4, for iteration {}'.format(correct_answers, iteration_num))"
   ]
  },
  {
   "cell_type": "markdown",
   "id": "selected-making",
   "metadata": {},
   "source": [
    "## Challenge 03\n",
    "Try experimenting with other operators such as AND and XOR. Adjust the learning cycles (iterations) and see if the Perceptron can learn XOR."
   ]
  },
  {
   "cell_type": "markdown",
   "id": "fallen-ethiopia",
   "metadata": {},
   "source": [
    "## Perceptron implementation in SKLEARN\n",
    "Let's try one already implemented in scikit-learn, but with some NLP data.\n",
    "\n",
    "First we are going to grab the data and generate the TFIDF vectors"
   ]
  },
  {
   "cell_type": "code",
   "execution_count": 13,
   "id": "welcome-trouble",
   "metadata": {},
   "outputs": [],
   "source": [
    "from sklearn.linear_model import Perceptron\n",
    "from sklearn.datasets import fetch_20newsgroups\n",
    "\n",
    "# Get some data\n",
    "categories = ['alt.atheism', 'sci.med']\n",
    "train = fetch_20newsgroups(subset='train', categories=categories, shuffle=True)\n",
    "\n",
    "# Initiate the perceptron object\n",
    "perceptron = Perceptron(max_iter=100)\n",
    "\n",
    "from sklearn.feature_extraction.text import CountVectorizer\n",
    "\n",
    "#TODO: Calculate the frequency vectors using Count Vectorizer from sklearn, and use fit_transform over train.data to get X_train_counts\n",
    "\n",
    "from sklearn.feature_extraction.text import TfidfTransformer\n",
    "\n",
    "# Calculate the TFIDF vectors\n",
    "tfidf_tf = TfidfTransformer()\n",
    "X_train_tfidf = tfidf_tf.fit_transform(X_train_counts)"
   ]
  },
  {
   "cell_type": "markdown",
   "id": "casual-initial",
   "metadata": {},
   "source": [
    "Now we are going to perform the training, given the input and the target (desired outputs)"
   ]
  },
  {
   "cell_type": "code",
   "execution_count": 14,
   "id": "interim-remedy",
   "metadata": {},
   "outputs": [
    {
     "name": "stdout",
     "output_type": "stream",
     "text": [
      "CPU times: user 23.4 ms, sys: 4.97 ms, total: 28.4 ms\n",
      "Wall time: 4.94 ms\n"
     ]
    },
    {
     "data": {
      "text/plain": [
       "Perceptron(max_iter=100)"
      ]
     },
     "execution_count": 14,
     "metadata": {},
     "output_type": "execute_result"
    }
   ],
   "source": [
    "%%time\n",
    "# Train\n",
    "perceptron.fit(X_train_tfidf, train.target)"
   ]
  },
  {
   "cell_type": "markdown",
   "id": "juvenile-apparel",
   "metadata": {},
   "source": [
    "So now we are good to perform some testing"
   ]
  },
  {
   "cell_type": "code",
   "execution_count": 15,
   "id": "ready-array",
   "metadata": {},
   "outputs": [
    {
     "name": "stdout",
     "output_type": "stream",
     "text": [
      "(5, 22735)\n",
      "'Religion is widespread, even in modern times' => alt.atheism\n",
      "'His kidney failed to function' => sci.med\n",
      "'Some people do not believe in god' => alt.atheism\n",
      "'White blood cells fight off infections' => sci.med\n",
      "'The reverend had a heart attack in the church' => sci.med\n"
     ]
    }
   ],
   "source": [
    "# Prepare some test data\n",
    "test_docs = ['Religion is widespread, even in modern times',\n",
    "'His kidney failed to function','Some people do not believe in god',\n",
    "'White blood cells fight off infections',\n",
    "'The reverend had a heart attack in the church']\n",
    "\n",
    "X_test_counts = cv.transform(test_docs)\n",
    "X_test_tfidf = tfidf_tf.transform(X_test_counts)\n",
    "print(X_test_tfidf.shape)\n",
    "\n",
    "# Perform the prediction\n",
    "pred = perceptron.predict(X_test_tfidf)\n",
    "for doc, category in zip(test_docs, pred):\n",
    "    print('%r => %s' % (doc, train.target_names[category]))"
   ]
  },
  {
   "cell_type": "markdown",
   "id": "regular-shoot",
   "metadata": {},
   "source": [
    "This is pretty impressive, but the two subjects choosen are pretty different and therefore linearly separable.\n",
    "\n",
    "Lets pickup a latger test set ans measure the F1 score."
   ]
  },
  {
   "cell_type": "code",
   "execution_count": 16,
   "id": "gothic-klein",
   "metadata": {},
   "outputs": [
    {
     "name": "stdout",
     "output_type": "stream",
     "text": [
      "(715, 22735)\n"
     ]
    },
    {
     "data": {
      "text/plain": [
       "0.9430505774591795"
      ]
     },
     "execution_count": 16,
     "metadata": {},
     "output_type": "execute_result"
    }
   ],
   "source": [
    "from sklearn import metrics\n",
    "test = fetch_20newsgroups(subset='test', categories=categories, shuffle=True)\n",
    "X_test_counts = cv.transform(test.data)\n",
    "X_test_tfidf = tfidf_tf.transform(X_test_counts)\n",
    "print(X_test_tfidf.shape)\n",
    "\n",
    "pred = perceptron.predict(X_test_tfidf)\n",
    "metrics.f1_score(test.target, pred, average='macro')"
   ]
  },
  {
   "cell_type": "markdown",
   "id": "dried-herald",
   "metadata": {},
   "source": [
    "## Challenge 04\n",
    "Try other categories (explore the [documentation](https://scikit-learn.org/stable/datasets/real_world.html#newsgroups-dataset) to see what options there are) and see if the perceptron still learns. Try a different number of iterations to see if performance improves. Also explore other metric (like precision, recall, etc.) in the [documentation](https://scikit-learn.org/stable/modules/model_evaluation.html) and see if you can understand the results better."
   ]
  },
  {
   "cell_type": "markdown",
   "id": "careful-inspiration",
   "metadata": {},
   "source": [
    "### Multi Layer Perceptron (MLP)"
   ]
  },
  {
   "cell_type": "markdown",
   "id": "numerous-bible",
   "metadata": {},
   "source": [
    "Now lets look at a Multi Layer Perceptron (MLP) and experiment with different parameters"
   ]
  },
  {
   "cell_type": "code",
   "execution_count": 17,
   "id": "excited-apparel",
   "metadata": {},
   "outputs": [
    {
     "name": "stdout",
     "output_type": "stream",
     "text": [
      "\n",
      "learning on dataset news\n",
      "training: constant learning-rate\n",
      "Training set score: 0.860000\n",
      "Training set loss: 0.267127\n",
      "training: constant with momentum\n",
      "Training set score: 0.826000\n",
      "Training set loss: 0.259419\n",
      "training: constant with Nesterov's momentum\n",
      "Training set score: 0.848000\n",
      "Training set loss: 0.276078\n",
      "training: inv-scaling learning-rate\n",
      "Training set score: 0.496000\n",
      "Training set loss: 0.693931\n",
      "training: inv-scaling with momentum\n",
      "Training set score: 0.534000\n",
      "Training set loss: 0.684897\n",
      "training: inv-scaling with Nesterov's momentum\n",
      "Training set score: 0.534000\n",
      "Training set loss: 0.684780\n",
      "training: adam\n",
      "Training set score: 0.888000\n",
      "Training set loss: 0.202242\n"
     ]
    },
    {
     "data": {
      "image/png": "[encoded data removed]",
      "text/plain": [
       "<Figure size 1080x720 with 1 Axes>"
      ]
     },
     "metadata": {
      "needs_background": "light"
     },
     "output_type": "display_data"
    }
   ],
   "source": [
    "import warnings\n",
    "\n",
    "import matplotlib.pyplot as plt\n",
    "\n",
    "from sklearn.neural_network import MLPClassifier\n",
    "from sklearn.preprocessing import MinMaxScaler\n",
    "from sklearn.exceptions import ConvergenceWarning\n",
    "\n",
    "# different learning rate schedules and momentum parameters\n",
    "params = [{'solver': 'sgd', 'learning_rate': 'constant', 'momentum': 0, 'learning_rate_init': 0.2},\n",
    "          {'solver': 'sgd', 'learning_rate': 'constant', 'momentum': .9, 'nesterovs_momentum': False, 'learning_rate_init': 0.2},\n",
    "          {'solver': 'sgd', 'learning_rate': 'constant', 'momentum': .9, 'nesterovs_momentum': True, 'learning_rate_init': 0.2},\n",
    "          {'solver': 'sgd', 'learning_rate': 'invscaling', 'momentum': 0, 'learning_rate_init': 0.2},\n",
    "          {'solver': 'sgd', 'learning_rate': 'invscaling', 'momentum': .9, 'nesterovs_momentum': True, 'learning_rate_init': 0.2},\n",
    "          {'solver': 'sgd', 'learning_rate': 'invscaling', 'momentum': .9, 'nesterovs_momentum': False, 'learning_rate_init': 0.2},\n",
    "          {'solver': 'adam', 'learning_rate_init': 0.01}]\n",
    "\n",
    "labels = [\"constant learning-rate\", \n",
    "          \"constant with momentum\",\n",
    "          \"constant with Nesterov's momentum\",\n",
    "          \"inv-scaling learning-rate\", \n",
    "          \"inv-scaling with momentum\",\n",
    "          \"inv-scaling with Nesterov's momentum\", \n",
    "          \"adam\"]\n",
    "\n",
    "plot_args = [{'c': 'red', 'linestyle': '-'},\n",
    "             {'c': 'green', 'linestyle': '-'},\n",
    "             {'c': 'blue', 'linestyle': '-'},\n",
    "             {'c': 'red', 'linestyle': '--'},\n",
    "             {'c': 'green', 'linestyle': '--'},\n",
    "             {'c': 'blue', 'linestyle': '--'},\n",
    "             {'c': 'black', 'linestyle': '-'}]\n",
    "\n",
    "\n",
    "def plot_on_dataset(X, y, ax, name):\n",
    "    # for each dataset, plot learning for each learning strategy\n",
    "    print(\"\\nlearning on dataset %s\" % name)\n",
    "    ax.set_title(name)\n",
    "\n",
    "    X = MinMaxScaler().fit_transform(X)\n",
    "    mlps = []\n",
    "    if name == \"digits\":\n",
    "        # digits is larger but converges fairly quickly\n",
    "        max_iter = 15\n",
    "    else:\n",
    "        max_iter = 400\n",
    "\n",
    "    for label, param in zip(labels, params):\n",
    "        print(\"training: %s\" % label)\n",
    "        mlp = MLPClassifier(random_state=0,\n",
    "                            max_iter=max_iter, **param)\n",
    "\n",
    "        # some parameter combinations will not converge as can be seen on the\n",
    "        # plots so they are ignored here\n",
    "        with warnings.catch_warnings():\n",
    "            warnings.filterwarnings(\"ignore\", category=ConvergenceWarning,\n",
    "                                    module=\"sklearn\")\n",
    "            mlp.fit(X, y)\n",
    "\n",
    "        mlps.append(mlp)\n",
    "        print(\"Training set score: %f\" % mlp.score(X, y))\n",
    "        print(\"Training set loss: %f\" % mlp.loss_)\n",
    "    for mlp, label, args in zip(mlps, labels, plot_args):\n",
    "        ax.plot(mlp.loss_curve_, label=label, **args)\n",
    "\n",
    "# Prepare the plot... using a subplot here in case you want to plot muiltiple\n",
    "fig, axes = plt.subplots(1, 1, figsize=(15, 10))\n",
    "\n",
    "# Choosing the first 500 records and only 1000 features... just for this lab, else it will be very slow\n",
    "data_sets = [(X_train_tfidf.toarray()[:500,:1000], train.target[:500])]\n",
    "\n",
    "# call the function to train and prepare results in plots\n",
    "plot_on_dataset(*data_sets[0], axes, name='news')\n",
    "\n",
    "fig.legend(axes.get_lines(), labels, ncol=3, loc=\"upper center\")\n",
    "plt.show()"
   ]
  },
  {
   "cell_type": "markdown",
   "id": "written-letters",
   "metadata": {},
   "source": [
    "## Challenge 05\n",
    "Look at the classifier [documentation](https://scikit-learn.org/stable/modules/generated/sklearn.neural_network.MLPClassifier.html) and experiment with the following parameters: hidden_layer_sizes, activation, batch_size\n",
    "\n",
    "Add the above variations in the parameters list and see if there are any changes"
   ]
  },
  {
   "cell_type": "code",
   "execution_count": null,
   "id": "rocky-meter",
   "metadata": {},
   "outputs": [],
   "source": []
  },
  {
   "cell_type": "markdown",
   "id": "9ab1f466",
   "metadata": {},
   "source": [
    "## Challenge 06\n",
    "### Sentiment analysis of movie reviews\n",
    "\n",
    "The following sub-section will show you how to perform sentiment analysis on the [movie review dataset](https://www.cs.cornell.edu/people/pabo/movie-review-data/) using simple perceptrons:"
   ]
  },
  {
   "cell_type": "markdown",
   "id": "59b706b5",
   "metadata": {},
   "source": [
    "1) Run the script bellow to download the necessary data"
   ]
  },
  {
   "cell_type": "code",
   "execution_count": null,
   "id": "93d5b6fe",
   "metadata": {},
   "outputs": [],
   "source": [
    "### The below script is taken from https://github.com/scikit-learn/scikit-learn/blob/main/doc/tutorial/text_analytics/data/movie_reviews/fetch_data.py\n",
    "\n",
    "\"\"\"Script to download the movie review dataset\"\"\"\n",
    "\n",
    "from pathlib import Path\n",
    "from hashlib import sha256\n",
    "import tarfile\n",
    "from urllib.request import urlopen\n",
    "\n",
    "\n",
    "URL = \"http://www.cs.cornell.edu/people/pabo/movie-review-data/review_polarity.tar.gz\"\n",
    "\n",
    "ARCHIVE_SHA256 = \"fc0dccc2671af5db3c5d8f81f77a1ebfec953ecdd422334062df61ede36b2179\"\n",
    "ARCHIVE_NAME = Path(URL.rsplit(\"/\", 1)[1])\n",
    "DATA_FOLDER = Path(\"txt_sentoken\")\n",
    "\n",
    "\n",
    "if not DATA_FOLDER.exists():\n",
    "\n",
    "    if not ARCHIVE_NAME.exists():\n",
    "        print(\"Downloading dataset from %s (3 MB)\" % URL)\n",
    "        opener = urlopen(URL)\n",
    "        with open(ARCHIVE_NAME, \"wb\") as archive:\n",
    "            archive.write(opener.read())\n",
    "\n",
    "    try:\n",
    "        print(\"Checking the integrity of the archive\")\n",
    "        assert sha256(ARCHIVE_NAME.read_bytes()).hexdigest() == ARCHIVE_SHA256\n",
    "\n",
    "        print(\"Decompressing %s\" % ARCHIVE_NAME)\n",
    "        with tarfile.open(ARCHIVE_NAME, \"r:gz\") as archive:\n",
    "            archive.extractall(path=\".\")\n",
    "\n",
    "    finally:\n",
    "        ARCHIVE_NAME.unlink()"
   ]
  },
  {
   "cell_type": "markdown",
   "id": "0110f27f",
   "metadata": {},
   "source": [
    "2) load the dataset"
   ]
  },
  {
   "cell_type": "code",
   "execution_count": null,
   "id": "adc683cd",
   "metadata": {},
   "outputs": [],
   "source": [
    "from sklearn.datasets import load_files\n",
    "\n",
    "# Load the dataset we just downloaded using the load_files function from sklearn\n",
    "movie_reviews_data_folder = \"txt_sentoken\"\n",
    "dataset = load_files(movie_reviews_data_folder, shuffle=False)\n",
    "print(\"n_samples in the dataset: %d\" % len(dataset.data))"
   ]
  },
  {
   "cell_type": "markdown",
   "id": "4fcf798b",
   "metadata": {},
   "source": [
    "3. pre-process the data"
   ]
  },
  {
   "cell_type": "code",
   "execution_count": null,
   "id": "7f675158",
   "metadata": {},
   "outputs": [],
   "source": [
    "from sklearn.model_selection import train_test_split\n",
    "\n",
    "# split the dataset in training and test set:\n",
    "docs_train, docs_test, y_train, y_test = train_test_split(\n",
    "    dataset.data, dataset.target, test_size=0.25, random_state=None)\n",
    "\n",
    "# TODO: Initialize the perceptron object\n",
    "# TODO: Calculate the frequency vectors using Count Vectorizer as 'cv' from sklearn, \n",
    "# and use fit_transform over docs_train\n",
    "\n",
    "# TODO: fit the perceptron using the frequency vectors and the target values"
   ]
  },
  {
   "cell_type": "markdown",
   "id": "5707a645",
   "metadata": {},
   "source": [
    "4) Test the trained model"
   ]
  },
  {
   "cell_type": "code",
   "execution_count": null,
   "id": "250be9ed",
   "metadata": {},
   "outputs": [],
   "source": [
    "# X_test_counts is a sparse matrix that is obtained by transforming the test documents using the cv CountVectorizer object. \n",
    "# It transforms the test data using the vocabulary that was learned from the training data.\n",
    "X_test_counts = cv.transform(docs_test)\n",
    "\n",
    "# Transform the count vectors to TF-IDF representation\n",
    "X_test_tfidf = tfidf_tf.transform(X_test_counts)\n",
    "print(X_test_tfidf.shape)\n",
    "\n",
    "# Perform the prediction using the perceptron model\n",
    "pred = perceptron.predict(X_test_tfidf)\n",
    "\n",
    "# Print the classification report\n",
    "print(metrics.classification_report(y_test, pred, target_names=dataset.target_names))\n",
    "\n",
    "# Compute and print the confusion matrix\n",
    "cm = metrics.confusion_matrix(y_test, pred)\n",
    "print(f\"Confusion matrix:\\n {cm}\")\n",
    "\n",
    "# Plot the confusion matrix\n",
    "plt.figure(figsize=(8, 6))  # Optionally adjust the figure size\n",
    "cax = plt.matshow(cm, cmap=plt.cm.Blues)  # Use a blue color map\n",
    "plt.title('Confusion Matrix', pad=20)\n",
    "plt.xlabel('Predicted')\n",
    "plt.ylabel('True')\n",
    "plt.xticks(range(len(dataset.target_names)), dataset.target_names, rotation=45)\n",
    "plt.yticks(range(len(dataset.target_names)), dataset.target_names)\n",
    "\n",
    "# Add a color bar to show the scale\n",
    "plt.colorbar(cax)\n",
    "\n",
    "plt.show()"
   ]
  },
  {
   "cell_type": "markdown",
   "id": "685a6426",
   "metadata": {},
   "source": [
    "The following cell selects 5 reviews in the test set and shows both their predicted and actual sentiment."
   ]
  },
  {
   "cell_type": "code",
   "execution_count": null,
   "id": "85e35156",
   "metadata": {},
   "outputs": [],
   "source": [
    "for doc, prediction, actual in zip(docs_test[:5], pred[:5], y_test[:5]):\n",
    "    #The %r => %s formatting string is used to print the document (represented by %r) \n",
    "    #and its predicted category label (represented by %s) for each document in the test_docs list.\n",
    "    print(f\"{doc} => predicted: {prediction} / actual: {actual}\")"
   ]
  }
 ],
 "metadata": {
  "kernelspec": {
   "display_name": "Python 3 (ipykernel)",
   "language": "python",
   "name": "python3"
  },
  "language_info": {
   "codemirror_mode": {
    "name": "ipython",
    "version": 3
   },
   "file_extension": ".py",
   "mimetype": "text/x-python",
   "name": "python",
   "nbconvert_exporter": "python",
   "pygments_lexer": "ipython3",
   "version": "3.9.13"
  }
 },
 "nbformat": 4,
 "nbformat_minor": 5
}
