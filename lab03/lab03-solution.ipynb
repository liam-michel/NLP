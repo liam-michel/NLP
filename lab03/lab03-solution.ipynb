{
 "cells": [
  {
   "cell_type": "markdown",
   "id": "official-salvation",
   "metadata": {},
   "source": [
    "# Lab 03 - Artificial Neural Networks Intro\n",
    "In this lab we will look into building ANNs, starting with the perceptron and eventually building Multi Layer Perceptrons. We will also experiment with the different parameters for ANNs.\n",
    "### Perceptron\n",
    "First lets build the main mechanism (summation function) of the perceptron."
   ]
  },
  {
   "cell_type": "code",
   "execution_count": 1,
   "id": "removable-backup",
   "metadata": {},
   "outputs": [],
   "source": [
    "import numpy as np\n",
    "example_input = [1, .2, .1, .05, .2]\n",
    "example_weights = [.2, .12, .4, .6, .90]\n",
    "input_vector = np.array(example_input)\n",
    "weights = np.array(example_weights)\n",
    "bias_weight = .2\n",
    "\n",
    "def calc_output(input_vector, weights, bias_weight):\n",
    "    activation_level = np.dot(input_vector, weights) + (bias_weight * 1)\n",
    "    \n",
    "#   = (1 * 0.2) + (0.2 * 0.12) + (0.1 * 0.4) + (0.05 * 0.6) + (0.2 * 0.9) + (0.2 * 1)\n",
    "\n",
    "    return activation_level"
   ]
  },
  {
   "cell_type": "markdown",
   "id": "dominant-horizon",
   "metadata": {},
   "source": [
    "Try it!"
   ]
  },
  {
   "cell_type": "code",
   "execution_count": 2,
   "id": "norwegian-cache",
   "metadata": {},
   "outputs": [
    {
     "name": "stdout",
     "output_type": "stream",
     "text": [
      "0.674\n"
     ]
    }
   ],
   "source": [
    "activation_level = calc_output(input_vector, weights, bias_weight)\n",
    "print(activation_level)"
   ]
  },
  {
   "cell_type": "markdown",
   "id": "fa06db93",
   "metadata": {},
   "source": [
    "## Challenge 01"
   ]
  },
  {
   "cell_type": "markdown",
   "id": "structural-freeze",
   "metadata": {},
   "source": [
    "Now lets calculate the activation as a step function"
   ]
  },
  {
   "cell_type": "code",
   "execution_count": 3,
   "id": "likely-movement",
   "metadata": {},
   "outputs": [],
   "source": [
    "threshold = 0.5\n",
    "\n",
    "def calc_activation(threshold, activation_level):\n",
    "    #we need a binary output from the perceptron, either 0 or 1, to represent a certain class or category.\n",
    "    if activation_level >= threshold:\n",
    "        perceptron_output = 1\n",
    "    else:\n",
    "        perceptron_output = 0\n",
    "    return perceptron_output"
   ]
  },
  {
   "cell_type": "markdown",
   "id": "younger-reproduction",
   "metadata": {},
   "source": [
    "Try it!"
   ]
  },
  {
   "cell_type": "code",
   "execution_count": 4,
   "id": "included-parts",
   "metadata": {},
   "outputs": [
    {
     "name": "stdout",
     "output_type": "stream",
     "text": [
      "1\n"
     ]
    }
   ],
   "source": [
    "perceptron_output = calc_activation(threshold, activation_level)\n",
    "print(perceptron_output)"
   ]
  },
  {
   "cell_type": "markdown",
   "id": "caroline-consent",
   "metadata": {},
   "source": [
    "Now lets try out different inputs and see the output."
   ]
  },
  {
   "cell_type": "code",
   "execution_count": 5,
   "id": "according-quilt",
   "metadata": {},
   "outputs": [
    {
     "name": "stdout",
     "output_type": "stream",
     "text": [
      "0\n"
     ]
    }
   ],
   "source": [
    "print(calc_activation(0.5, calc_output([1, .2, .1, .05, .2], [.1, .02, .2, .3, .01], .2)))"
   ]
  },
  {
   "cell_type": "code",
   "execution_count": 6,
   "id": "cooperative-crystal",
   "metadata": {},
   "outputs": [
    {
     "name": "stdout",
     "output_type": "stream",
     "text": [
      "0\n"
     ]
    }
   ],
   "source": [
    "print(calc_activation(0.5, calc_output([.5, .1, .1, .05, .1], [.2, .12, .4, .6, .90], .2)))"
   ]
  },
  {
   "cell_type": "markdown",
   "id": "major-riding",
   "metadata": {},
   "source": [
    "Lets do some learning... and observe how the weights change."
   ]
  },
  {
   "cell_type": "code",
   "execution_count": 7,
   "id": "southwest-distribution",
   "metadata": {},
   "outputs": [],
   "source": [
    "expected_output = 0\n",
    "new_weights = []\n",
    "\n",
    "# example_input = [1, .2, .1, .05, .2]\n",
    "# example_weights = [.2, .12, .4, .6, .90]\n",
    "\n",
    "for i, x in enumerate(example_input):\n",
    "\n",
    "    new_weights.append(weights[i] + (expected_output - perceptron_output) * x)\n",
    "    #print(i,\":(\",weights[i],\"+\",expected_output,\"-\",perceptron_output,\") x\",x,\"=\",new_weights)\n",
    "weights = np.array(new_weights)"
   ]
  },
  {
   "cell_type": "markdown",
   "id": "solar-lloyd",
   "metadata": {},
   "source": [
    "So lets compare the original and new weights"
   ]
  },
  {
   "cell_type": "code",
   "execution_count": 8,
   "id": "instructional-fraud",
   "metadata": {},
   "outputs": [
    {
     "name": "stdout",
     "output_type": "stream",
     "text": [
      "[0.2, 0.12, 0.4, 0.6, 0.9]\n",
      "[-0.8  -0.08  0.3   0.55  0.7 ]\n"
     ]
    }
   ],
   "source": [
    "print(example_weights)\n",
    "print(weights)"
   ]
  },
  {
   "cell_type": "markdown",
   "id": "lucky-consultancy",
   "metadata": {},
   "source": [
    "### Teaching the Perceptron to solve the Truth Table\n",
    "Let's try to teach it the OR boolean logic function"
   ]
  },
  {
   "cell_type": "code",
   "execution_count": 11,
   "id": "played-forward",
   "metadata": {},
   "outputs": [],
   "source": [
    "sample_data = [\n",
    "... [0, 0], # False, False\n",
    "... [0, 1], # False, True\n",
    "... [1, 0], # True, False\n",
    "... [1, 1]] # True, True\n",
    "expected_results = [\n",
    "... 0, # (False OR False) gives False\n",
    "... 1, # (False OR True ) gives True\n",
    "... 1, # (True OR False) gives True\n",
    "... 1] # (True OR True ) gives True"
   ]
  },
  {
   "cell_type": "code",
   "execution_count": 12,
   "id": "democratic-bulgaria",
   "metadata": {},
   "outputs": [
    {
     "name": "stdout",
     "output_type": "stream",
     "text": [
      "[0.00039438 0.00016857]\n",
      "0.0006996751946006908\n"
     ]
    }
   ],
   "source": [
    "from random import random\n",
    "\n",
    "## creates an array of two small random float numbers, \n",
    "#which can be used as the initial weights for a perceptron model.\n",
    "\n",
    "weights = np.random.random(2)/1000 \n",
    "\n",
    "bias_weight = np.random.random() / 1000\n",
    "print(weights)\n",
    "print(bias_weight)"
   ]
  },
  {
   "cell_type": "markdown",
   "id": "89e57bc7",
   "metadata": {},
   "source": [
    "## Challenge 02"
   ]
  },
  {
   "cell_type": "code",
   "execution_count": 13,
   "id": "painful-support",
   "metadata": {},
   "outputs": [
    {
     "name": "stdout",
     "output_type": "stream",
     "text": [
      "Expected 0 - Predicted 0\n",
      "Expected 1 - Predicted 0\n",
      "Expected 1 - Predicted 0\n",
      "Expected 1 - Predicted 0\n"
     ]
    }
   ],
   "source": [
    "for idx, sample in enumerate(sample_data):\n",
    "    input_vector = np.array(sample)\n",
    "    activation_level = calc_output(input_vector, weights, bias_weight)\n",
    "    perceptron_output = calc_activation(threshold, activation_level)\n",
    "    print('Expected {} - Predicted {}'.format(expected_results[idx], perceptron_output))"
   ]
  },
  {
   "cell_type": "markdown",
   "id": "close-colony",
   "metadata": {},
   "source": [
    "Not very successful when using random weights... Now let's teach it!"
   ]
  },
  {
   "cell_type": "code",
   "execution_count": 14,
   "id": "hazardous-deficit",
   "metadata": {},
   "outputs": [
    {
     "name": "stdout",
     "output_type": "stream",
     "text": [
      "3 correct answers out of 4, for iteration 0\n",
      "2 correct answers out of 4, for iteration 1\n",
      "3 correct answers out of 4, for iteration 2\n",
      "4 correct answers out of 4, for iteration 3\n",
      "4 correct answers out of 4, for iteration 4\n"
     ]
    }
   ],
   "source": [
    "for iteration_num in range(5):\n",
    "    correct_answers = 0\n",
    "    for idx, sample in enumerate(sample_data):\n",
    "        input_vector = np.array(sample)\n",
    "        weights = np.array(weights)\n",
    "        activation_level = calc_output(input_vector, weights, bias_weight)\n",
    "        perceptron_output = calc_activation(threshold, activation_level)\n",
    "        if perceptron_output == expected_results[idx]:\n",
    "            correct_answers += 1\n",
    "        new_weights = []\n",
    "        for i, x in enumerate(sample):\n",
    "            new_weights.append(weights[i] + (expected_results[idx] - perceptron_output) * x)\n",
    "            #print(new_weights,\"= \",weights[i],\"+(\", expected_results[idx],\" -\", perceptron_output, \") *\", x)\n",
    "        bias_weight = bias_weight + ((expected_results[idx] - perceptron_output) * 1)\n",
    "        weights = np.array(new_weights)\n",
    "    print('{} correct answers out of 4, for iteration {}'.format(correct_answers, iteration_num))"
   ]
  },
  {
   "cell_type": "markdown",
   "id": "selected-making",
   "metadata": {},
   "source": [
    "## Challenge 03\n",
    "Try experimenting with other operators such as AND and XOR. Adjust the learning cycles (iterations) and see if the Perceptron can learn XOR."
   ]
  },
  {
   "cell_type": "markdown",
   "id": "fallen-ethiopia",
   "metadata": {},
   "source": [
    "## Perceptron implementation in SKLEARN\n",
    "Let's try one already implemented in scikit-learn, but with some NLP data.\n",
    "\n",
    "First we are going to grab the data and generate the TFIDF vectors"
   ]
  },
  {
   "cell_type": "code",
   "execution_count": 15,
   "id": "2fbba7ff",
   "metadata": {},
   "outputs": [
    {
     "name": "stdout",
     "output_type": "stream",
     "text": [
      "Requirement already satisfied: scikit-learn in c:\\users\\usind\\anaconda3\\envs\\nlp2022\\lib\\site-packages (1.2.1)\n",
      "Requirement already satisfied: scipy>=1.3.2 in c:\\users\\usind\\anaconda3\\envs\\nlp2022\\lib\\site-packages (from scikit-learn) (1.10.0)\n",
      "Requirement already satisfied: joblib>=1.1.1 in c:\\users\\usind\\anaconda3\\envs\\nlp2022\\lib\\site-packages (from scikit-learn) (1.2.0)\n",
      "Requirement already satisfied: threadpoolctl>=2.0.0 in c:\\users\\usind\\anaconda3\\envs\\nlp2022\\lib\\site-packages (from scikit-learn) (3.1.0)\n",
      "Requirement already satisfied: numpy>=1.17.3 in c:\\users\\usind\\anaconda3\\envs\\nlp2022\\lib\\site-packages (from scikit-learn) (1.24.2)\n",
      "Note: you may need to restart the kernel to use updated packages.\n"
     ]
    }
   ],
   "source": [
    "%pip install scikit-learn"
   ]
  },
  {
   "cell_type": "code",
   "execution_count": 16,
   "id": "welcome-trouble",
   "metadata": {},
   "outputs": [],
   "source": [
    "from sklearn.linear_model import Perceptron\n",
    "from sklearn.datasets import fetch_20newsgroups\n",
    "\n",
    "# Get some data\n",
    "categories = ['alt.atheism', 'sci.med']\n",
    "#The 'train' variable will contain the training data and its corresponding labels, \n",
    "#which can be used to train a Perceptron model for text classification.\n",
    "train = fetch_20newsgroups(subset='train', categories=categories, shuffle=True)\n",
    "\n",
    "# Initiate the perceptron object\n",
    "#The Perceptron is a type of linear classifier used for binary classification tasks\n",
    "perceptron = Perceptron(max_iter=100)\n",
    "\n",
    "from sklearn.feature_extraction.text import CountVectorizer\n",
    "\n",
    "# Calculate the frequency vectors\n",
    "#CountVectorizer is a class that converts a collection of text documents to a matrix of token (word) counts. \n",
    "#It is used for feature extraction in text classification tasks.\n",
    "cv = CountVectorizer()\n",
    "\n",
    "#CountVectorizer creates a sparse matrix, X_train_counts, where each row represents a document in the training data, \n",
    "#and each column represents a unique word in the corpus.\n",
    "X_train_counts = cv.fit_transform(train.data)\n",
    "\n",
    "from sklearn.feature_extraction.text import TfidfTransformer\n",
    "\n",
    "# Calculate the TFIDF vectors\n",
    "#TF-IDF, which stands for Term Frequency-Inverse Document Frequency, is a numerical statistic that is intended to reflect\n",
    "# how important a word is to a document in a collection or corpus. It is a commonly used weighting factor in information \n",
    "# retrieval and text mining. \n",
    "tfidf_tf = TfidfTransformer()\n",
    "X_train_tfidf = tfidf_tf.fit_transform(X_train_counts)\n"
   ]
  },
  {
   "cell_type": "markdown",
   "id": "casual-initial",
   "metadata": {},
   "source": [
    "Now we are going to perform the training, given the input and the target (desired outputs)"
   ]
  },
  {
   "cell_type": "code",
   "execution_count": 17,
   "id": "interim-remedy",
   "metadata": {},
   "outputs": [
    {
     "name": "stdout",
     "output_type": "stream",
     "text": [
      "CPU times: total: 0 ns\n",
      "Wall time: 48.5 ms\n"
     ]
    },
    {
     "data": {
      "text/html": [
       "<style>#sk-container-id-1 {color: black;background-color: white;}#sk-container-id-1 pre{padding: 0;}#sk-container-id-1 div.sk-toggleable {background-color: white;}#sk-container-id-1 label.sk-toggleable__label {cursor: pointer;display: block;width: 100%;margin-bottom: 0;padding: 0.3em;box-sizing: border-box;text-align: center;}#sk-container-id-1 label.sk-toggleable__label-arrow:before {content: \"▸\";float: left;margin-right: 0.25em;color: #696969;}#sk-container-id-1 label.sk-toggleable__label-arrow:hover:before {color: black;}#sk-container-id-1 div.sk-estimator:hover label.sk-toggleable__label-arrow:before {color: black;}#sk-container-id-1 div.sk-toggleable__content {max-height: 0;max-width: 0;overflow: hidden;text-align: left;background-color: #f0f8ff;}#sk-container-id-1 div.sk-toggleable__content pre {margin: 0.2em;color: black;border-radius: 0.25em;background-color: #f0f8ff;}#sk-container-id-1 input.sk-toggleable__control:checked~div.sk-toggleable__content {max-height: 200px;max-width: 100%;overflow: auto;}#sk-container-id-1 input.sk-toggleable__control:checked~label.sk-toggleable__label-arrow:before {content: \"▾\";}#sk-container-id-1 div.sk-estimator input.sk-toggleable__control:checked~label.sk-toggleable__label {background-color: #d4ebff;}#sk-container-id-1 div.sk-label input.sk-toggleable__control:checked~label.sk-toggleable__label {background-color: #d4ebff;}#sk-container-id-1 input.sk-hidden--visually {border: 0;clip: rect(1px 1px 1px 1px);clip: rect(1px, 1px, 1px, 1px);height: 1px;margin: -1px;overflow: hidden;padding: 0;position: absolute;width: 1px;}#sk-container-id-1 div.sk-estimator {font-family: monospace;background-color: #f0f8ff;border: 1px dotted black;border-radius: 0.25em;box-sizing: border-box;margin-bottom: 0.5em;}#sk-container-id-1 div.sk-estimator:hover {background-color: #d4ebff;}#sk-container-id-1 div.sk-parallel-item::after {content: \"\";width: 100%;border-bottom: 1px solid gray;flex-grow: 1;}#sk-container-id-1 div.sk-label:hover label.sk-toggleable__label {background-color: #d4ebff;}#sk-container-id-1 div.sk-serial::before {content: \"\";position: absolute;border-left: 1px solid gray;box-sizing: border-box;top: 0;bottom: 0;left: 50%;z-index: 0;}#sk-container-id-1 div.sk-serial {display: flex;flex-direction: column;align-items: center;background-color: white;padding-right: 0.2em;padding-left: 0.2em;position: relative;}#sk-container-id-1 div.sk-item {position: relative;z-index: 1;}#sk-container-id-1 div.sk-parallel {display: flex;align-items: stretch;justify-content: center;background-color: white;position: relative;}#sk-container-id-1 div.sk-item::before, #sk-container-id-1 div.sk-parallel-item::before {content: \"\";position: absolute;border-left: 1px solid gray;box-sizing: border-box;top: 0;bottom: 0;left: 50%;z-index: -1;}#sk-container-id-1 div.sk-parallel-item {display: flex;flex-direction: column;z-index: 1;position: relative;background-color: white;}#sk-container-id-1 div.sk-parallel-item:first-child::after {align-self: flex-end;width: 50%;}#sk-container-id-1 div.sk-parallel-item:last-child::after {align-self: flex-start;width: 50%;}#sk-container-id-1 div.sk-parallel-item:only-child::after {width: 0;}#sk-container-id-1 div.sk-dashed-wrapped {border: 1px dashed gray;margin: 0 0.4em 0.5em 0.4em;box-sizing: border-box;padding-bottom: 0.4em;background-color: white;}#sk-container-id-1 div.sk-label label {font-family: monospace;font-weight: bold;display: inline-block;line-height: 1.2em;}#sk-container-id-1 div.sk-label-container {text-align: center;}#sk-container-id-1 div.sk-container {/* jupyter's `normalize.less` sets `[hidden] { display: none; }` but bootstrap.min.css set `[hidden] { display: none !important; }` so we also need the `!important` here to be able to override the default hidden behavior on the sphinx rendered scikit-learn.org. See: https://github.com/scikit-learn/scikit-learn/issues/21755 */display: inline-block !important;position: relative;}#sk-container-id-1 div.sk-text-repr-fallback {display: none;}</style><div id=\"sk-container-id-1\" class=\"sk-top-container\"><div class=\"sk-text-repr-fallback\"><pre>Perceptron(max_iter=100)</pre><b>In a Jupyter environment, please rerun this cell to show the HTML representation or trust the notebook. <br />On GitHub, the HTML representation is unable to render, please try loading this page with nbviewer.org.</b></div><div class=\"sk-container\" hidden><div class=\"sk-item\"><div class=\"sk-estimator sk-toggleable\"><input class=\"sk-toggleable__control sk-hidden--visually\" id=\"sk-estimator-id-1\" type=\"checkbox\" checked><label for=\"sk-estimator-id-1\" class=\"sk-toggleable__label sk-toggleable__label-arrow\">Perceptron</label><div class=\"sk-toggleable__content\"><pre>Perceptron(max_iter=100)</pre></div></div></div></div></div>"
      ],
      "text/plain": [
       "Perceptron(max_iter=100)"
      ]
     },
     "execution_count": 17,
     "metadata": {},
     "output_type": "execute_result"
    }
   ],
   "source": [
    "%%time\n",
    "# Train\n",
    "perceptron.fit(X_train_tfidf, train.target)"
   ]
  },
  {
   "cell_type": "markdown",
   "id": "juvenile-apparel",
   "metadata": {},
   "source": [
    "So now we are good to perform some testing"
   ]
  },
  {
   "cell_type": "code",
   "execution_count": 18,
   "id": "ready-array",
   "metadata": {},
   "outputs": [
    {
     "name": "stdout",
     "output_type": "stream",
     "text": [
      "(5, 22735)\n",
      "'Religion is widespread, even in modern times' => alt.atheism\n",
      "'His kidney failed to function' => sci.med\n",
      "'Some people do not believe in god' => alt.atheism\n",
      "'White blood cells fight off infections' => sci.med\n",
      "'The reverend had a heart attack in the church' => sci.med\n"
     ]
    }
   ],
   "source": [
    "# Prepare some test data\n",
    "test_docs = ['Religion is widespread, even in modern times',\n",
    "'His kidney failed to function','Some people do not believe in god',\n",
    "'White blood cells fight off infections',\n",
    "'The reverend had a heart attack in the church']\n",
    "\n",
    "#X_test_counts is a sparse matrix that is obtained by transforming the test documents using the cv CountVectorizer object. \n",
    "# It transforms the test data using the vocabulary that was learned from the training data.\n",
    "X_test_counts = cv.transform(test_docs)\n",
    "\n",
    "#tfidf_tf - transforms the test data by applying the inverse document frequency scaling to the term frequency \n",
    "#matrix that was obtained using cv.This step is important for text classification because it reduces the weight \n",
    "#of words that occur frequently in the corpus and increases the weight of words that occur rarely but are more informative for classification.\n",
    "X_test_tfidf = tfidf_tf.transform(X_test_counts)\n",
    "print(X_test_tfidf.shape)\n",
    "\n",
    "# Perform the prediction\n",
    "pred = perceptron.predict(X_test_tfidf)\n",
    "for doc, category in zip(test_docs, pred):\n",
    "    #The %r => %s formatting string is used to print the document (represented by %r) \n",
    "    #and its predicted category label (represented by %s) for each document in the test_docs list.\n",
    "    print('%r => %s' % (doc, train.target_names[category]))"
   ]
  },
  {
   "cell_type": "markdown",
   "id": "regular-shoot",
   "metadata": {},
   "source": [
    "This is pretty impressive, but the two subjects choosen are pretty different and therefore linearly separable.\n",
    "\n",
    "Lets pickup a larger test set ans measure the F1 score."
   ]
  },
  {
   "cell_type": "code",
   "execution_count": 19,
   "id": "gothic-klein",
   "metadata": {},
   "outputs": [
    {
     "name": "stdout",
     "output_type": "stream",
     "text": [
      "(715, 22735)\n"
     ]
    },
    {
     "data": {
      "text/plain": [
       "0.9430505774591795"
      ]
     },
     "execution_count": 19,
     "metadata": {},
     "output_type": "execute_result"
    }
   ],
   "source": [
    "from sklearn import metrics\n",
    "test = fetch_20newsgroups(subset='test', categories=categories, shuffle=True)\n",
    "X_test_counts = cv.transform(test.data)\n",
    "X_test_tfidf = tfidf_tf.transform(X_test_counts)\n",
    "print(X_test_tfidf.shape)\n",
    "\n",
    "pred = perceptron.predict(X_test_tfidf)\n",
    "metrics.f1_score(test.target, pred, average='macro')"
   ]
  },
  {
   "cell_type": "markdown",
   "id": "dried-herald",
   "metadata": {},
   "source": [
    "## Challenge 04\n",
    "Try other categories (explore the [documentation](https://scikit-learn.org/stable/datasets/real_world.html#newsgroups-dataset) to see what options there are) and see if the perceptron still learns. Try a different number of iterations to see if performance improves. Also explore other metric (like precision, recall, etc.) in the [documentation](https://scikit-learn.org/stable/modules/model_evaluation.html) and see if you can understand the results better."
   ]
  },
  {
   "cell_type": "markdown",
   "id": "careful-inspiration",
   "metadata": {},
   "source": [
    "### Multi Layer Perceptron (MLP)"
   ]
  },
  {
   "cell_type": "markdown",
   "id": "numerous-bible",
   "metadata": {},
   "source": [
    "Now lets look at a Multi Layer Perceptron (MLP) and experiment with different parameters"
   ]
  },
  {
   "cell_type": "code",
   "execution_count": 20,
   "id": "excited-apparel",
   "metadata": {},
   "outputs": [
    {
     "name": "stdout",
     "output_type": "stream",
     "text": [
      "\n",
      "learning on dataset news\n",
      "training: constant learning-rate\n",
      "Training set score: 0.860000\n",
      "Training set loss: 0.267127\n",
      "training: constant with momentum\n",
      "Training set score: 0.826000\n",
      "Training set loss: 0.259419\n",
      "training: constant with Nesterov's momentum\n",
      "Training set score: 0.848000\n",
      "Training set loss: 0.276078\n",
      "training: inv-scaling learning-rate\n",
      "Training set score: 0.496000\n",
      "Training set loss: 0.693931\n",
      "training: inv-scaling with momentum\n",
      "Training set score: 0.534000\n",
      "Training set loss: 0.684897\n",
      "training: inv-scaling with Nesterov's momentum\n",
      "Training set score: 0.534000\n",
      "Training set loss: 0.684780\n",
      "training: adam\n",
      "Training set score: 0.888000\n",
      "Training set loss: 0.202242\n"
     ]
    },
    {
     "data": {
      "image/png": "[encoded data removed]",
      "text/plain": [
       "<Figure size 1500x1000 with 1 Axes>"
      ]
     },
     "metadata": {},
     "output_type": "display_data"
    }
   ],
   "source": [
    "import warnings\n",
    "\n",
    "import matplotlib.pyplot as plt\n",
    "\n",
    "from sklearn.neural_network import MLPClassifier\n",
    "from sklearn.preprocessing import MinMaxScaler\n",
    "from sklearn.exceptions import ConvergenceWarning\n",
    "\n",
    "# different learning rate schedules and momentum parameters\n",
    "params = [{'solver': 'sgd', 'learning_rate': 'constant', 'momentum': 0, 'learning_rate_init': 0.2},\n",
    "          {'solver': 'sgd', 'learning_rate': 'constant', 'momentum': .9, 'nesterovs_momentum': False, 'learning_rate_init': 0.2},\n",
    "          {'solver': 'sgd', 'learning_rate': 'constant', 'momentum': .9, 'nesterovs_momentum': True, 'learning_rate_init': 0.2},\n",
    "          {'solver': 'sgd', 'learning_rate': 'invscaling', 'momentum': 0, 'learning_rate_init': 0.2},\n",
    "          {'solver': 'sgd', 'learning_rate': 'invscaling', 'momentum': .9, 'nesterovs_momentum': True, 'learning_rate_init': 0.2},\n",
    "          {'solver': 'sgd', 'learning_rate': 'invscaling', 'momentum': .9, 'nesterovs_momentum': False, 'learning_rate_init': 0.2},\n",
    "          {'solver': 'adam', 'learning_rate_init': 0.01}]\n",
    "\n",
    "labels = [\"constant learning-rate\", \n",
    "          \"constant with momentum\",\n",
    "          \"constant with Nesterov's momentum\",\n",
    "          \"inv-scaling learning-rate\", \n",
    "          \"inv-scaling with momentum\",\n",
    "          \"inv-scaling with Nesterov's momentum\", \n",
    "          \"adam\"]\n",
    "\n",
    "plot_args = [{'c': 'red', 'linestyle': '-'},\n",
    "             {'c': 'green', 'linestyle': '-'},\n",
    "             {'c': 'blue', 'linestyle': '-'},\n",
    "             {'c': 'red', 'linestyle': '--'},\n",
    "             {'c': 'green', 'linestyle': '--'},\n",
    "             {'c': 'blue', 'linestyle': '--'},\n",
    "             {'c': 'black', 'linestyle': '-'}]\n",
    "\n",
    "\n",
    "def plot_on_dataset(X, y, ax, name):\n",
    "    # for each dataset, plot learning for each learning strategy\n",
    "    print(\"\\nlearning on dataset %s\" % name)\n",
    "    ax.set_title(name)\n",
    "\n",
    "    X = MinMaxScaler().fit_transform(X)\n",
    "    mlps = []\n",
    "    if name == \"digits\":\n",
    "        # digits is larger but converges fairly quickly\n",
    "        max_iter = 15\n",
    "    else:\n",
    "        max_iter = 400\n",
    "\n",
    "    for label, param in zip(labels, params):\n",
    "        print(\"training: %s\" % label)\n",
    "        mlp = MLPClassifier(random_state=0,\n",
    "                            max_iter=max_iter, **param)\n",
    "\n",
    "        # some parameter combinations will not converge as can be seen on the\n",
    "        # plots so they are ignored here\n",
    "        with warnings.catch_warnings():\n",
    "            warnings.filterwarnings(\"ignore\", category=ConvergenceWarning,\n",
    "                                    module=\"sklearn\")\n",
    "            mlp.fit(X, y)\n",
    "\n",
    "        mlps.append(mlp)\n",
    "        print(\"Training set score: %f\" % mlp.score(X, y))\n",
    "        print(\"Training set loss: %f\" % mlp.loss_)\n",
    "    for mlp, label, args in zip(mlps, labels, plot_args):\n",
    "        ax.plot(mlp.loss_curve_, label=label, **args)\n",
    "\n",
    "# Prepare the plot... using a subplot here in case you want to plot muiltiple\n",
    "fig, axes = plt.subplots(1, 1, figsize=(15, 10))\n",
    "\n",
    "# Choosing the first 500 records and only 1000 features... just for this lab, else it will be very slow\n",
    "data_sets = [(X_train_tfidf.toarray()[:500,:1000], train.target[:500])]\n",
    "\n",
    "# call the function to train and prepare results in plots\n",
    "plot_on_dataset(*data_sets[0], axes, name='news')\n",
    "\n",
    "fig.legend(axes.get_lines(), labels, ncol=3, loc=\"upper center\")\n",
    "plt.show()"
   ]
  },
  {
   "cell_type": "markdown",
   "id": "written-letters",
   "metadata": {},
   "source": [
    "## Challenge 05\n",
    "Look at the classifier [documentation](https://scikit-learn.org/stable/modules/generated/sklearn.neural_network.MLPClassifier.html) and experiment with the following parameters: hidden_layer_sizes, activation, batch_size\n",
    "\n",
    "Add the above variations in the parameters list and see if there are any changes"
   ]
  },
  {
   "cell_type": "code",
   "execution_count": null,
   "id": "6302ab6d",
   "metadata": {},
   "outputs": [],
   "source": []
  },
  {
   "cell_type": "markdown",
   "id": "9c2cb0f0",
   "metadata": {},
   "source": [
    "## Challenge 06\n",
    "### Sentiment analysis of movie reviews\n",
    "\n",
    "The following sub-section will show you how to perform sentiment analysis on the [movie review dataset](https://www.cs.cornell.edu/people/pabo/movie-review-data/) using simple perceptrons\n",
    "\n",
    "\n"
   ]
  },
  {
   "cell_type": "markdown",
   "id": "3df24090",
   "metadata": {},
   "source": [
    "1) Run the script bellow to download the necessary data"
   ]
  },
  {
   "cell_type": "code",
   "execution_count": 21,
   "id": "27ed0ebf",
   "metadata": {},
   "outputs": [
    {
     "name": "stdout",
     "output_type": "stream",
     "text": [
      "Downloading dataset from http://www.cs.cornell.edu/people/pabo/movie-review-data/review_polarity.tar.gz (3 MB)\n",
      "Checking the integrity of the archive\n",
      "Decompressing review_polarity.tar.gz\n"
     ]
    }
   ],
   "source": [
    "### The below script is taken from https://github.com/scikit-learn/scikit-learn/blob/main/doc/tutorial/text_analytics/data/movie_reviews/fetch_data.py\n",
    "\n",
    "\"\"\"Script to download the movie review dataset\"\"\"\n",
    "\n",
    "from pathlib import Path\n",
    "from hashlib import sha256\n",
    "import tarfile\n",
    "from urllib.request import urlopen\n",
    "\n",
    "\n",
    "URL = \"http://www.cs.cornell.edu/people/pabo/movie-review-data/review_polarity.tar.gz\"\n",
    "\n",
    "ARCHIVE_SHA256 = \"fc0dccc2671af5db3c5d8f81f77a1ebfec953ecdd422334062df61ede36b2179\"\n",
    "ARCHIVE_NAME = Path(URL.rsplit(\"/\", 1)[1])\n",
    "DATA_FOLDER = Path(\"txt_sentoken\")\n",
    "\n",
    "\n",
    "if not DATA_FOLDER.exists():\n",
    "\n",
    "    if not ARCHIVE_NAME.exists():\n",
    "        print(\"Downloading dataset from %s (3 MB)\" % URL)\n",
    "        opener = urlopen(URL)\n",
    "        with open(ARCHIVE_NAME, \"wb\") as archive:\n",
    "            archive.write(opener.read())\n",
    "\n",
    "    try:\n",
    "        print(\"Checking the integrity of the archive\")\n",
    "        assert sha256(ARCHIVE_NAME.read_bytes()).hexdigest() == ARCHIVE_SHA256\n",
    "\n",
    "        print(\"Decompressing %s\" % ARCHIVE_NAME)\n",
    "        with tarfile.open(ARCHIVE_NAME, \"r:gz\") as archive:\n",
    "            archive.extractall(path=\".\")\n",
    "\n",
    "    finally:\n",
    "        ARCHIVE_NAME.unlink()"
   ]
  },
  {
   "cell_type": "markdown",
   "id": "345b3848",
   "metadata": {},
   "source": [
    "2) load the dataset"
   ]
  },
  {
   "cell_type": "code",
   "execution_count": 22,
   "id": "8d084b9b",
   "metadata": {},
   "outputs": [
    {
     "name": "stdout",
     "output_type": "stream",
     "text": [
      "n_samples in the dataset: 2000\n"
     ]
    }
   ],
   "source": [
    "from sklearn.datasets import load_files\n",
    "\n",
    "# Load the dataset we just downloaded using the load_files function from sklearn\n",
    "movie_reviews_data_folder = \"txt_sentoken\"\n",
    "dataset = load_files(movie_reviews_data_folder, shuffle=False)\n",
    "print(\"n_samples in the dataset: %d\" % len(dataset.data))"
   ]
  },
  {
   "cell_type": "markdown",
   "id": "d4097cf0",
   "metadata": {},
   "source": [
    "3) pre-process the data"
   ]
  },
  {
   "cell_type": "code",
   "execution_count": 25,
   "id": "b03d5116",
   "metadata": {},
   "outputs": [],
   "source": [
    "from sklearn.model_selection import train_test_split\n",
    "\n",
    "# split the dataset in training and test set:\n",
    "docs_train, docs_test, y_train, y_test = train_test_split(\n",
    "    dataset.data, dataset.target, test_size=0.25, random_state=None)\n",
    "\n",
    "perceptron = Perceptron(max_iter=100)\n",
    "\n",
    "cv = CountVectorizer(min_df=3, max_df=0.95)\n",
    "X_train_counts = cv.fit_transform(docs_train)\n",
    "\n",
    "tfidf_tf = TfidfTransformer()\n",
    "X_train_tfidf = tfidf_tf.fit_transform(X_train_counts)"
   ]
  },
  {
   "cell_type": "code",
   "execution_count": 26,
   "id": "d2b3e4b2",
   "metadata": {},
   "outputs": [
    {
     "data": {
      "text/html": [
       "<style>#sk-container-id-2 {color: black;background-color: white;}#sk-container-id-2 pre{padding: 0;}#sk-container-id-2 div.sk-toggleable {background-color: white;}#sk-container-id-2 label.sk-toggleable__label {cursor: pointer;display: block;width: 100%;margin-bottom: 0;padding: 0.3em;box-sizing: border-box;text-align: center;}#sk-container-id-2 label.sk-toggleable__label-arrow:before {content: \"▸\";float: left;margin-right: 0.25em;color: #696969;}#sk-container-id-2 label.sk-toggleable__label-arrow:hover:before {color: black;}#sk-container-id-2 div.sk-estimator:hover label.sk-toggleable__label-arrow:before {color: black;}#sk-container-id-2 div.sk-toggleable__content {max-height: 0;max-width: 0;overflow: hidden;text-align: left;background-color: #f0f8ff;}#sk-container-id-2 div.sk-toggleable__content pre {margin: 0.2em;color: black;border-radius: 0.25em;background-color: #f0f8ff;}#sk-container-id-2 input.sk-toggleable__control:checked~div.sk-toggleable__content {max-height: 200px;max-width: 100%;overflow: auto;}#sk-container-id-2 input.sk-toggleable__control:checked~label.sk-toggleable__label-arrow:before {content: \"▾\";}#sk-container-id-2 div.sk-estimator input.sk-toggleable__control:checked~label.sk-toggleable__label {background-color: #d4ebff;}#sk-container-id-2 div.sk-label input.sk-toggleable__control:checked~label.sk-toggleable__label {background-color: #d4ebff;}#sk-container-id-2 input.sk-hidden--visually {border: 0;clip: rect(1px 1px 1px 1px);clip: rect(1px, 1px, 1px, 1px);height: 1px;margin: -1px;overflow: hidden;padding: 0;position: absolute;width: 1px;}#sk-container-id-2 div.sk-estimator {font-family: monospace;background-color: #f0f8ff;border: 1px dotted black;border-radius: 0.25em;box-sizing: border-box;margin-bottom: 0.5em;}#sk-container-id-2 div.sk-estimator:hover {background-color: #d4ebff;}#sk-container-id-2 div.sk-parallel-item::after {content: \"\";width: 100%;border-bottom: 1px solid gray;flex-grow: 1;}#sk-container-id-2 div.sk-label:hover label.sk-toggleable__label {background-color: #d4ebff;}#sk-container-id-2 div.sk-serial::before {content: \"\";position: absolute;border-left: 1px solid gray;box-sizing: border-box;top: 0;bottom: 0;left: 50%;z-index: 0;}#sk-container-id-2 div.sk-serial {display: flex;flex-direction: column;align-items: center;background-color: white;padding-right: 0.2em;padding-left: 0.2em;position: relative;}#sk-container-id-2 div.sk-item {position: relative;z-index: 1;}#sk-container-id-2 div.sk-parallel {display: flex;align-items: stretch;justify-content: center;background-color: white;position: relative;}#sk-container-id-2 div.sk-item::before, #sk-container-id-2 div.sk-parallel-item::before {content: \"\";position: absolute;border-left: 1px solid gray;box-sizing: border-box;top: 0;bottom: 0;left: 50%;z-index: -1;}#sk-container-id-2 div.sk-parallel-item {display: flex;flex-direction: column;z-index: 1;position: relative;background-color: white;}#sk-container-id-2 div.sk-parallel-item:first-child::after {align-self: flex-end;width: 50%;}#sk-container-id-2 div.sk-parallel-item:last-child::after {align-self: flex-start;width: 50%;}#sk-container-id-2 div.sk-parallel-item:only-child::after {width: 0;}#sk-container-id-2 div.sk-dashed-wrapped {border: 1px dashed gray;margin: 0 0.4em 0.5em 0.4em;box-sizing: border-box;padding-bottom: 0.4em;background-color: white;}#sk-container-id-2 div.sk-label label {font-family: monospace;font-weight: bold;display: inline-block;line-height: 1.2em;}#sk-container-id-2 div.sk-label-container {text-align: center;}#sk-container-id-2 div.sk-container {/* jupyter's `normalize.less` sets `[hidden] { display: none; }` but bootstrap.min.css set `[hidden] { display: none !important; }` so we also need the `!important` here to be able to override the default hidden behavior on the sphinx rendered scikit-learn.org. See: https://github.com/scikit-learn/scikit-learn/issues/21755 */display: inline-block !important;position: relative;}#sk-container-id-2 div.sk-text-repr-fallback {display: none;}</style><div id=\"sk-container-id-2\" class=\"sk-top-container\"><div class=\"sk-text-repr-fallback\"><pre>Perceptron(max_iter=100)</pre><b>In a Jupyter environment, please rerun this cell to show the HTML representation or trust the notebook. <br />On GitHub, the HTML representation is unable to render, please try loading this page with nbviewer.org.</b></div><div class=\"sk-container\" hidden><div class=\"sk-item\"><div class=\"sk-estimator sk-toggleable\"><input class=\"sk-toggleable__control sk-hidden--visually\" id=\"sk-estimator-id-2\" type=\"checkbox\" checked><label for=\"sk-estimator-id-2\" class=\"sk-toggleable__label sk-toggleable__label-arrow\">Perceptron</label><div class=\"sk-toggleable__content\"><pre>Perceptron(max_iter=100)</pre></div></div></div></div></div>"
      ],
      "text/plain": [
       "Perceptron(max_iter=100)"
      ]
     },
     "execution_count": 26,
     "metadata": {},
     "output_type": "execute_result"
    }
   ],
   "source": [
    "perceptron.fit(X_train_tfidf, y_train)"
   ]
  },
  {
   "cell_type": "markdown",
   "id": "eaad7950",
   "metadata": {},
   "source": [
    "4) Test the trained model"
   ]
  },
  {
   "cell_type": "code",
   "execution_count": 36,
   "id": "799563ae",
   "metadata": {},
   "outputs": [
    {
     "name": "stdout",
     "output_type": "stream",
     "text": [
      "(500, 16012)\n",
      "              precision    recall  f1-score   support\n",
      "\n",
      "         neg       0.83      0.79      0.81       253\n",
      "         pos       0.79      0.84      0.81       247\n",
      "\n",
      "    accuracy                           0.81       500\n",
      "   macro avg       0.81      0.81      0.81       500\n",
      "weighted avg       0.81      0.81      0.81       500\n",
      "\n",
      "Confusion matrix:\n",
      " [[199  54]\n",
      " [ 40 207]]\n"
     ]
    },
    {
     "data": {
      "text/plain": [
       "<Figure size 800x600 with 0 Axes>"
      ]
     },
     "metadata": {},
     "output_type": "display_data"
    },
    {
     "data": {
      "image/png": "[encoded data removed]",
      "text/plain": [
       "<Figure size 480x480 with 2 Axes>"
      ]
     },
     "metadata": {},
     "output_type": "display_data"
    }
   ],
   "source": [
    "# X_test_counts is a sparse matrix that is obtained by transforming the test documents using the cv CountVectorizer object. \n",
    "# It transforms the test data using the vocabulary that was learned from the training data.\n",
    "X_test_counts = cv.transform(docs_test)\n",
    "\n",
    "# Transform the count vectors to TF-IDF representation\n",
    "X_test_tfidf = tfidf_tf.transform(X_test_counts)\n",
    "print(X_test_tfidf.shape)\n",
    "\n",
    "# Perform the prediction using the perceptron model\n",
    "pred = perceptron.predict(X_test_tfidf)\n",
    "\n",
    "# Print the classification report\n",
    "print(metrics.classification_report(y_test, pred, target_names=dataset.target_names))\n",
    "\n",
    "# Compute and print the confusion matrix\n",
    "cm = metrics.confusion_matrix(y_test, pred)\n",
    "print(f\"Confusion matrix:\\n {cm}\")\n",
    "\n",
    "# Plot the confusion matrix\n",
    "plt.figure(figsize=(8, 6))  # Optionally adjust the figure size\n",
    "cax = plt.matshow(cm, cmap=plt.cm.Blues)  # Use a blue color map\n",
    "plt.title('Confusion Matrix', pad=20)\n",
    "plt.xlabel('Predicted')\n",
    "plt.ylabel('True')\n",
    "plt.xticks(range(len(dataset.target_names)), dataset.target_names, rotation=45)\n",
    "plt.yticks(range(len(dataset.target_names)), dataset.target_names)\n",
    "\n",
    "# Add a color bar to show the scale\n",
    "plt.colorbar(cax)\n",
    "\n",
    "plt.show()"
   ]
  },
  {
   "cell_type": "markdown",
   "id": "043bf491",
   "metadata": {},
   "source": [
    "The following cell selects 5 reviews in the test set and shows both their predicted and actual sentiment."
   ]
  },
  {
   "cell_type": "code",
   "execution_count": 35,
   "id": "fa1509e9",
   "metadata": {},
   "outputs": [
    {
     "name": "stdout",
     "output_type": "stream",
     "text": [
      "b\"with his last two films - shine and snow falling on cedars - australian director scott hicks has proven his cinematic flashbacks to be some of the best out there , and his latest , hearts in atlantis , is no different . \\nits structure - beginning and ending in present day with one long flashback in the middle - is similar to the green mile , which is a bit ironic considering both were based on stephen king books . \\nthe parallels don't end there , either . \\natlantis was adapted by william goldman , who had previously penned the big-screen version of misery and is in the process of working on the script for king's dreamcatcher . \\neven the film's content is a bit reminiscent of mile . \\nin fact , it's the perfect blend of the feel-good '60s nostalgia of stand by me ( also by king ) and mystical power hokum of mile . \\nking's atlantis is a book comprised of five related short stories , but the main focus here is on the first ( and longest ) tale , called low men in yellow coats ( the film's title comes from the second chapter ) . \\nit's set in 1960 harwich , connecticut , where 11-year-old bobby garfield ( anton yelchin ) lives in a boarding house run by his cold , self-centered mother elizabeth ( hope davis , joe gould's secret ) , who seems to care more about her wardrobe than her son . \\nbobby spends his time with his two closest friends , john sullivan ( will rothhaar ) and tomboy carol gerber ( mika boorem ) , who become something like the kevin , paul and winnie of harwich . \\nwhen a new tenant moves into the vacant room , the fatherless bobby finds a male role model in ted brautigan ( anthony hopkins , hannibal ) , a mysterious stranger who is vague enough about his past to make bobby's mom suspicious enough to at least momentarily turn her head away from the mirror . \\nted teaches his young neighbor about the wonders of literature ( after his cheapskate mother gives him a library card for his birthday ) , dispenses prophetic words of wisdom and even pays bobby one dollar a week to read him the local newspaper and keep his eyes peeled for the low men , a group of people chasing ted to exploit his special powers . \\ni won't go into what these powers are , but they're considerably toned down from the book ( and don't involve black stuff flying out of ted's mouth , a la mile ) . \\natlantis' present-day setting which bookends the film is based on the novel's final chapter , titled heavenly shades of night are falling , and features david morse ( in yet another connection to the green mile ) as a married , middle-aged bobby who learns of the death of both of his childhood friends and returns to the dilapidated boarding house in which he spent his formative years . \\natlantis is nowhere near as flashy as hicks' cedars , which is disappointing but understandable considering the switch from the completely amazing robert richardson to the occasionally amazing piotr sobocinski , the oscar-nominated cinematographer behind krzysztof kieslowski's red . \\nthe acting is solid from everyone , including hopkins , who never once makes you think of dr . lecter . \\nmost impressive are youngsters yelchin and boorem , who both had tiny parts in along came a spider . \\nwhile i didn't really have much of a problem with goldman's screenplay , i do need to point out at least one inconsistency . \\ngoldman , for those of you who don't read premiere , writes what seems like an annual criticism of everybody else's films , carefully explaining why they all suck , make no sense and insult their audiences , while somehow failing to mention the crap that he's penned ( like the general's daughter ) . \\nit's mean-spirited but fun to read , mostly on account of nobody else in hollywood having the balls to say anything remotely negative about anybody else in the business ( including michael jackson , o . j . \\nand robert blake ) . \\nin atlantis , which is supposed to be told through the eyes of young bobby , one would assume he would have to be in each scene in order to have the memory to which to flash back . \\nwell , he's not , and it doesn't make sense . \\n1 : 41 - pg-13 for violence and thematic elements \\n\" => predicted: 1 / actual: 1\n",
      "b'i rented this movie with very high hopes . \\nthis movie got praise as one of the best films of 1998 , and unfortunately , was not as good as i hoped , but was still very intriguing and thought provoking . \\nfirst of all , the casting for this film is great . \\ntobey maguire and reese witherspoon are the future of hollywood . \\nthey play their roles as the parker brother and sister perfectly . \\nwith a plot as unbelievable as this film , you need chemistry and honest acting from your cast . \\ntobey and reese ( bud and mary sue parker ) play their roles perfectly and display their characters with honesty and believability . \\nwilliam h . macy , an actor i have grown to love over the past year , turns in another great performance as the tv dad who is torn over his wife , a \" colored \" person and his friends , the \" non-colored \" ones . \\nhe also displays believability and must display a certain lack of chemistry with his wife . \\nhe does this perfectly and yet again shows why he should be one of the top actors in hollywood . \\njoan allen is equally great as betty parker , the ideal tv mom . \\nher character is the most ambitious . \\nshe is very na ? ve , and must display this well to make her character believable and she does just that . \\nher lack of chemistry with macy , which the role calls for , and her developed chemistry with jeff daniels is terrific , and if daniels would have been as stellar as the rest of the cast , then this film would even been even better . \\nas said before , jeff daniels gives a bad performance . \\nhis character displays the change going on throughout the town , yet he does not display it with enough conviction . \\nhis character is very confusing and he is not very believable . \\nthis film could have been elevated to a whole new level had daniels been able to give a better performance . \\nthe movie is very provocative . \\nit challenges the issues of racism that existed in the past and that still exist today . \\ni really was not expecting all of the elements they brought up , but they pulled them off with such flair that it was mind blowing . \\nthey demonstrate the racism issue without a hitch , but do it in a slow pace . \\nthe only major flaw in the film besides the performance by daniels is length . \\nsome films are not meant to be that long . \\npleasantville is one of those films . \\nthis film could have been so much better had they not moved so slowly to it . \\nfirst , they are amazed by the implementation of color . \\nthen they want to have it . \\nthen they do not want to . \\nthen the war ensues between the colored and non-colored . \\nthis is all strung out over two hours , which was way too long . \\nsome movies need a lot of time . \\nsaving private ryan was a little bit under three hours long and i thought it could have used more time . \\nthis film is only two hours long , and seems much longer . \\nlength is everything in films . \\nif you can nail down the perfect timing and pace , you can win half the battle . \\npleasantville can move at a good pace at times , but it is not consistent enough . \\noverall , pleasantville is a very pleasant and provocative departure from the predictability of most films these days . \\ni went in expecting a light-hearted film about change . \\ni left learning an important lesson about racism and the way things change . \\nluckily , pleasantville teaches this lesson in such a way to make it appeal to all audiences . \\nonly if it could have done in a shorter amount of time . \\n' => predicted: 1 / actual: 1\n",
      "b\"okay , okay . \\nmaybe i wasn't in the mood to watch a mindless action movie ; i am the same person that liked lethal weapon iii , even while admitting that it wasn't as good as the others . \\nhowewer , the latest segal picture didn't look that bad , and since none of my friends would go see a woody allen movie even if i paid them , i went to see it expecting a mild die hard rehash . \\nboy , was i wrong ! \\nin the first half of the movie , we are already assaulted with segal's acting , ( he is not simply wooden ; he is like a wall ) , gratuitous violence , an incredible plot , sexist and even more gratuitous nudity , and bad lines that obviously were meant as jokes . \\nby the end , it is obvious that hundreds of navy men are no match for thirty armed special forces soldiers . \\nnot once in the movie did segal appear worried or undecided , which did not do much for increasing the unexistent suspense . \\nof course , in movies like these , there must be a sidekick , and a love interest . \\nin these one we are given a two for one package in the form of a playboy model ( in the movie ) , which only functions as a supposed comic relief ( by the way of extremely stupid unfunny lines ) , and to have watering eyes and look away every time something bad happens in the movie . \\noh , of course , she appears naked from the waist up , and , of course , segal kisses her at the end after no development of their relationship ; they did not even seem to be interested in each other . \\ni have never seen so little chemistry between two people in a movie . \\noften , the villain saves the movie ; unfortunately , the villains here are cartoonish , stupid and unfunny , unmenacing . \\nhow many movies have psycho ex-special forces bad guys ? \\ntoo many . \\ni was able to predict the action all throughout the movie , including the moment where the sidekick saves the hero from certain death , the scene where the bad guy can kill the hero but proceeds to explain his plan to him , the scene where we are shown the hero's superiors are stupid , the scene where the bad guy loses his gun and has to fight the hero hand to hand , etc . . . \\nsimply said , this is movie-making by the numbers , boring , and potentially offensive in going for the lowest common denominator of the audience . \\nmy recommendation : if you go see it , bring a watch . \\nyou'll be looking at it for most of the movie . \\nmy . \\nrent die hard . \\nread a book . \\nstare at the sky . \\ndo not waste your time on this worthless piece of celluloid . \\nthe real sad thing is that there are a lot of movies out that i would rather have seen ; once again , dragged in by my friends , which by the way , liked the movie halfheartedly . \\nthey probably like wrestling too : - ) . \\n\" => predicted: 0 / actual: 0\n",
      "b'we share the descent into darkness of a talented boy pianist . \\nyears later we see his subsequent resurfacing ; in the mid 80\\'s a damaged man walks out of a rainstorm and back into the world . \\nthe movie charts the causes of his mental breakdown . \\nbased on the life story of david helfgott , this australian film is a rich exploration of the pressures drilling in upon a child-genius , compounded by the looming shadow of a domineering father . \\nin the 1950\\'s helfgott emerged as a child prodigy . \\nthe film traces his relationship with his father , whose encouragement comes at the cost of demanding david have no life beyond that of the black and white keys . \\ndavid is offered places in the usa , but his father refuses to let him leave australia . \\nthe effect this has upon helfgott is cleverly told via a single reverse tracked shot ; david is sobbing on the front doorway of his music teacher\\'s house . \\nhe is well lit via the external house lights . \\nhis teacher isn\\'t home . \\nwe pull back and see that the dark front room\\'s window has it\\'s curtains open . \\nthere , in a pool of blackness , is a grand piano . \\ndavid\\'s fall over the dark cliff has begun . \\ninstead of being told in a linear mode , shine jumps around in time , ala \" pulp fiction \" . \\nthis narrative device works well ; we see david as a boy , teenager in london and mental-patient in various snippets . \\nthe film then neatly loops back for its uplifting conclusion . \\nadult-helfgott\\'s return to the light is told in linear fashion . \\nthe lead role is played by 3 different actors , with the teenage-david ( taylor ) and adult-david ( rush ) standing out . \\nwhilst rush is known for his tv work in australia , i think this is his first major cinema work . \\nhis david , whilst clearly damaged - he keeps quoting his \" daddy \" in a babbling word torrent , cuddles strangers and grabs women on the breasts - is both touching and funny . \\ntaylor\\'s teenage-david is the more sympathy producing role . \\nwe are mute witness to his gradual breakdown as the pressures just keep on building . \\nhis father wants him to play the very demanding rachmaninov\\'s 3rd , whilst his teacher wants to start him with a simple mozart . \\ntechnically this is a beautiful film and a lot of thought has gone in to the production . \\ni particularly like the use of slow motion and sound effects . \\none scene has adult-helfgott happily babbling in a car in the rain . \\nthe sound of the windshield wipers fades up over his voice . \\nwith a clever subtlety , the wiper sound appears to morph into a rhythmic thumping , but of the same beat . \\nthe image dissolves and we realise the thumping is the slow motion applause of a crowd . \\nbut it\\'s us being clapped . \\nwe are young-david walking up to the stage for our first public show . \\nthe music , as you would expect from a film of this subject matter , is critical . \\nand it works very well . \\nthe \\'miming\\' of the actors piano playing is faultless ( apparently rush didn\\'t mime ; he really did play ) \\nhelfgott\\'s life is certainly not without it\\'s sympathetic people . \\nindeed his return to the \\'normal\\' world is accelerated by his chance meetings with two very special women . \\nhis ultimately uplifting story is a magic piece of theatre craft . \\nit shows that with the \\'help of god\\' we can all find our way back home . \\n' => predicted: 1 / actual: 1\n",
      "b'many people dislike french films for their lack of closure . \\nwhile possibly shallow , i\\'ve often had a desire for a sense of epiphany , or at least a resolution , in the films which i view . \\nthere is no revelation in un coeur en hiver in the traditional ; however , the film is incredibly successful in its passionate dramatization of a passion-denying protagonist , stephane ( daniel auteuil ) . \\nstephane ( daniel auteuil ) is a master violin maker . \\nhe is passionless about all that which surrounds him except his craft and the music which his craft is responsible for producing . \\neven the relationship between he and his boss , maxime ( andre dussollier ) is a controlled , and almost manipulated association , highlighted by the fact that stephane permits maxime to win close squash matches . \\nin the beginning of the movie , stephane is a closed , solitary individual and the audience is carefully left to wonder about the depth of emotion behind this enigmatic man . \\ncamille kessler ( emmanuelle beart ) is a master violinist and the new love of maximes . \\nmaxime is so much in love with camille that he plans to and does leave his wife . \\nlike stephane , camille is outwardly very controlled and reserved , sacrificing all thought and emotion to her violin and the music which emerges . \\nwhen stephane and camille meet , there is a recognition of a bonding by both individuals . \\nhowever , whereas camille submits to the wild interplay of emotions which she now feels for stephane , stephane only admits that camille is attracted to him . \\nstephane ignores his feelings for camille , which the audience cannot help but to see is present . \\nas the movie progresses , the two characters become more and more polarized in their views and emotions for one another . \\nthese two people , with very similar approaches to life initially , react to their new circumstance very differently . \\nstephane becomes even more rational and controlled , while camille becomes more tempestuous , until she almost borders on suffering a nervous breakdown due to the inability to consummate their relationship . \\nhowever , their approach to each other is perhaps not surprising considering their vocation . \\nthe audience is led to believe that stephane may have been a genius as a violinist as well , due to his relationship with a master violin teacher . \\nhowever , apparently , he could not be a violinist due to his intolerance for flaws in his playing . \\nconsequently , stephane becomes a precision craftsmen with the instrument and no longer plays . \\nin contrast , camille had almost given the violin , years earlier . \\nhowever , with the aid of her manager , she has progressed to being almost one of the world\\'s finest , successfully submerging herself to her playing . \\nduring the course of the movie , we see both characters evolve as they struggle to meet the challenge of their new emotions . \\nstephane attempts to remain unchanged . \\nhowever , we do see subtle hints of his transformation . \\none of the most obvious is when he defeats maxime in squash . \\nthe development of all of the characters , many of which is not included in this synopsis , is incredible . \\namerican movies , with rare exceptions , have not and i would daresay cannot approach foreign films in character development . \\nin its essence , this movie is about the development and growth of the characters , camille and stephane . \\nthe portrayal of all the other characters in the movie , including a death , is to further the development of camille\\'s and stepahne\\'s characters . \\ni am not sure why berardinelli says , \" at times it becomes difficult to determine whether stephane should be pitied or vilified , and it is to auteuil\\'s credit that he manages to maintain this uncertainty . \" \\nthis movie is not about judging stephane\\'s actions as being right or wrong , but about viewing their growth and accepting the characters as who they are . \\ni find the ending appropriate ; unfortunately , i found the last ten minutes which led up to the final scene to be very unfulfilling . \\nthis portion of the film is where the \" sense of closure \" could have been successfully accomplished . \\nunfortunately , there is a hurried and almost a soap opera-type surge of emotions from all of the characters . \\nwhile ravel may not be quite as accomplished as schubert or mozart , ravel has his day in this film . \\nthe synergism of the tension of ravel\\'s music and tension on the screen is the best i have ever seen . \\nthe directing in this movie is wonderful . \\nthe actors and actresses are excellent , each playing their part with great sincerity and warmth . \\nemmanuelle beart\\'s personality is beautiful . \\nand needless to say , i must say that emmanuelle beart , herself , is beautiful . \\nbesides the near ending , the only other criticism of the movie which i have is that the movie is almost too cerebral . \\ni almost left with the sense little happened because almost all the changes which occur in the movie happen in deep in their psyches and little in their personalities or the situations which they end as part of . \\nthe one question which i am left with is while they have accepted their lot , has their attitude towards love changed ? \\ni have several possibilities which i believe the movie hints at , but i am unsure of which the director is espousing . \\nin summary , this movie is solely about the character growth of two characters who almost develop a relationship . \\nin the process , we see their attitude towards life and other people . \\nin itself , i do not believe un coeur is a complicated movie . \\nwhere it does become complicated is when we juxtapose the scenes of the movie into the greater walk of life where we , as americans , have preconceived american notions of relationship , love , and people . \\ni do wonder how the movie translates when viewed within its native french culture . \\nhowever , i , bringing my american preconceptions , enjoyed the film . \\ni would welcome any comments about this movie from any who have seen it . \\n' => predicted: 1 / actual: 1\n"
     ]
    }
   ],
   "source": [
    "for doc, prediction, actual in zip(docs_test[:5], pred[:5], y_test[:5]):\n",
    "    #The %r => %s formatting string is used to print the document (represented by %r) \n",
    "    #and its predicted category label (represented by %s) for each document in the test_docs list.\n",
    "    print(f\"{doc} => predicted: {prediction} / actual: {actual}\")"
   ]
  },
  {
   "cell_type": "code",
   "execution_count": null,
   "id": "be405aa0",
   "metadata": {},
   "outputs": [],
   "source": []
  },
  {
   "cell_type": "code",
   "execution_count": null,
   "id": "f781dd79",
   "metadata": {},
   "outputs": [],
   "source": []
  }
 ],
 "metadata": {
  "kernelspec": {
   "display_name": "nlp2022",
   "language": "python",
   "name": "nlp2022"
  },
  "language_info": {
   "codemirror_mode": {
    "name": "ipython",
    "version": 3
   },
   "file_extension": ".py",
   "mimetype": "text/x-python",
   "name": "python",
   "nbconvert_exporter": "python",
   "pygments_lexer": "ipython3",
   "version": "3.9.16"
  }
 },
 "nbformat": 4,
 "nbformat_minor": 5
}
